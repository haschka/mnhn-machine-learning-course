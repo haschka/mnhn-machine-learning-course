{
 "cells": [
  {
   "cell_type": "markdown",
   "metadata": {},
   "source": [
    "# Text Mining with tweets ( Hillary vs Trump ) and PCA"
   ]
  },
  {
   "cell_type": "markdown",
   "metadata": {},
   "source": [
    "### Exploring the dataset"
   ]
  },
  {
   "cell_type": "code",
   "execution_count": 0,
   "metadata": {
    "colab": {},
    "colab_type": "code",
    "id": "NNUquFLT-yQ8"
   },
   "outputs": [],
   "source": [
    "import pandas as pd \n",
    "df = pd.read_csv('tweets.csv')"
   ]
  },
  {
   "cell_type": "code",
   "execution_count": 0,
   "metadata": {
    "colab": {
     "base_uri": "https://localhost:8080/",
     "height": 187
    },
    "colab_type": "code",
    "id": "uV_VXV-H_ceD",
    "outputId": "853e03ea-db0c-4401-aad1-3ea8ea47c4dc"
   },
   "outputs": [
    {
     "data": {
      "text/plain": [
       "Index(['id', 'handle', 'text', 'is_retweet', 'original_author', 'time',\n",
       "       'in_reply_to_screen_name', 'in_reply_to_status_id',\n",
       "       'in_reply_to_user_id', 'is_quote_status', 'lang', 'retweet_count',\n",
       "       'favorite_count', 'longitude', 'latitude', 'place_id',\n",
       "       'place_full_name', 'place_name', 'place_type', 'place_country_code',\n",
       "       'place_country', 'place_contained_within', 'place_attributes',\n",
       "       'place_bounding_box', 'source_url', 'truncated', 'entities',\n",
       "       'extended_entities'],\n",
       "      dtype='object')"
      ]
     },
     "execution_count": 4,
     "metadata": {
      "tags": []
     },
     "output_type": "execute_result"
    }
   ],
   "source": [
    "df.columns"
   ]
  },
  {
   "cell_type": "code",
   "execution_count": 0,
   "metadata": {
    "colab": {
     "base_uri": "https://localhost:8080/",
     "height": 36
    },
    "colab_type": "code",
    "id": "LawykCK1_wXc",
    "outputId": "53c7dd26-a904-42bf-ae68-a643918e25b4"
   },
   "outputs": [
    {
     "data": {
      "text/plain": [
       "array(['HillaryClinton', 'realDonaldTrump'], dtype=object)"
      ]
     },
     "execution_count": 6,
     "metadata": {
      "tags": []
     },
     "output_type": "execute_result"
    }
   ],
   "source": [
    "df['handle'].unique()"
   ]
  },
  {
   "cell_type": "code",
   "execution_count": 0,
   "metadata": {
    "colab": {
     "base_uri": "https://localhost:8080/",
     "height": 56
    },
    "colab_type": "code",
    "id": "5h_bLW0F_8Y9",
    "outputId": "6027a19c-06f0-4203-c92e-3783f2fc483f"
   },
   "outputs": [
    {
     "data": {
      "text/plain": [
       "\"Both candidates were asked about how they'd confront racial injustice. Only one had a real answer. https://t.co/sjnEokckis\""
      ]
     },
     "execution_count": 7,
     "metadata": {
      "tags": []
     },
     "output_type": "execute_result"
    }
   ],
   "source": [
    "df['text'][4]"
   ]
  },
  {
   "cell_type": "code",
   "execution_count": 0,
   "metadata": {
    "colab": {
     "base_uri": "https://localhost:8080/",
     "height": 130
    },
    "colab_type": "code",
    "id": "SujHgDYNAGyM",
    "outputId": "2975ded0-171f-42de-ae35-12205884d0d3"
   },
   "outputs": [
    {
     "data": {
      "text/plain": [
       "0    The question in this election: Who can put the...\n",
       "1    Last night, Donald Trump said not paying taxes...\n",
       "2    Couldn't be more proud of @HillaryClinton. Her...\n",
       "3    If we stand together, there's nothing we can't...\n",
       "4    Both candidates were asked about how they'd co...\n",
       "Name: text, dtype: object"
      ]
     },
     "execution_count": 8,
     "metadata": {
      "tags": []
     },
     "output_type": "execute_result"
    }
   ],
   "source": [
    "df['text'].head()"
   ]
  },
  {
   "cell_type": "code",
   "execution_count": 0,
   "metadata": {
    "colab": {
     "base_uri": "https://localhost:8080/",
     "height": 56
    },
    "colab_type": "code",
    "id": "eRpbDc_YAM8C",
    "outputId": "cfb73350-bdd0-42e7-d18c-34081984e77f"
   },
   "outputs": [
    {
     "data": {
      "text/plain": [
       "'Last night, Donald Trump said not paying taxes was \"smart.\" You know what I call it? Unpatriotic. https://t.co/t0xmBfj7zF'"
      ]
     },
     "execution_count": 9,
     "metadata": {
      "tags": []
     },
     "output_type": "execute_result"
    }
   ],
   "source": [
    "df['text'][1]"
   ]
  },
  {
   "cell_type": "markdown",
   "metadata": {},
   "source": [
    "### Getting rid of trailing urls that will perturb our text minding in the dataset"
   ]
  },
  {
   "cell_type": "code",
   "execution_count": 0,
   "metadata": {
    "colab": {},
    "colab_type": "code",
    "id": "N3grQFlwATAY"
   },
   "outputs": [],
   "source": [
    "import re"
   ]
  },
  {
   "cell_type": "code",
   "execution_count": 0,
   "metadata": {
    "colab": {
     "base_uri": "https://localhost:8080/",
     "height": 56
    },
    "colab_type": "code",
    "id": "xRhNAXt6A1YL",
    "outputId": "0c5fc3ad-aabe-4d93-e210-cd20aa0b20fd"
   },
   "outputs": [
    {
     "data": {
      "text/plain": [
       "'Last night, Donald Trump said not paying taxes was \"smart.\" You know what I call it? Unpatriotic. '"
      ]
     },
     "execution_count": 13,
     "metadata": {
      "tags": []
     },
     "output_type": "execute_result"
    }
   ],
   "source": [
    "re.sub('http://\\S+|https://\\S+','',df['text'][1])"
   ]
  },
  {
   "cell_type": "markdown",
   "metadata": {},
   "source": [
    "### Transforming all Tweets into a nice dataframe"
   ]
  },
  {
   "cell_type": "code",
   "execution_count": 0,
   "metadata": {
    "colab": {},
    "colab_type": "code",
    "id": "LSktDZqRBQ_Z"
   },
   "outputs": [],
   "source": [
    "tweet_text=[]\n",
    "clinton_trump_musk=[]\n",
    "for i in range(len(df)):\n",
    "  tweet_text.append(re.sub('http://\\S+|https://\\S+','',df['text'][i]))\n",
    "  if df.loc[i]['handle'] == 'realDonaldTrump':\n",
    "    clinton_trump.append(0)\n",
    "  if df.loc[i]['handle'] == 'HillaryClinton':\n",
    "    clinton_trump.append(1)"
   ]
  },
  {
   "cell_type": "code",
   "execution_count": 0,
   "metadata": {
    "colab": {},
    "colab_type": "code",
    "id": "DllCTxP2DSmS"
   },
   "outputs": [],
   "source": [
    "nos_tweets = pd.DataFrame({ 'text' : tweet_text, 'c_t' : clinton_trump })"
   ]
  },
  {
   "cell_type": "code",
   "execution_count": 0,
   "metadata": {
    "colab": {},
    "colab_type": "code",
    "id": "LV9-fyQ2DY7i"
   },
   "outputs": [],
   "source": [
    "import numpy as np\n",
    "nos_tweets_ale = nos_tweets.reindex(np.random.permutation(nos_tweets.index)).copy()"
   ]
  },
  {
   "cell_type": "code",
   "execution_count": 0,
   "metadata": {
    "colab": {
     "base_uri": "https://localhost:8080/",
     "height": 424
    },
    "colab_type": "code",
    "id": "NTFVR1WgD_40",
    "outputId": "c31dc328-7c71-4ea7-9549-276865719352"
   },
   "outputs": [
    {
     "data": {
      "text/html": [
       "<div>\n",
       "<style scoped>\n",
       "    .dataframe tbody tr th:only-of-type {\n",
       "        vertical-align: middle;\n",
       "    }\n",
       "\n",
       "    .dataframe tbody tr th {\n",
       "        vertical-align: top;\n",
       "    }\n",
       "\n",
       "    .dataframe thead th {\n",
       "        text-align: right;\n",
       "    }\n",
       "</style>\n",
       "<table border=\"1\" class=\"dataframe\">\n",
       "  <thead>\n",
       "    <tr style=\"text-align: right;\">\n",
       "      <th></th>\n",
       "      <th>text</th>\n",
       "      <th>c_t</th>\n",
       "    </tr>\n",
       "  </thead>\n",
       "  <tbody>\n",
       "    <tr>\n",
       "      <th>2083</th>\n",
       "      <td>\"Hillary Clinton may be our 1st woman presiden...</td>\n",
       "      <td>1</td>\n",
       "    </tr>\n",
       "    <tr>\n",
       "      <th>3491</th>\n",
       "      <td>If you’re too dangerous to get on a plane, you...</td>\n",
       "      <td>1</td>\n",
       "    </tr>\n",
       "    <tr>\n",
       "      <th>2043</th>\n",
       "      <td>\"No major party nominee in the history of this...</td>\n",
       "      <td>1</td>\n",
       "    </tr>\n",
       "    <tr>\n",
       "      <th>3766</th>\n",
       "      <td>WATCH NOW: The @realDonaldTrump supporters you...</td>\n",
       "      <td>0</td>\n",
       "    </tr>\n",
       "    <tr>\n",
       "      <th>1324</th>\n",
       "      <td>“@TeamUSA is showing the world what this count...</td>\n",
       "      <td>1</td>\n",
       "    </tr>\n",
       "    <tr>\n",
       "      <th>...</th>\n",
       "      <td>...</td>\n",
       "      <td>...</td>\n",
       "    </tr>\n",
       "    <tr>\n",
       "      <th>3899</th>\n",
       "      <td>Gold Star families like Betsy’s have paid the ...</td>\n",
       "      <td>1</td>\n",
       "    </tr>\n",
       "    <tr>\n",
       "      <th>2676</th>\n",
       "      <td>Mike Pence's battle against Planned Parenthood...</td>\n",
       "      <td>1</td>\n",
       "    </tr>\n",
       "    <tr>\n",
       "      <th>1698</th>\n",
       "      <td>Join me in Florida tomorrow! \\n#MakeAmericaGre...</td>\n",
       "      <td>0</td>\n",
       "    </tr>\n",
       "    <tr>\n",
       "      <th>6048</th>\n",
       "      <td>Thank you for your interest &amp;amp; support duri...</td>\n",
       "      <td>0</td>\n",
       "    </tr>\n",
       "    <tr>\n",
       "      <th>1296</th>\n",
       "      <td>With just 83 days until Election Day, Trump hi...</td>\n",
       "      <td>1</td>\n",
       "    </tr>\n",
       "  </tbody>\n",
       "</table>\n",
       "<p>6444 rows × 2 columns</p>\n",
       "</div>"
      ],
      "text/plain": [
       "                                                   text  c_t\n",
       "2083  \"Hillary Clinton may be our 1st woman presiden...    1\n",
       "3491  If you’re too dangerous to get on a plane, you...    1\n",
       "2043  \"No major party nominee in the history of this...    1\n",
       "3766  WATCH NOW: The @realDonaldTrump supporters you...    0\n",
       "1324  “@TeamUSA is showing the world what this count...    1\n",
       "...                                                 ...  ...\n",
       "3899  Gold Star families like Betsy’s have paid the ...    1\n",
       "2676  Mike Pence's battle against Planned Parenthood...    1\n",
       "1698  Join me in Florida tomorrow! \\n#MakeAmericaGre...    0\n",
       "6048  Thank you for your interest &amp; support duri...    0\n",
       "1296  With just 83 days until Election Day, Trump hi...    1\n",
       "\n",
       "[6444 rows x 2 columns]"
      ]
     },
     "execution_count": 28,
     "metadata": {
      "tags": []
     },
     "output_type": "execute_result"
    }
   ],
   "source": [
    "nos_tweets_ale"
   ]
  },
  {
   "cell_type": "markdown",
   "metadata": {},
   "source": [
    "### creating a trainingset from our tweets"
   ]
  },
  {
   "cell_type": "code",
   "execution_count": 0,
   "metadata": {
    "colab": {},
    "colab_type": "code",
    "id": "kP_fDdUPFNMF"
   },
   "outputs": [],
   "source": [
    "tweets_tr = nos_tweets_ale[:4444].copy()"
   ]
  },
  {
   "cell_type": "code",
   "execution_count": 0,
   "metadata": {
    "colab": {
     "base_uri": "https://localhost:8080/",
     "height": 424
    },
    "colab_type": "code",
    "id": "JRcdg5y1Edxr",
    "outputId": "36fb9b75-ec4e-420f-d2c3-d5ffe8d5b13a"
   },
   "outputs": [
    {
     "data": {
      "text/html": [
       "<div>\n",
       "<style scoped>\n",
       "    .dataframe tbody tr th:only-of-type {\n",
       "        vertical-align: middle;\n",
       "    }\n",
       "\n",
       "    .dataframe tbody tr th {\n",
       "        vertical-align: top;\n",
       "    }\n",
       "\n",
       "    .dataframe thead th {\n",
       "        text-align: right;\n",
       "    }\n",
       "</style>\n",
       "<table border=\"1\" class=\"dataframe\">\n",
       "  <thead>\n",
       "    <tr style=\"text-align: right;\">\n",
       "      <th></th>\n",
       "      <th>text</th>\n",
       "      <th>c_t</th>\n",
       "    </tr>\n",
       "  </thead>\n",
       "  <tbody>\n",
       "    <tr>\n",
       "      <th>2083</th>\n",
       "      <td>\"Hillary Clinton may be our 1st woman presiden...</td>\n",
       "      <td>1</td>\n",
       "    </tr>\n",
       "    <tr>\n",
       "      <th>3491</th>\n",
       "      <td>If you’re too dangerous to get on a plane, you...</td>\n",
       "      <td>1</td>\n",
       "    </tr>\n",
       "    <tr>\n",
       "      <th>2043</th>\n",
       "      <td>\"No major party nominee in the history of this...</td>\n",
       "      <td>1</td>\n",
       "    </tr>\n",
       "    <tr>\n",
       "      <th>3766</th>\n",
       "      <td>WATCH NOW: The @realDonaldTrump supporters you...</td>\n",
       "      <td>0</td>\n",
       "    </tr>\n",
       "    <tr>\n",
       "      <th>1324</th>\n",
       "      <td>“@TeamUSA is showing the world what this count...</td>\n",
       "      <td>1</td>\n",
       "    </tr>\n",
       "    <tr>\n",
       "      <th>...</th>\n",
       "      <td>...</td>\n",
       "      <td>...</td>\n",
       "    </tr>\n",
       "    <tr>\n",
       "      <th>6427</th>\n",
       "      <td>\"@Kacee50: @realDonaldTrump Women make up the ...</td>\n",
       "      <td>0</td>\n",
       "    </tr>\n",
       "    <tr>\n",
       "      <th>3011</th>\n",
       "      <td>Just like he shouldn’t have his finger on the ...</td>\n",
       "      <td>1</td>\n",
       "    </tr>\n",
       "    <tr>\n",
       "      <th>4716</th>\n",
       "      <td>Voters in CT, DE, MD, PA, and RI head to the p...</td>\n",
       "      <td>1</td>\n",
       "    </tr>\n",
       "    <tr>\n",
       "      <th>1786</th>\n",
       "      <td>I turned down a meeting with Charles and David...</td>\n",
       "      <td>0</td>\n",
       "    </tr>\n",
       "    <tr>\n",
       "      <th>130</th>\n",
       "      <td>Instead of driving jobs and wealth away, AMERI...</td>\n",
       "      <td>0</td>\n",
       "    </tr>\n",
       "  </tbody>\n",
       "</table>\n",
       "<p>4444 rows × 2 columns</p>\n",
       "</div>"
      ],
      "text/plain": [
       "                                                   text  c_t\n",
       "2083  \"Hillary Clinton may be our 1st woman presiden...    1\n",
       "3491  If you’re too dangerous to get on a plane, you...    1\n",
       "2043  \"No major party nominee in the history of this...    1\n",
       "3766  WATCH NOW: The @realDonaldTrump supporters you...    0\n",
       "1324  “@TeamUSA is showing the world what this count...    1\n",
       "...                                                 ...  ...\n",
       "6427  \"@Kacee50: @realDonaldTrump Women make up the ...    0\n",
       "3011  Just like he shouldn’t have his finger on the ...    1\n",
       "4716  Voters in CT, DE, MD, PA, and RI head to the p...    1\n",
       "1786  I turned down a meeting with Charles and David...    0\n",
       "130   Instead of driving jobs and wealth away, AMERI...    0\n",
       "\n",
       "[4444 rows x 2 columns]"
      ]
     },
     "execution_count": 30,
     "metadata": {
      "tags": []
     },
     "output_type": "execute_result"
    }
   ],
   "source": [
    "tweets_tr"
   ]
  },
  {
   "cell_type": "markdown",
   "metadata": {},
   "source": [
    "### Creating a testset from our tweets"
   ]
  },
  {
   "cell_type": "code",
   "execution_count": 0,
   "metadata": {
    "colab": {},
    "colab_type": "code",
    "id": "SHbtFXKcGgX6"
   },
   "outputs": [],
   "source": [
    "tweets_te = nos_tweets_ale[4444:].copy()"
   ]
  },
  {
   "cell_type": "code",
   "execution_count": 0,
   "metadata": {
    "colab": {
     "base_uri": "https://localhost:8080/",
     "height": 424
    },
    "colab_type": "code",
    "id": "qHSN5Ri7GrQk",
    "outputId": "00724d6a-465c-4f0b-ee2f-3396f9122dc4"
   },
   "outputs": [
    {
     "data": {
      "text/html": [
       "<div>\n",
       "<style scoped>\n",
       "    .dataframe tbody tr th:only-of-type {\n",
       "        vertical-align: middle;\n",
       "    }\n",
       "\n",
       "    .dataframe tbody tr th {\n",
       "        vertical-align: top;\n",
       "    }\n",
       "\n",
       "    .dataframe thead th {\n",
       "        text-align: right;\n",
       "    }\n",
       "</style>\n",
       "<table border=\"1\" class=\"dataframe\">\n",
       "  <thead>\n",
       "    <tr style=\"text-align: right;\">\n",
       "      <th></th>\n",
       "      <th>text</th>\n",
       "      <th>c_t</th>\n",
       "    </tr>\n",
       "  </thead>\n",
       "  <tbody>\n",
       "    <tr>\n",
       "      <th>227</th>\n",
       "      <td>Tomorrow's the day! Knock on doors and make ca...</td>\n",
       "      <td>0</td>\n",
       "    </tr>\n",
       "    <tr>\n",
       "      <th>2563</th>\n",
       "      <td>1973: \\n \\nDonald Trump is sued for housing di...</td>\n",
       "      <td>1</td>\n",
       "    </tr>\n",
       "    <tr>\n",
       "      <th>3606</th>\n",
       "      <td>\"I’ve seen her judgment, toughness, and commit...</td>\n",
       "      <td>1</td>\n",
       "    </tr>\n",
       "    <tr>\n",
       "      <th>3268</th>\n",
       "      <td>They are who we're fighting for #NotOneMore</td>\n",
       "      <td>1</td>\n",
       "    </tr>\n",
       "    <tr>\n",
       "      <th>857</th>\n",
       "      <td>Unions stand up for workers who need someone t...</td>\n",
       "      <td>1</td>\n",
       "    </tr>\n",
       "    <tr>\n",
       "      <th>...</th>\n",
       "      <td>...</td>\n",
       "      <td>...</td>\n",
       "    </tr>\n",
       "    <tr>\n",
       "      <th>3899</th>\n",
       "      <td>Gold Star families like Betsy’s have paid the ...</td>\n",
       "      <td>1</td>\n",
       "    </tr>\n",
       "    <tr>\n",
       "      <th>2676</th>\n",
       "      <td>Mike Pence's battle against Planned Parenthood...</td>\n",
       "      <td>1</td>\n",
       "    </tr>\n",
       "    <tr>\n",
       "      <th>1698</th>\n",
       "      <td>Join me in Florida tomorrow! \\n#MakeAmericaGre...</td>\n",
       "      <td>0</td>\n",
       "    </tr>\n",
       "    <tr>\n",
       "      <th>6048</th>\n",
       "      <td>Thank you for your interest &amp;amp; support duri...</td>\n",
       "      <td>0</td>\n",
       "    </tr>\n",
       "    <tr>\n",
       "      <th>1296</th>\n",
       "      <td>With just 83 days until Election Day, Trump hi...</td>\n",
       "      <td>1</td>\n",
       "    </tr>\n",
       "  </tbody>\n",
       "</table>\n",
       "<p>2000 rows × 2 columns</p>\n",
       "</div>"
      ],
      "text/plain": [
       "                                                   text  c_t\n",
       "227   Tomorrow's the day! Knock on doors and make ca...    0\n",
       "2563  1973: \\n \\nDonald Trump is sued for housing di...    1\n",
       "3606  \"I’ve seen her judgment, toughness, and commit...    1\n",
       "3268      They are who we're fighting for #NotOneMore      1\n",
       "857   Unions stand up for workers who need someone t...    1\n",
       "...                                                 ...  ...\n",
       "3899  Gold Star families like Betsy’s have paid the ...    1\n",
       "2676  Mike Pence's battle against Planned Parenthood...    1\n",
       "1698  Join me in Florida tomorrow! \\n#MakeAmericaGre...    0\n",
       "6048  Thank you for your interest &amp; support duri...    0\n",
       "1296  With just 83 days until Election Day, Trump hi...    1\n",
       "\n",
       "[2000 rows x 2 columns]"
      ]
     },
     "execution_count": 32,
     "metadata": {
      "tags": []
     },
     "output_type": "execute_result"
    }
   ],
   "source": [
    "tweets_te"
   ]
  },
  {
   "cell_type": "markdown",
   "metadata": {},
   "source": [
    "### Transforming Texts into vectors with CountVectorizer and TfidfTransfomer\n",
    "CountVectorizer Vector of the word dictionary of the whole dataset, each sample is then represented as a single vector contaning the counts of word appearances\n",
    "\n",
    "Tfidf transformer rescales counts according to Tf and Idf formulas"
   ]
  },
  {
   "cell_type": "code",
   "execution_count": 0,
   "metadata": {
    "colab": {},
    "colab_type": "code",
    "id": "-Syb4ZT8Gs1k"
   },
   "outputs": [],
   "source": [
    "from sklearn.feature_extraction.text import CountVectorizer, TfidfTransformer"
   ]
  },
  {
   "cell_type": "code",
   "execution_count": 0,
   "metadata": {
    "colab": {},
    "colab_type": "code",
    "id": "iPa_5zo9G_Hs"
   },
   "outputs": [],
   "source": [
    "X = tweets_tr['text']\n",
    "Y = tweets_tr['c_t']\n",
    "count_vect = CountVectorizer()"
   ]
  },
  {
   "cell_type": "code",
   "execution_count": 0,
   "metadata": {
    "colab": {
     "base_uri": "https://localhost:8080/",
     "height": 130
    },
    "colab_type": "code",
    "id": "99kF_HRuJ7iO",
    "outputId": "ce4fe91a-af94-40de-cf3b-4d787157072a"
   },
   "outputs": [
    {
     "data": {
      "text/plain": [
       "CountVectorizer(analyzer='word', binary=False, decode_error='strict',\n",
       "                dtype=<class 'numpy.int64'>, encoding='utf-8', input='content',\n",
       "                lowercase=True, max_df=1.0, max_features=None, min_df=1,\n",
       "                ngram_range=(1, 1), preprocessor=None, stop_words=None,\n",
       "                strip_accents=None, token_pattern='(?u)\\\\b\\\\w\\\\w+\\\\b',\n",
       "                tokenizer=None, vocabulary=None)"
      ]
     },
     "execution_count": 37,
     "metadata": {
      "tags": []
     },
     "output_type": "execute_result"
    }
   ],
   "source": [
    "count_vect.fit(X)"
   ]
  },
  {
   "cell_type": "code",
   "execution_count": 0,
   "metadata": {
    "colab": {},
    "colab_type": "code",
    "id": "LMr9Uny6KANv"
   },
   "outputs": [],
   "source": [
    "X_counts = count_vect.transform(X)"
   ]
  },
  {
   "cell_type": "code",
   "execution_count": 0,
   "metadata": {
    "colab": {
     "base_uri": "https://localhost:8080/",
     "height": 55
    },
    "colab_type": "code",
    "id": "A4-PqCTXKFrG",
    "outputId": "d6832b63-7b75-42e6-f614-d2a2c8356a8d"
   },
   "outputs": [
    {
     "data": {
      "text/plain": [
       "<4444x7642 sparse matrix of type '<class 'numpy.int64'>'\n",
       "\twith 67807 stored elements in Compressed Sparse Row format>"
      ]
     },
     "execution_count": 39,
     "metadata": {
      "tags": []
     },
     "output_type": "execute_result"
    }
   ],
   "source": [
    "X_counts"
   ]
  },
  {
   "cell_type": "code",
   "execution_count": 0,
   "metadata": {
    "colab": {},
    "colab_type": "code",
    "id": "lEyTVlkkKStc"
   },
   "outputs": [],
   "source": [
    "tf_transformer = TfidfTransformer(use_idf=False)"
   ]
  },
  {
   "cell_type": "code",
   "execution_count": 0,
   "metadata": {
    "colab": {},
    "colab_type": "code",
    "id": "vxyd2zQ_LF2v"
   },
   "outputs": [],
   "source": [
    "tf_transformer.fit(X_counts)\n",
    "X_tf = tf_transformer.transform(X_counts)"
   ]
  },
  {
   "cell_type": "code",
   "execution_count": 0,
   "metadata": {
    "colab": {
     "base_uri": "https://localhost:8080/",
     "height": 55
    },
    "colab_type": "code",
    "id": "lKuPGOBnMJrN",
    "outputId": "07c5b846-dcaf-43b9-8aa6-c54902585ffc"
   },
   "outputs": [
    {
     "data": {
      "text/plain": [
       "<4444x7642 sparse matrix of type '<class 'numpy.float64'>'\n",
       "\twith 67807 stored elements in Compressed Sparse Row format>"
      ]
     },
     "execution_count": 42,
     "metadata": {
      "tags": []
     },
     "output_type": "execute_result"
    }
   ],
   "source": [
    "X_tf"
   ]
  },
  {
   "cell_type": "code",
   "execution_count": 0,
   "metadata": {
    "colab": {},
    "colab_type": "code",
    "id": "TP87vpvaMORV"
   },
   "outputs": [],
   "source": [
    "from sklearn.naive_bayes import MultinomialNB"
   ]
  },
  {
   "cell_type": "code",
   "execution_count": 0,
   "metadata": {
    "colab": {},
    "colab_type": "code",
    "id": "sgscAmI1NhlV"
   },
   "outputs": [],
   "source": [
    "clf = MultinomialNB()"
   ]
  },
  {
   "cell_type": "code",
   "execution_count": 0,
   "metadata": {
    "colab": {
     "base_uri": "https://localhost:8080/",
     "height": 36
    },
    "colab_type": "code",
    "id": "GTswpMLGNo-m",
    "outputId": "226778dc-d44b-422d-a4a9-18f8417f7247"
   },
   "outputs": [
    {
     "data": {
      "text/plain": [
       "MultinomialNB(alpha=1.0, class_prior=None, fit_prior=True)"
      ]
     },
     "execution_count": 48,
     "metadata": {
      "tags": []
     },
     "output_type": "execute_result"
    }
   ],
   "source": [
    "clf.fit(X_tf,Y)"
   ]
  },
  {
   "cell_type": "markdown",
   "metadata": {},
   "source": [
    "### building a pipeline of a classifier with all transformations"
   ]
  },
  {
   "cell_type": "code",
   "execution_count": 0,
   "metadata": {
    "colab": {},
    "colab_type": "code",
    "id": "ltz9hEj8Nu8P"
   },
   "outputs": [],
   "source": [
    "from sklearn.pipeline import Pipeline"
   ]
  },
  {
   "cell_type": "code",
   "execution_count": 0,
   "metadata": {
    "colab": {},
    "colab_type": "code",
    "id": "tMQ3mv5NOBwu"
   },
   "outputs": [],
   "source": [
    "text_clf = Pipeline([('vect', CountVectorizer()),\n",
    "                     ('tfidf', TfidfTransformer(use_idf=False)),\n",
    "                     ('clf', MultinomialNB())])\n",
    "\n"
   ]
  },
  {
   "cell_type": "code",
   "execution_count": 0,
   "metadata": {
    "colab": {
     "base_uri": "https://localhost:8080/",
     "height": 338
    },
    "colab_type": "code",
    "id": "2pTtkLufPQrf",
    "outputId": "99923471-26e2-4427-e577-87f676dcfb8f"
   },
   "outputs": [
    {
     "data": {
      "text/plain": [
       "Pipeline(memory=None,\n",
       "         steps=[('vect',\n",
       "                 CountVectorizer(analyzer='word', binary=False,\n",
       "                                 decode_error='strict',\n",
       "                                 dtype=<class 'numpy.int64'>, encoding='utf-8',\n",
       "                                 input='content', lowercase=True, max_df=1.0,\n",
       "                                 max_features=None, min_df=1,\n",
       "                                 ngram_range=(1, 1), preprocessor=None,\n",
       "                                 stop_words=None, strip_accents=None,\n",
       "                                 token_pattern='(?u)\\\\b\\\\w\\\\w+\\\\b',\n",
       "                                 tokenizer=None, vocabulary=None)),\n",
       "                ('tfidf',\n",
       "                 TfidfTransformer(norm='l2', smooth_idf=True,\n",
       "                                  sublinear_tf=False, use_idf=False)),\n",
       "                ('clf',\n",
       "                 MultinomialNB(alpha=1.0, class_prior=None, fit_prior=True))],\n",
       "         verbose=False)"
      ]
     },
     "execution_count": 51,
     "metadata": {
      "tags": []
     },
     "output_type": "execute_result"
    }
   ],
   "source": [
    "text_clf.fit(X,Y)"
   ]
  },
  {
   "cell_type": "markdown",
   "metadata": {},
   "source": [
    "### Testing our pipeline with cross validation"
   ]
  },
  {
   "cell_type": "code",
   "execution_count": 0,
   "metadata": {
    "colab": {},
    "colab_type": "code",
    "id": "5S8_YAoePqqP"
   },
   "outputs": [],
   "source": [
    "from sklearn.model_selection import cross_val_score, ShuffleSplit, train_test_split"
   ]
  },
  {
   "cell_type": "code",
   "execution_count": 0,
   "metadata": {
    "colab": {},
    "colab_type": "code",
    "id": "f56zbsGdP9qN"
   },
   "outputs": [],
   "source": [
    "cv = ShuffleSplit(n_splits=50, test_size=0.3)\n",
    "score = cross_val_score(text_clf,X,Y,cv=cv)"
   ]
  },
  {
   "cell_type": "code",
   "execution_count": 0,
   "metadata": {
    "colab": {
     "base_uri": "https://localhost:8080/",
     "height": 36
    },
    "colab_type": "code",
    "id": "bsaZPcqGQXP1",
    "outputId": "8895d2ed-84a6-498b-f4a0-059da692cab9"
   },
   "outputs": [
    {
     "data": {
      "text/plain": [
       "0.8930284857571215"
      ]
     },
     "execution_count": 65,
     "metadata": {
      "tags": []
     },
     "output_type": "execute_result"
    }
   ],
   "source": [
    "score.mean()"
   ]
  },
  {
   "cell_type": "code",
   "execution_count": 0,
   "metadata": {
    "colab": {
     "base_uri": "https://localhost:8080/",
     "height": 36
    },
    "colab_type": "code",
    "id": "f78CPm0xQa1_",
    "outputId": "e09a2865-aba5-47ee-8e44-38f7f7e2e9e8"
   },
   "outputs": [
    {
     "data": {
      "text/plain": [
       "0.01505011420010093"
      ]
     },
     "execution_count": 66,
     "metadata": {
      "tags": []
     },
     "output_type": "execute_result"
    }
   ],
   "source": [
    "score.std()*2"
   ]
  },
  {
   "cell_type": "code",
   "execution_count": 0,
   "metadata": {
    "colab": {},
    "colab_type": "code",
    "id": "QNOlmGlwQgq9"
   },
   "outputs": [],
   "source": [
    "X_final, X_p, y_final, y_test = train_test_split(X, Y, test_size=0.3, random_state=42)"
   ]
  },
  {
   "cell_type": "code",
   "execution_count": 0,
   "metadata": {
    "colab": {
     "base_uri": "https://localhost:8080/",
     "height": 338
    },
    "colab_type": "code",
    "id": "7IyvUW-9Q3qG",
    "outputId": "46656eca-ce8b-49c4-e7d9-74fcc9019d98"
   },
   "outputs": [
    {
     "data": {
      "text/plain": [
       "Pipeline(memory=None,\n",
       "         steps=[('vect',\n",
       "                 CountVectorizer(analyzer='word', binary=False,\n",
       "                                 decode_error='strict',\n",
       "                                 dtype=<class 'numpy.int64'>, encoding='utf-8',\n",
       "                                 input='content', lowercase=True, max_df=1.0,\n",
       "                                 max_features=None, min_df=1,\n",
       "                                 ngram_range=(1, 1), preprocessor=None,\n",
       "                                 stop_words=None, strip_accents=None,\n",
       "                                 token_pattern='(?u)\\\\b\\\\w\\\\w+\\\\b',\n",
       "                                 tokenizer=None, vocabulary=None)),\n",
       "                ('tfidf',\n",
       "                 TfidfTransformer(norm='l2', smooth_idf=True,\n",
       "                                  sublinear_tf=False, use_idf=False)),\n",
       "                ('clf',\n",
       "                 MultinomialNB(alpha=1.0, class_prior=None, fit_prior=True))],\n",
       "         verbose=False)"
      ]
     },
     "execution_count": 68,
     "metadata": {
      "tags": []
     },
     "output_type": "execute_result"
    }
   ],
   "source": [
    "text_clf.fit(X_final,y_final)"
   ]
  },
  {
   "cell_type": "code",
   "execution_count": 0,
   "metadata": {
    "colab": {
     "base_uri": "https://localhost:8080/",
     "height": 36
    },
    "colab_type": "code",
    "id": "SaFdxHWGRpFO",
    "outputId": "073b563d-13c9-496c-ca12-f6699da050a5"
   },
   "outputs": [
    {
     "data": {
      "text/plain": [
       "array([0])"
      ]
     },
     "execution_count": 69,
     "metadata": {
      "tags": []
     },
     "output_type": "execute_result"
    }
   ],
   "source": [
    "text_clf.predict()"
   ]
  },
  {
   "cell_type": "markdown",
   "metadata": {},
   "source": [
    "### Performin Principal Component Ananlyses ( Dimensionality Reduction ) on a dataset"
   ]
  },
  {
   "cell_type": "code",
   "execution_count": 0,
   "metadata": {
    "colab": {},
    "colab_type": "code",
    "id": "XE2qDysqRxNB"
   },
   "outputs": [],
   "source": [
    "from sklearn.decomposition import PCA"
   ]
  },
  {
   "cell_type": "code",
   "execution_count": 0,
   "metadata": {
    "colab": {},
    "colab_type": "code",
    "id": "50FYAegOFFv8"
   },
   "outputs": [],
   "source": [
    "import pandas as pd\n",
    "df = pd.read_csv('train_data_cleaned.csv')"
   ]
  },
  {
   "cell_type": "code",
   "execution_count": 0,
   "metadata": {
    "colab": {},
    "colab_type": "code",
    "id": "6HaoN8aeF3NA"
   },
   "outputs": [],
   "source": [
    "pca_3d = PCA(n_components=3)"
   ]
  },
  {
   "cell_type": "code",
   "execution_count": 0,
   "metadata": {
    "colab": {
     "base_uri": "https://localhost:8080/",
     "height": 55
    },
    "colab_type": "code",
    "id": "xjjHcdjBGDV-",
    "outputId": "60c23be6-cdf9-4f29-c3d2-0e8deade65a9"
   },
   "outputs": [
    {
     "data": {
      "text/plain": [
       "PCA(copy=True, iterated_power='auto', n_components=3, random_state=None,\n",
       "    svd_solver='auto', tol=0.0, whiten=False)"
      ]
     },
     "execution_count": 5,
     "metadata": {
      "tags": []
     },
     "output_type": "execute_result"
    }
   ],
   "source": [
    "pca_3d.fit(df)"
   ]
  },
  {
   "cell_type": "code",
   "execution_count": 0,
   "metadata": {
    "colab": {
     "base_uri": "https://localhost:8080/",
     "height": 36
    },
    "colab_type": "code",
    "id": "Topw9dduGL1v",
    "outputId": "7fad94bd-7052-4287-df52-454f555d7563"
   },
   "outputs": [
    {
     "data": {
      "text/plain": [
       "array([7.53458007e+08, 1.64781329e+03, 7.71820065e+02])"
      ]
     },
     "execution_count": 6,
     "metadata": {
      "tags": []
     },
     "output_type": "execute_result"
    }
   ],
   "source": [
    "pca_3d.singular_values_"
   ]
  },
  {
   "cell_type": "code",
   "execution_count": 0,
   "metadata": {
    "colab": {},
    "colab_type": "code",
    "id": "4wNgSdyGGafF"
   },
   "outputs": [],
   "source": [
    "X_pca = pca_3d.transform(df)"
   ]
  },
  {
   "cell_type": "code",
   "execution_count": 0,
   "metadata": {
    "colab": {
     "base_uri": "https://localhost:8080/",
     "height": 1000
    },
    "colab_type": "code",
    "id": "bx8A_ot3Gnsu",
    "outputId": "3da68df7-3e3a-4647-b72f-dade29b5c4d7"
   },
   "outputs": [
    {
     "data": {
      "text/plain": [
       "array([[-5.82144965e+07,  2.05866887e+02,  3.46991474e+01],\n",
       "       [ 3.26783035e+07,  2.03203021e+02,  1.60511729e+01],\n",
       "       [-2.80608965e+07,  2.02006729e+02,  1.13023112e+01],\n",
       "       [-1.50144965e+07,  1.98967170e+02, -1.44488082e+00],\n",
       "       [-5.64000965e+07,  1.99782656e+02,  3.83420718e+01],\n",
       "       [ 1.10438304e+08,  1.92238886e+02, -1.49338530e+00],\n",
       "       [-3.23808965e+07,  1.96006576e+02, -1.13522313e+01],\n",
       "       [-5.49312965e+07,  1.94509234e+02, -5.55001225e+00],\n",
       "       [ 1.78175035e+07,  1.88539761e+02,  5.68904245e+01],\n",
       "       [ 7.71743035e+07,  1.86562792e+02,  5.25799984e+01],\n",
       "       [ 2.48159035e+07,  1.86809439e+02,  5.33569741e+01],\n",
       "       [-8.70729648e+06,  1.88261542e+02,  8.10416793e+00],\n",
       "       [ 1.05503518e+05,  1.83794526e+02, -3.27574147e+00],\n",
       "       [ 1.47071035e+07,  1.81055076e+02, -1.55890821e+01],\n",
       "       [-6.18432965e+07,  1.83564075e+02, -4.46098212e+01],\n",
       "       [ 2.22239035e+07,  1.78840314e+02,  3.45549796e+01],\n",
       "       [-5.31168965e+07,  1.80996114e+02,  3.45006640e+00],\n",
       "       [ 2.04095035e+07,  1.75586844e+02,  2.65609077e+01],\n",
       "       [-3.33312965e+07,  1.75092709e+02, -1.03151272e+01],\n",
       "       [-6.76320965e+07,  1.72997506e+02,  1.64266590e+01],\n",
       "       [ 2.37791035e+07,  1.68428734e+02,  2.34520829e+01],\n",
       "       [-5.57952965e+07,  1.71078410e+02, -3.11678019e+01],\n",
       "       [-4.27488965e+07,  1.63691788e+02,  2.42089385e+01],\n",
       "       [-6.81504965e+07,  1.63155353e+02,  4.20908014e+01],\n",
       "       [-2.74560965e+07,  1.60584870e+02, -2.63113251e+01],\n",
       "       [-2.93568965e+07,  1.57437451e+02, -1.35986081e+01],\n",
       "       [ 4.84895035e+07,  1.53762283e+02,  6.32847662e+00],\n",
       "       [ 1.35062304e+08,  1.47568350e+02,  1.57387851e+01],\n",
       "       [-3.82560965e+07,  1.49571117e+02, -2.75655854e+01],\n",
       "       [-5.92512965e+07,  1.48919871e+02, -3.09013596e+01],\n",
       "       [-1.39776965e+07,  1.45176272e+02, -5.11374727e+01],\n",
       "       [-2.36544965e+07,  1.45948844e+02,  3.78294616e+01],\n",
       "       [-1.47552965e+07,  1.44396495e+02,  9.06187392e+00],\n",
       "       [ 1.22879035e+07,  1.39425019e+02, -9.88368219e+00],\n",
       "       [-7.57536965e+07,  1.40379203e+02, -4.31367839e+01],\n",
       "       [ 7.90751035e+07,  1.34001040e+02, -4.77681826e+01],\n",
       "       [-3.36768965e+07,  1.37746319e+02, -4.69220679e+01],\n",
       "       [ 4.77119035e+07,  1.32657869e+02,  2.12426975e+01],\n",
       "       [ 1.96319035e+07,  1.29527384e+02, -2.13885358e+01],\n",
       "       [ 1.51219104e+08,  1.22526336e+02,  4.52726821e+01],\n",
       "       [-2.72832965e+07,  1.28184810e+02, -1.08562815e+01],\n",
       "       [-4.71552965e+07,  1.23041362e+02,  3.95699021e+01],\n",
       "       [ 1.35839035e+07,  1.17977304e+02, -5.07151469e+01],\n",
       "       [ 9.37631035e+07,  1.12333117e+02, -2.49887804e+01],\n",
       "       [-4.12809648e+06,  1.14887828e+02,  4.85833193e+00],\n",
       "       [ 8.91830352e+06,  1.13776956e+02,  2.14049486e+01],\n",
       "       [-4.24032965e+07,  1.09871503e+02,  2.67251362e+00],\n",
       "       [-4.04169648e+06,  1.06259298e+02, -2.51207208e+01],\n",
       "       [ 5.79935035e+07,  1.03165643e+02,  5.15847652e+01],\n",
       "       [ 1.10783035e+07,  9.70162952e+01, -2.33632462e+01],\n",
       "       [-8.44809648e+06,  9.42068671e+01,  2.18989101e+00],\n",
       "       [ 1.73855035e+07,  9.44320141e+01,  3.40385051e+01],\n",
       "       [ 4.58975035e+07,  7.98326975e+01,  6.34134335e+01],\n",
       "       [-7.11744965e+07,  8.47563480e+01, -3.76031605e+01],\n",
       "       [-5.35488965e+07,  8.33258199e+01, -1.19809430e+01],\n",
       "       [-1.63104965e+07,  8.07536097e+01, -2.23248176e+01],\n",
       "       [ 4.99583035e+07,  7.67852752e+01,  1.61460042e+01],\n",
       "       [ 6.02399035e+07,  7.64365519e+01,  3.32485531e+01],\n",
       "       [ 3.52703035e+07,  7.47446232e+01, -3.25831105e+01],\n",
       "       [-7.12608965e+07,  7.66021436e+01,  1.75421099e+01],\n",
       "       [-1.30272965e+07,  7.28376567e+01, -4.84075539e+01],\n",
       "       [ 4.18367035e+07,  7.00169318e+01,  1.51508348e+01],\n",
       "       [ 3.12959035e+07,  6.80688290e+01, -2.01961508e+01],\n",
       "       [ 1.03007035e+07,  6.46583737e+01,  4.89081063e+01],\n",
       "       [-3.50592965e+07,  6.47581572e+01, -7.22607848e+00],\n",
       "       [ 2.72351035e+07,  6.20277191e+01, -4.91844332e+01],\n",
       "       [-2.72832965e+07,  6.08613349e+01,  3.01593075e+01],\n",
       "       [ 6.24863035e+07,  5.63530197e+01,  1.84871030e+00],\n",
       "       [ 1.36703904e+08,  5.10294204e+01,  6.67880700e+00],\n",
       "       [ 4.38239035e+07,  5.36627608e+01, -8.51392456e+00],\n",
       "       [ 1.15363104e+08,  4.94757185e+01, -4.94916985e+01],\n",
       "       [-7.59264965e+07,  5.56638612e+01, -3.86795422e+01],\n",
       "       [-3.97248965e+07,  5.24731753e+01, -4.21138342e+01],\n",
       "       [-4.33536965e+07,  4.63266166e+01, -6.33887638e+00],\n",
       "       [-7.41120965e+07,  4.83202859e+01, -4.25369374e+01],\n",
       "       [ 8.34815035e+07,  4.14207498e+01,  8.57568315e+00],\n",
       "       [ 9.97247035e+07,  4.01496642e+01, -4.61530269e+01],\n",
       "       [ 9.60959035e+07,  3.68565449e+01, -3.00632769e+01],\n",
       "       [-1.01760965e+07,  3.85113488e+01, -3.35940274e+01],\n",
       "       [-3.22944965e+07,  3.85894326e+01, -4.47958014e+01],\n",
       "       [-3.74784965e+07,  2.37045226e+01,  3.08449577e+02],\n",
       "       [ 8.41727035e+07,  3.03419618e+01, -2.09940537e+01],\n",
       "       [-2.56416965e+07,  3.08511969e+01, -4.00325180e+01],\n",
       "       [-7.06560965e+07,  3.42109741e+01, -6.80513875e+01],\n",
       "       [ 4.90079035e+07,  2.62931037e+01, -4.67213101e+01],\n",
       "       [-6.00288965e+07,  2.45662404e+01,  3.22237346e+01],\n",
       "       [ 2.09270352e+06,  2.02074011e+01, -4.05146745e+01],\n",
       "       [-4.94016965e+07,  2.20135535e+01,  1.06047730e+01],\n",
       "       [ 1.66079035e+07,  1.48674058e+01, -2.57978246e+01],\n",
       "       [-1.32864965e+07,  1.42820502e+01, -1.47354204e+01],\n",
       "       [-5.16489648e+06,  1.43317908e+01, -4.72283567e+01],\n",
       "       [-6.58176965e+07,  7.47278311e+00, -3.63415218e+01],\n",
       "       [-4.81929648e+06,  6.13374000e+00, -2.25810818e+00],\n",
       "       [ 9.60950352e+06,  3.88428071e+00,  1.60423365e+01],\n",
       "       [ 5.14271035e+07,  2.34893926e+00,  3.15980371e+01],\n",
       "       [-3.43680965e+07,  2.61943871e+00,  9.12063665e+00],\n",
       "       [-3.99840965e+07, -3.75744917e+00,  2.39195789e+01],\n",
       "       [-5.77824965e+07, -1.67210955e+00, -2.22878854e+01],\n",
       "       [-1.44969648e+06, -5.66521422e+00, -4.45477115e+01],\n",
       "       [ 1.79039035e+07, -7.36028408e+00,  6.40621283e-01],\n",
       "       [ 2.94815035e+07, -9.56680792e+00,  3.37812470e+01],\n",
       "       [-3.94656965e+07, -1.05461008e+01,  3.74792152e+01],\n",
       "       [ 1.33247035e+07, -1.59575514e+01,  1.62124344e+01],\n",
       "       [ 1.32383035e+07, -1.75246918e+01, -4.71680552e+01],\n",
       "       [ 2.95679035e+07, -2.04443230e+01,  1.66869724e+01],\n",
       "       [-6.59904965e+07, -1.86244076e+01,  3.01506235e+01],\n",
       "       [-3.52320965e+07, -1.86274696e+01,  7.95889725e+00],\n",
       "       [ 3.46655035e+07, -2.40474137e+01, -4.90555880e+01],\n",
       "       [ 3.28511035e+07, -2.70623298e+01, -5.33475070e+01],\n",
       "       [-6.05472965e+07, -2.48245713e+01,  2.13765735e+01],\n",
       "       [-6.50400965e+07, -2.45542947e+01, -2.13314977e+01],\n",
       "       [ 1.42751035e+07, -3.03192877e+01,  7.37401907e+00],\n",
       "       [-6.84096965e+07, -2.90211349e+01, -3.98656995e+01],\n",
       "       [ 5.72150352e+06, -3.34435437e+01, -2.95855314e+01],\n",
       "       [ 5.26367035e+07, -3.74681940e+01,  1.79615132e+01],\n",
       "       [ 9.38495035e+07, -4.05692652e+01, -6.29438473e+00],\n",
       "       [-6.72964824e+04, -3.77178415e+01, -2.25158806e+01],\n",
       "       [-3.37632965e+07, -3.50494970e+01, -1.24978975e+01],\n",
       "       [ 1.21151035e+07, -6.07854003e+01,  4.69489221e+02],\n",
       "       [-3.89472965e+07, -3.89062160e+01,  2.09713565e+01],\n",
       "       [ 1.57439035e+07, -4.17707051e+01, -1.48784644e+01],\n",
       "       [ 1.23657504e+08, -4.57214685e+01, -3.83608054e+01],\n",
       "       [-5.72640965e+07, -4.14262614e+01,  2.62623340e+01],\n",
       "       [-6.01152965e+07, -4.45562698e+01, -5.52455406e+01],\n",
       "       [-6.63360965e+07, -5.15974036e+01, -1.23877034e+01],\n",
       "       [ 3.24191035e+07, -5.78052077e+01,  3.07285446e+01],\n",
       "       [ 1.36703035e+07, -6.08798667e+01, -4.26921852e+01],\n",
       "       [-1.44960965e+07, -6.34192284e+01, -2.74209857e+01],\n",
       "       [ 2.05823035e+07, -6.45694974e+01, -4.38664472e+01],\n",
       "       [-1.44960965e+07, -6.47541266e+01,  4.51945539e+01],\n",
       "       [-6.63360965e+07, -6.55014227e+01, -2.88499930e+01],\n",
       "       [ 9.67871035e+07, -7.52084517e+01, -1.21768035e+01],\n",
       "       [-2.42592965e+07, -7.23293877e+01, -4.93089386e+01],\n",
       "       [ 2.77535035e+07, -7.75931823e+01,  5.33294367e+01],\n",
       "       [-5.05248965e+07, -7.67162172e+01,  3.44500147e+01],\n",
       "       [ 1.18559035e+07, -7.73009529e+01, -5.84637205e+01],\n",
       "       [ 1.27027104e+08, -8.33615002e+01, -3.59592703e+01],\n",
       "       [ 1.49663035e+07, -8.07167518e+01,  6.15806961e+00],\n",
       "       [ 9.67007035e+07, -8.56244405e+01, -3.45153408e-01],\n",
       "       [ 3.97631035e+07, -8.45749950e+01,  2.22181046e+01],\n",
       "       [-3.83424965e+07, -8.18629212e+01, -7.04332989e+00],\n",
       "       [ 1.32383035e+07, -9.03069509e+01, -3.13898957e+01],\n",
       "       [ 5.24639035e+07, -9.14837928e+01, -2.18035535e+00],\n",
       "       [ 1.55279904e+08, -9.61529751e+01,  8.11865355e+00],\n",
       "       [-5.31168965e+07, -9.08527655e+01,  1.22108511e+01],\n",
       "       [-2.38272965e+07, -9.15977730e+01,  1.38239643e+01],\n",
       "       [-2.66784965e+07, -9.47805236e+01,  2.83726546e+01],\n",
       "       [ 3.12950352e+06, -9.56557810e+01, -5.86263291e+01],\n",
       "       [-1.21632965e+07, -9.71520359e+01,  2.29607541e+01],\n",
       "       [-5.62272965e+07, -9.55199789e+01,  1.49628077e+01],\n",
       "       [-7.63584965e+07, -9.79128663e+01,  3.99667755e+01],\n",
       "       [-2.64192965e+07, -1.01840606e+02, -3.02077243e+01],\n",
       "       [-5.70912965e+07, -1.04250612e+02, -2.96675688e+01],\n",
       "       [ 9.22943035e+07, -1.11251152e+02,  1.42955949e+01],\n",
       "       [-6.51264965e+07, -1.06587605e+02, -2.91015643e+01],\n",
       "       [-3.42816965e+07, -1.08771334e+02,  3.29938138e+00],\n",
       "       [-3.63552965e+07, -1.12451083e+02, -1.94327999e+01],\n",
       "       [-4.73280965e+07, -1.11689429e+02,  2.06271470e+01],\n",
       "       [-2.60736965e+07, -1.14092797e+02, -5.05529980e+01],\n",
       "       [ 2.35190352e+06, -1.17432495e+02,  2.05792744e+01],\n",
       "       [ 6.68063035e+07, -1.21819072e+02, -5.76878346e+01],\n",
       "       [ 3.48383035e+07, -1.21967727e+02, -1.09518357e+01],\n",
       "       [ 5.71295035e+07, -1.23281634e+02, -5.86633178e+01],\n",
       "       [-5.13888965e+07, -1.20633752e+02, -3.76711077e+01],\n",
       "       [ 3.53567035e+07, -1.28222662e+02,  4.60803544e+01],\n",
       "       [-6.72864965e+07, -1.25683343e+02, -5.71296652e+00],\n",
       "       [-7.62720965e+07, -1.24771873e+02,  2.90417011e+01],\n",
       "       [ 2.78399035e+07, -1.31161008e+02,  3.85853450e+01],\n",
       "       [ 1.22361504e+08, -1.33402689e+02, -3.79132528e+01],\n",
       "       [-6.11520965e+07, -1.27264870e+02, -1.17224728e+01],\n",
       "       [ 5.80799035e+07, -1.34021319e+02, -3.75515052e+01],\n",
       "       [-2.27904965e+07, -1.32316658e+02,  2.66586577e+01],\n",
       "       [-3.54912965e+07, -1.32361583e+02,  3.33499881e+00],\n",
       "       [ 5.28950352e+06, -1.36868338e+02,  1.44856623e+01],\n",
       "       [ 8.42591035e+07, -1.55029522e+02,  3.58083385e+01],\n",
       "       [ 2.77535035e+07, -1.56636308e+02,  3.67889143e+01],\n",
       "       [-6.72964824e+04, -1.55283634e+02,  1.98997100e+01],\n",
       "       [-5.44128965e+07, -1.54337793e+02, -4.79436232e+01],\n",
       "       [-4.90560965e+07, -1.56842591e+02,  5.58847873e+00],\n",
       "       [ 1.72991035e+07, -1.60731299e+02, -1.58392219e+01],\n",
       "       [-1.25952965e+07, -1.60217002e+02, -5.61075667e+01],\n",
       "       [ 1.02316704e+08, -1.70022591e+02,  3.50511705e+01],\n",
       "       [-2.01984965e+07, -1.66265111e+02, -4.49891062e+01],\n",
       "       [-2.67648965e+07, -1.68994226e+02, -9.40030782e+00],\n",
       "       [ 6.78431035e+07, -1.71874406e+02,  3.82470862e+01],\n",
       "       [-4.86240965e+07, -1.71179466e+02, -4.26823540e+01],\n",
       "       [-4.89696965e+07, -1.74560098e+02,  1.29066135e+01],\n",
       "       [-5.73504965e+07, -1.75720668e+02, -1.34788954e+01],\n",
       "       [-7.37664965e+07, -1.77091842e+02,  2.58715017e+01],\n",
       "       [ 2.77535035e+07, -1.80294501e+02, -4.66210991e+01],\n",
       "       [-5.20800965e+07, -1.91700436e+02,  2.81603989e+02],\n",
       "       [ 7.08671035e+07, -1.84252193e+02,  3.66372585e+01],\n",
       "       [ 3.44063035e+07, -1.85205820e+02, -2.25761316e+01],\n",
       "       [ 2.25695035e+07, -1.84203925e+02, -3.72823766e+01],\n",
       "       [-1.54464965e+07, -1.84437130e+02, -3.88109606e+01],\n",
       "       [-3.48864965e+07, -1.85907889e+02,  3.87397300e+00],\n",
       "       [-3.79104965e+07, -1.87157719e+02,  3.40792218e+01],\n",
       "       [-4.06752965e+07, -1.87340676e+02, -2.19452643e+01],\n",
       "       [-2.14089648e+06, -1.89594327e+02, -5.45527002e+01]])"
      ]
     },
     "execution_count": 9,
     "metadata": {
      "tags": []
     },
     "output_type": "execute_result"
    }
   ],
   "source": [
    "X_pca"
   ]
  }
 ],
 "metadata": {
  "colab": {
   "name": "cours2.ipynb",
   "provenance": []
  },
  "kernelspec": {
   "display_name": "Python 3",
   "language": "python",
   "name": "python3"
  },
  "language_info": {
   "codemirror_mode": {
    "name": "ipython",
    "version": 3
   },
   "file_extension": ".py",
   "mimetype": "text/x-python",
   "name": "python",
   "nbconvert_exporter": "python",
   "pygments_lexer": "ipython3",
   "version": "3.7.7"
  }
 },
 "nbformat": 4,
 "nbformat_minor": 1
}
