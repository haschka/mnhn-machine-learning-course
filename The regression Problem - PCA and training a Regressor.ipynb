{
 "cells": [
  {
   "cell_type": "markdown",
   "metadata": {},
   "source": [
    "### The Regression Problem - PCA and training a Regressor"
   ]
  },
  {
   "cell_type": "code",
   "execution_count": 0,
   "metadata": {
    "colab": {},
    "colab_type": "code",
    "id": "z3YYB1tg-_AM"
   },
   "outputs": [],
   "source": [
    "import pandas as pd"
   ]
  },
  {
   "cell_type": "code",
   "execution_count": 0,
   "metadata": {
    "colab": {},
    "colab_type": "code",
    "id": "whB6nm48_NRN"
   },
   "outputs": [],
   "source": [
    "df = pd.read_csv('train_data_cleaned.csv')"
   ]
  },
  {
   "cell_type": "code",
   "execution_count": 0,
   "metadata": {
    "colab": {},
    "colab_type": "code",
    "id": "SC7kZB5M_Sey"
   },
   "outputs": [],
   "source": [
    "from sklearn.decomposition import PCA"
   ]
  },
  {
   "cell_type": "code",
   "execution_count": 4,
   "metadata": {
    "colab": {
     "base_uri": "https://localhost:8080/",
     "height": 461
    },
    "colab_type": "code",
    "id": "l7cNui4B_WLU",
    "outputId": "9659f533-de8e-4c15-db19-86d8598a6d1c"
   },
   "outputs": [
    {
     "data": {
      "text/html": [
       "<div>\n",
       "<style scoped>\n",
       "    .dataframe tbody tr th:only-of-type {\n",
       "        vertical-align: middle;\n",
       "    }\n",
       "\n",
       "    .dataframe tbody tr th {\n",
       "        vertical-align: top;\n",
       "    }\n",
       "\n",
       "    .dataframe thead th {\n",
       "        text-align: right;\n",
       "    }\n",
       "</style>\n",
       "<table border=\"1\" class=\"dataframe\">\n",
       "  <thead>\n",
       "    <tr style=\"text-align: right;\">\n",
       "      <th></th>\n",
       "      <th>Unnamed: 0</th>\n",
       "      <th>radius_0</th>\n",
       "      <th>texture_0</th>\n",
       "      <th>perimeter_0</th>\n",
       "      <th>radius_1</th>\n",
       "      <th>texture_1</th>\n",
       "      <th>perimeter_1</th>\n",
       "      <th>radius_2</th>\n",
       "      <th>texture_2</th>\n",
       "      <th>perimeter_2</th>\n",
       "      <th>age</th>\n",
       "      <th>cancer_type</th>\n",
       "      <th>diff_diagnose_traitement</th>\n",
       "    </tr>\n",
       "  </thead>\n",
       "  <tbody>\n",
       "    <tr>\n",
       "      <th>0</th>\n",
       "      <td>0</td>\n",
       "      <td>19.858394</td>\n",
       "      <td>27.204437</td>\n",
       "      <td>136.324256</td>\n",
       "      <td>22.683290</td>\n",
       "      <td>32.802578</td>\n",
       "      <td>119.523841</td>\n",
       "      <td>21.477052</td>\n",
       "      <td>27.307087</td>\n",
       "      <td>82.366936</td>\n",
       "      <td>44</td>\n",
       "      <td>0</td>\n",
       "      <td>19267200.0</td>\n",
       "    </tr>\n",
       "    <tr>\n",
       "      <th>1</th>\n",
       "      <td>1</td>\n",
       "      <td>14.182069</td>\n",
       "      <td>15.754730</td>\n",
       "      <td>80.916983</td>\n",
       "      <td>14.043753</td>\n",
       "      <td>30.094704</td>\n",
       "      <td>94.911073</td>\n",
       "      <td>15.012329</td>\n",
       "      <td>17.855131</td>\n",
       "      <td>103.078286</td>\n",
       "      <td>59</td>\n",
       "      <td>1</td>\n",
       "      <td>110160000.0</td>\n",
       "    </tr>\n",
       "    <tr>\n",
       "      <th>2</th>\n",
       "      <td>4</td>\n",
       "      <td>14.875600</td>\n",
       "      <td>17.534187</td>\n",
       "      <td>98.545830</td>\n",
       "      <td>14.380683</td>\n",
       "      <td>26.190447</td>\n",
       "      <td>89.712492</td>\n",
       "      <td>12.930685</td>\n",
       "      <td>19.856687</td>\n",
       "      <td>108.380754</td>\n",
       "      <td>21</td>\n",
       "      <td>1</td>\n",
       "      <td>49420800.0</td>\n",
       "    </tr>\n",
       "    <tr>\n",
       "      <th>3</th>\n",
       "      <td>7</td>\n",
       "      <td>14.292161</td>\n",
       "      <td>28.430808</td>\n",
       "      <td>81.293588</td>\n",
       "      <td>15.042501</td>\n",
       "      <td>36.480522</td>\n",
       "      <td>78.668608</td>\n",
       "      <td>14.584187</td>\n",
       "      <td>24.055640</td>\n",
       "      <td>126.014415</td>\n",
       "      <td>40</td>\n",
       "      <td>1</td>\n",
       "      <td>62467200.0</td>\n",
       "    </tr>\n",
       "    <tr>\n",
       "      <th>4</th>\n",
       "      <td>8</td>\n",
       "      <td>13.119916</td>\n",
       "      <td>14.619103</td>\n",
       "      <td>88.293516</td>\n",
       "      <td>13.093215</td>\n",
       "      <td>12.299673</td>\n",
       "      <td>81.907981</td>\n",
       "      <td>13.963749</td>\n",
       "      <td>16.908342</td>\n",
       "      <td>56.235029</td>\n",
       "      <td>43</td>\n",
       "      <td>1</td>\n",
       "      <td>21081600.0</td>\n",
       "    </tr>\n",
       "    <tr>\n",
       "      <th>...</th>\n",
       "      <td>...</td>\n",
       "      <td>...</td>\n",
       "      <td>...</td>\n",
       "      <td>...</td>\n",
       "      <td>...</td>\n",
       "      <td>...</td>\n",
       "      <td>...</td>\n",
       "      <td>...</td>\n",
       "      <td>...</td>\n",
       "      <td>...</td>\n",
       "      <td>...</td>\n",
       "      <td>...</td>\n",
       "      <td>...</td>\n",
       "    </tr>\n",
       "    <tr>\n",
       "      <th>194</th>\n",
       "      <td>390</td>\n",
       "      <td>14.848246</td>\n",
       "      <td>20.464676</td>\n",
       "      <td>117.535591</td>\n",
       "      <td>15.405057</td>\n",
       "      <td>22.227830</td>\n",
       "      <td>106.933004</td>\n",
       "      <td>16.341575</td>\n",
       "      <td>19.945252</td>\n",
       "      <td>176.030398</td>\n",
       "      <td>36</td>\n",
       "      <td>0</td>\n",
       "      <td>62035200.0</td>\n",
       "    </tr>\n",
       "    <tr>\n",
       "      <th>195</th>\n",
       "      <td>391</td>\n",
       "      <td>21.081445</td>\n",
       "      <td>20.429425</td>\n",
       "      <td>114.246985</td>\n",
       "      <td>17.505730</td>\n",
       "      <td>49.229470</td>\n",
       "      <td>161.196507</td>\n",
       "      <td>18.300994</td>\n",
       "      <td>22.080930</td>\n",
       "      <td>120.032441</td>\n",
       "      <td>27</td>\n",
       "      <td>0</td>\n",
       "      <td>42595200.0</td>\n",
       "    </tr>\n",
       "    <tr>\n",
       "      <th>196</th>\n",
       "      <td>392</td>\n",
       "      <td>21.452732</td>\n",
       "      <td>24.270587</td>\n",
       "      <td>165.240157</td>\n",
       "      <td>18.315527</td>\n",
       "      <td>27.464137</td>\n",
       "      <td>112.425470</td>\n",
       "      <td>18.751829</td>\n",
       "      <td>17.959451</td>\n",
       "      <td>69.344406</td>\n",
       "      <td>18</td>\n",
       "      <td>0</td>\n",
       "      <td>39571200.0</td>\n",
       "    </tr>\n",
       "    <tr>\n",
       "      <th>197</th>\n",
       "      <td>395</td>\n",
       "      <td>11.901766</td>\n",
       "      <td>14.899430</td>\n",
       "      <td>75.271179</td>\n",
       "      <td>11.915226</td>\n",
       "      <td>27.449196</td>\n",
       "      <td>83.673309</td>\n",
       "      <td>11.747213</td>\n",
       "      <td>22.852121</td>\n",
       "      <td>134.297230</td>\n",
       "      <td>34</td>\n",
       "      <td>1</td>\n",
       "      <td>36806400.0</td>\n",
       "    </tr>\n",
       "    <tr>\n",
       "      <th>198</th>\n",
       "      <td>396</td>\n",
       "      <td>13.017187</td>\n",
       "      <td>22.818286</td>\n",
       "      <td>76.971805</td>\n",
       "      <td>10.732125</td>\n",
       "      <td>16.765887</td>\n",
       "      <td>70.390956</td>\n",
       "      <td>12.042109</td>\n",
       "      <td>22.889621</td>\n",
       "      <td>190.688277</td>\n",
       "      <td>32</td>\n",
       "      <td>1</td>\n",
       "      <td>75340800.0</td>\n",
       "    </tr>\n",
       "  </tbody>\n",
       "</table>\n",
       "<p>199 rows × 13 columns</p>\n",
       "</div>"
      ],
      "text/plain": [
       "     Unnamed: 0   radius_0  ...  cancer_type  diff_diagnose_traitement\n",
       "0             0  19.858394  ...            0                19267200.0\n",
       "1             1  14.182069  ...            1               110160000.0\n",
       "2             4  14.875600  ...            1                49420800.0\n",
       "3             7  14.292161  ...            1                62467200.0\n",
       "4             8  13.119916  ...            1                21081600.0\n",
       "..          ...        ...  ...          ...                       ...\n",
       "194         390  14.848246  ...            0                62035200.0\n",
       "195         391  21.081445  ...            0                42595200.0\n",
       "196         392  21.452732  ...            0                39571200.0\n",
       "197         395  11.901766  ...            1                36806400.0\n",
       "198         396  13.017187  ...            1                75340800.0\n",
       "\n",
       "[199 rows x 13 columns]"
      ]
     },
     "execution_count": 4,
     "metadata": {
      "tags": []
     },
     "output_type": "execute_result"
    }
   ],
   "source": [
    "df"
   ]
  },
  {
   "cell_type": "code",
   "execution_count": 6,
   "metadata": {
    "colab": {
     "base_uri": "https://localhost:8080/",
     "height": 243
    },
    "colab_type": "code",
    "id": "puMesLbQ_W7y",
    "outputId": "9501e3d4-a436-4958-9a1a-c7f304f7126f"
   },
   "outputs": [
    {
     "data": {
      "text/plain": [
       "0        0\n",
       "1        1\n",
       "2        4\n",
       "3        7\n",
       "4        8\n",
       "      ... \n",
       "194    390\n",
       "195    391\n",
       "196    392\n",
       "197    395\n",
       "198    396\n",
       "Name: Unnamed: 0, Length: 199, dtype: int64"
      ]
     },
     "execution_count": 6,
     "metadata": {
      "tags": []
     },
     "output_type": "execute_result"
    }
   ],
   "source": [
    "df.pop('Unnamed: 0')"
   ]
  },
  {
   "cell_type": "code",
   "execution_count": 7,
   "metadata": {
    "colab": {
     "base_uri": "https://localhost:8080/",
     "height": 444
    },
    "colab_type": "code",
    "id": "dNMi43Y__atz",
    "outputId": "5dce2ab8-163f-4030-bb2a-455b429c1d0c"
   },
   "outputs": [
    {
     "data": {
      "text/html": [
       "<div>\n",
       "<style scoped>\n",
       "    .dataframe tbody tr th:only-of-type {\n",
       "        vertical-align: middle;\n",
       "    }\n",
       "\n",
       "    .dataframe tbody tr th {\n",
       "        vertical-align: top;\n",
       "    }\n",
       "\n",
       "    .dataframe thead th {\n",
       "        text-align: right;\n",
       "    }\n",
       "</style>\n",
       "<table border=\"1\" class=\"dataframe\">\n",
       "  <thead>\n",
       "    <tr style=\"text-align: right;\">\n",
       "      <th></th>\n",
       "      <th>radius_0</th>\n",
       "      <th>texture_0</th>\n",
       "      <th>perimeter_0</th>\n",
       "      <th>radius_1</th>\n",
       "      <th>texture_1</th>\n",
       "      <th>perimeter_1</th>\n",
       "      <th>radius_2</th>\n",
       "      <th>texture_2</th>\n",
       "      <th>perimeter_2</th>\n",
       "      <th>age</th>\n",
       "      <th>cancer_type</th>\n",
       "      <th>diff_diagnose_traitement</th>\n",
       "    </tr>\n",
       "  </thead>\n",
       "  <tbody>\n",
       "    <tr>\n",
       "      <th>0</th>\n",
       "      <td>19.858394</td>\n",
       "      <td>27.204437</td>\n",
       "      <td>136.324256</td>\n",
       "      <td>22.683290</td>\n",
       "      <td>32.802578</td>\n",
       "      <td>119.523841</td>\n",
       "      <td>21.477052</td>\n",
       "      <td>27.307087</td>\n",
       "      <td>82.366936</td>\n",
       "      <td>44</td>\n",
       "      <td>0</td>\n",
       "      <td>19267200.0</td>\n",
       "    </tr>\n",
       "    <tr>\n",
       "      <th>1</th>\n",
       "      <td>14.182069</td>\n",
       "      <td>15.754730</td>\n",
       "      <td>80.916983</td>\n",
       "      <td>14.043753</td>\n",
       "      <td>30.094704</td>\n",
       "      <td>94.911073</td>\n",
       "      <td>15.012329</td>\n",
       "      <td>17.855131</td>\n",
       "      <td>103.078286</td>\n",
       "      <td>59</td>\n",
       "      <td>1</td>\n",
       "      <td>110160000.0</td>\n",
       "    </tr>\n",
       "    <tr>\n",
       "      <th>2</th>\n",
       "      <td>14.875600</td>\n",
       "      <td>17.534187</td>\n",
       "      <td>98.545830</td>\n",
       "      <td>14.380683</td>\n",
       "      <td>26.190447</td>\n",
       "      <td>89.712492</td>\n",
       "      <td>12.930685</td>\n",
       "      <td>19.856687</td>\n",
       "      <td>108.380754</td>\n",
       "      <td>21</td>\n",
       "      <td>1</td>\n",
       "      <td>49420800.0</td>\n",
       "    </tr>\n",
       "    <tr>\n",
       "      <th>3</th>\n",
       "      <td>14.292161</td>\n",
       "      <td>28.430808</td>\n",
       "      <td>81.293588</td>\n",
       "      <td>15.042501</td>\n",
       "      <td>36.480522</td>\n",
       "      <td>78.668608</td>\n",
       "      <td>14.584187</td>\n",
       "      <td>24.055640</td>\n",
       "      <td>126.014415</td>\n",
       "      <td>40</td>\n",
       "      <td>1</td>\n",
       "      <td>62467200.0</td>\n",
       "    </tr>\n",
       "    <tr>\n",
       "      <th>4</th>\n",
       "      <td>13.119916</td>\n",
       "      <td>14.619103</td>\n",
       "      <td>88.293516</td>\n",
       "      <td>13.093215</td>\n",
       "      <td>12.299673</td>\n",
       "      <td>81.907981</td>\n",
       "      <td>13.963749</td>\n",
       "      <td>16.908342</td>\n",
       "      <td>56.235029</td>\n",
       "      <td>43</td>\n",
       "      <td>1</td>\n",
       "      <td>21081600.0</td>\n",
       "    </tr>\n",
       "    <tr>\n",
       "      <th>...</th>\n",
       "      <td>...</td>\n",
       "      <td>...</td>\n",
       "      <td>...</td>\n",
       "      <td>...</td>\n",
       "      <td>...</td>\n",
       "      <td>...</td>\n",
       "      <td>...</td>\n",
       "      <td>...</td>\n",
       "      <td>...</td>\n",
       "      <td>...</td>\n",
       "      <td>...</td>\n",
       "      <td>...</td>\n",
       "    </tr>\n",
       "    <tr>\n",
       "      <th>194</th>\n",
       "      <td>14.848246</td>\n",
       "      <td>20.464676</td>\n",
       "      <td>117.535591</td>\n",
       "      <td>15.405057</td>\n",
       "      <td>22.227830</td>\n",
       "      <td>106.933004</td>\n",
       "      <td>16.341575</td>\n",
       "      <td>19.945252</td>\n",
       "      <td>176.030398</td>\n",
       "      <td>36</td>\n",
       "      <td>0</td>\n",
       "      <td>62035200.0</td>\n",
       "    </tr>\n",
       "    <tr>\n",
       "      <th>195</th>\n",
       "      <td>21.081445</td>\n",
       "      <td>20.429425</td>\n",
       "      <td>114.246985</td>\n",
       "      <td>17.505730</td>\n",
       "      <td>49.229470</td>\n",
       "      <td>161.196507</td>\n",
       "      <td>18.300994</td>\n",
       "      <td>22.080930</td>\n",
       "      <td>120.032441</td>\n",
       "      <td>27</td>\n",
       "      <td>0</td>\n",
       "      <td>42595200.0</td>\n",
       "    </tr>\n",
       "    <tr>\n",
       "      <th>196</th>\n",
       "      <td>21.452732</td>\n",
       "      <td>24.270587</td>\n",
       "      <td>165.240157</td>\n",
       "      <td>18.315527</td>\n",
       "      <td>27.464137</td>\n",
       "      <td>112.425470</td>\n",
       "      <td>18.751829</td>\n",
       "      <td>17.959451</td>\n",
       "      <td>69.344406</td>\n",
       "      <td>18</td>\n",
       "      <td>0</td>\n",
       "      <td>39571200.0</td>\n",
       "    </tr>\n",
       "    <tr>\n",
       "      <th>197</th>\n",
       "      <td>11.901766</td>\n",
       "      <td>14.899430</td>\n",
       "      <td>75.271179</td>\n",
       "      <td>11.915226</td>\n",
       "      <td>27.449196</td>\n",
       "      <td>83.673309</td>\n",
       "      <td>11.747213</td>\n",
       "      <td>22.852121</td>\n",
       "      <td>134.297230</td>\n",
       "      <td>34</td>\n",
       "      <td>1</td>\n",
       "      <td>36806400.0</td>\n",
       "    </tr>\n",
       "    <tr>\n",
       "      <th>198</th>\n",
       "      <td>13.017187</td>\n",
       "      <td>22.818286</td>\n",
       "      <td>76.971805</td>\n",
       "      <td>10.732125</td>\n",
       "      <td>16.765887</td>\n",
       "      <td>70.390956</td>\n",
       "      <td>12.042109</td>\n",
       "      <td>22.889621</td>\n",
       "      <td>190.688277</td>\n",
       "      <td>32</td>\n",
       "      <td>1</td>\n",
       "      <td>75340800.0</td>\n",
       "    </tr>\n",
       "  </tbody>\n",
       "</table>\n",
       "<p>199 rows × 12 columns</p>\n",
       "</div>"
      ],
      "text/plain": [
       "      radius_0  texture_0  ...  cancer_type  diff_diagnose_traitement\n",
       "0    19.858394  27.204437  ...            0                19267200.0\n",
       "1    14.182069  15.754730  ...            1               110160000.0\n",
       "2    14.875600  17.534187  ...            1                49420800.0\n",
       "3    14.292161  28.430808  ...            1                62467200.0\n",
       "4    13.119916  14.619103  ...            1                21081600.0\n",
       "..         ...        ...  ...          ...                       ...\n",
       "194  14.848246  20.464676  ...            0                62035200.0\n",
       "195  21.081445  20.429425  ...            0                42595200.0\n",
       "196  21.452732  24.270587  ...            0                39571200.0\n",
       "197  11.901766  14.899430  ...            1                36806400.0\n",
       "198  13.017187  22.818286  ...            1                75340800.0\n",
       "\n",
       "[199 rows x 12 columns]"
      ]
     },
     "execution_count": 7,
     "metadata": {
      "tags": []
     },
     "output_type": "execute_result"
    }
   ],
   "source": [
    "df"
   ]
  },
  {
   "cell_type": "markdown",
   "metadata": {
    "colab_type": "text",
    "id": "OdxaeopI_gj7"
   },
   "source": []
  },
  {
   "cell_type": "code",
   "execution_count": 0,
   "metadata": {
    "colab": {},
    "colab_type": "code",
    "id": "yceJIv4o_d8Z"
   },
   "outputs": [],
   "source": [
    "Y = df.pop('cancer_type')"
   ]
  },
  {
   "cell_type": "code",
   "execution_count": 23,
   "metadata": {
    "colab": {
     "base_uri": "https://localhost:8080/",
     "height": 414
    },
    "colab_type": "code",
    "id": "RXRecnDd_k4S",
    "outputId": "4395f14e-5603-4694-9d3f-ec8f9d120aad"
   },
   "outputs": [
    {
     "data": {
      "text/html": [
       "<div>\n",
       "<style scoped>\n",
       "    .dataframe tbody tr th:only-of-type {\n",
       "        vertical-align: middle;\n",
       "    }\n",
       "\n",
       "    .dataframe tbody tr th {\n",
       "        vertical-align: top;\n",
       "    }\n",
       "\n",
       "    .dataframe thead th {\n",
       "        text-align: right;\n",
       "    }\n",
       "</style>\n",
       "<table border=\"1\" class=\"dataframe\">\n",
       "  <thead>\n",
       "    <tr style=\"text-align: right;\">\n",
       "      <th></th>\n",
       "      <th>radius_0</th>\n",
       "      <th>texture_0</th>\n",
       "      <th>perimeter_0</th>\n",
       "      <th>radius_1</th>\n",
       "      <th>texture_1</th>\n",
       "      <th>perimeter_1</th>\n",
       "      <th>radius_2</th>\n",
       "      <th>texture_2</th>\n",
       "      <th>perimeter_2</th>\n",
       "      <th>age</th>\n",
       "      <th>diff_diagnose_traitement</th>\n",
       "    </tr>\n",
       "  </thead>\n",
       "  <tbody>\n",
       "    <tr>\n",
       "      <th>radius_0</th>\n",
       "      <td>1.000000</td>\n",
       "      <td>0.005180</td>\n",
       "      <td>0.113626</td>\n",
       "      <td>0.115054</td>\n",
       "      <td>0.075092</td>\n",
       "      <td>0.159065</td>\n",
       "      <td>0.176054</td>\n",
       "      <td>0.064614</td>\n",
       "      <td>-0.128659</td>\n",
       "      <td>-0.044083</td>\n",
       "      <td>-0.047974</td>\n",
       "    </tr>\n",
       "    <tr>\n",
       "      <th>texture_0</th>\n",
       "      <td>0.005180</td>\n",
       "      <td>1.000000</td>\n",
       "      <td>0.172410</td>\n",
       "      <td>0.160895</td>\n",
       "      <td>0.048974</td>\n",
       "      <td>0.157387</td>\n",
       "      <td>0.077206</td>\n",
       "      <td>0.535808</td>\n",
       "      <td>0.023621</td>\n",
       "      <td>0.006985</td>\n",
       "      <td>-0.067880</td>\n",
       "    </tr>\n",
       "    <tr>\n",
       "      <th>perimeter_0</th>\n",
       "      <td>0.113626</td>\n",
       "      <td>0.172410</td>\n",
       "      <td>1.000000</td>\n",
       "      <td>0.800726</td>\n",
       "      <td>0.173756</td>\n",
       "      <td>0.808725</td>\n",
       "      <td>0.800986</td>\n",
       "      <td>0.227519</td>\n",
       "      <td>-0.034451</td>\n",
       "      <td>-0.025681</td>\n",
       "      <td>-0.074262</td>\n",
       "    </tr>\n",
       "    <tr>\n",
       "      <th>radius_1</th>\n",
       "      <td>0.115054</td>\n",
       "      <td>0.160895</td>\n",
       "      <td>0.800726</td>\n",
       "      <td>1.000000</td>\n",
       "      <td>0.181463</td>\n",
       "      <td>0.806034</td>\n",
       "      <td>0.843829</td>\n",
       "      <td>0.181725</td>\n",
       "      <td>0.028822</td>\n",
       "      <td>-0.057534</td>\n",
       "      <td>-0.045702</td>\n",
       "    </tr>\n",
       "    <tr>\n",
       "      <th>texture_1</th>\n",
       "      <td>0.075092</td>\n",
       "      <td>0.048974</td>\n",
       "      <td>0.173756</td>\n",
       "      <td>0.181463</td>\n",
       "      <td>1.000000</td>\n",
       "      <td>0.166426</td>\n",
       "      <td>0.097320</td>\n",
       "      <td>0.094882</td>\n",
       "      <td>0.034127</td>\n",
       "      <td>0.040817</td>\n",
       "      <td>-0.057287</td>\n",
       "    </tr>\n",
       "    <tr>\n",
       "      <th>perimeter_1</th>\n",
       "      <td>0.159065</td>\n",
       "      <td>0.157387</td>\n",
       "      <td>0.808725</td>\n",
       "      <td>0.806034</td>\n",
       "      <td>0.166426</td>\n",
       "      <td>1.000000</td>\n",
       "      <td>0.850733</td>\n",
       "      <td>0.170825</td>\n",
       "      <td>-0.000843</td>\n",
       "      <td>-0.086787</td>\n",
       "      <td>-0.081380</td>\n",
       "    </tr>\n",
       "    <tr>\n",
       "      <th>radius_2</th>\n",
       "      <td>0.176054</td>\n",
       "      <td>0.077206</td>\n",
       "      <td>0.800986</td>\n",
       "      <td>0.843829</td>\n",
       "      <td>0.097320</td>\n",
       "      <td>0.850733</td>\n",
       "      <td>1.000000</td>\n",
       "      <td>0.105429</td>\n",
       "      <td>-0.034821</td>\n",
       "      <td>-0.116326</td>\n",
       "      <td>-0.043123</td>\n",
       "    </tr>\n",
       "    <tr>\n",
       "      <th>texture_2</th>\n",
       "      <td>0.064614</td>\n",
       "      <td>0.535808</td>\n",
       "      <td>0.227519</td>\n",
       "      <td>0.181725</td>\n",
       "      <td>0.094882</td>\n",
       "      <td>0.170825</td>\n",
       "      <td>0.105429</td>\n",
       "      <td>1.000000</td>\n",
       "      <td>0.022665</td>\n",
       "      <td>0.036192</td>\n",
       "      <td>-0.031336</td>\n",
       "    </tr>\n",
       "    <tr>\n",
       "      <th>perimeter_2</th>\n",
       "      <td>-0.128659</td>\n",
       "      <td>0.023621</td>\n",
       "      <td>-0.034451</td>\n",
       "      <td>0.028822</td>\n",
       "      <td>0.034127</td>\n",
       "      <td>-0.000843</td>\n",
       "      <td>-0.034821</td>\n",
       "      <td>0.022665</td>\n",
       "      <td>1.000000</td>\n",
       "      <td>0.027561</td>\n",
       "      <td>0.015842</td>\n",
       "    </tr>\n",
       "    <tr>\n",
       "      <th>age</th>\n",
       "      <td>-0.044083</td>\n",
       "      <td>0.006985</td>\n",
       "      <td>-0.025681</td>\n",
       "      <td>-0.057534</td>\n",
       "      <td>0.040817</td>\n",
       "      <td>-0.086787</td>\n",
       "      <td>-0.116326</td>\n",
       "      <td>0.036192</td>\n",
       "      <td>0.027561</td>\n",
       "      <td>1.000000</td>\n",
       "      <td>0.125651</td>\n",
       "    </tr>\n",
       "    <tr>\n",
       "      <th>diff_diagnose_traitement</th>\n",
       "      <td>-0.047974</td>\n",
       "      <td>-0.067880</td>\n",
       "      <td>-0.074262</td>\n",
       "      <td>-0.045702</td>\n",
       "      <td>-0.057287</td>\n",
       "      <td>-0.081380</td>\n",
       "      <td>-0.043123</td>\n",
       "      <td>-0.031336</td>\n",
       "      <td>0.015842</td>\n",
       "      <td>0.125651</td>\n",
       "      <td>1.000000</td>\n",
       "    </tr>\n",
       "  </tbody>\n",
       "</table>\n",
       "</div>"
      ],
      "text/plain": [
       "                          radius_0  ...  diff_diagnose_traitement\n",
       "radius_0                  1.000000  ...                 -0.047974\n",
       "texture_0                 0.005180  ...                 -0.067880\n",
       "perimeter_0               0.113626  ...                 -0.074262\n",
       "radius_1                  0.115054  ...                 -0.045702\n",
       "texture_1                 0.075092  ...                 -0.057287\n",
       "perimeter_1               0.159065  ...                 -0.081380\n",
       "radius_2                  0.176054  ...                 -0.043123\n",
       "texture_2                 0.064614  ...                 -0.031336\n",
       "perimeter_2              -0.128659  ...                  0.015842\n",
       "age                      -0.044083  ...                  0.125651\n",
       "diff_diagnose_traitement -0.047974  ...                  1.000000\n",
       "\n",
       "[11 rows x 11 columns]"
      ]
     },
     "execution_count": 23,
     "metadata": {
      "tags": []
     },
     "output_type": "execute_result"
    }
   ],
   "source": [
    "df.corr()"
   ]
  },
  {
   "cell_type": "code",
   "execution_count": 0,
   "metadata": {
    "colab": {},
    "colab_type": "code",
    "id": "ZZNy49v6_mOz"
   },
   "outputs": [],
   "source": [
    "from sklearn.preprocessing import StandardScaler\n",
    "\n",
    "scaler = StandardScaler().fit(df)\n",
    "X = scaler.transform(df)\n",
    "\n",
    "pca1d = PCA().fit(X)"
   ]
  },
  {
   "cell_type": "code",
   "execution_count": 21,
   "metadata": {
    "colab": {
     "base_uri": "https://localhost:8080/",
     "height": 640
    },
    "colab_type": "code",
    "id": "27URpemZ_3KT",
    "outputId": "cf984968-f6e6-4941-e2ad-4175b09d5a5a"
   },
   "outputs": [
    {
     "data": {
      "text/plain": [
       "array([[ 0.11251542,  0.13928813,  0.47674239,  0.4798955 ,  0.12422743,\n",
       "         0.48332616,  0.47927296,  0.15976389, -0.00959814, -0.052278  ,\n",
       "        -0.05716021],\n",
       "       [-0.05846884,  0.67353784, -0.04750306, -0.08267158,  0.0987224 ,\n",
       "        -0.09896966, -0.18840532,  0.66574118,  0.10813365,  0.14428442,\n",
       "        -0.05547224],\n",
       "       [ 0.46803748,  0.08806511, -0.07684301, -0.11310695, -0.0427477 ,\n",
       "        -0.04434131, -0.03677228,  0.06658321, -0.48991701, -0.49628548,\n",
       "        -0.50851787],\n",
       "       [ 0.4675766 , -0.03831565,  0.01389729, -0.03101997,  0.11491805,\n",
       "        -0.02734486, -0.00764903,  0.06919944, -0.54142542,  0.50933025,\n",
       "         0.45539972],\n",
       "       [-0.19064402,  0.16219729,  0.03518824,  0.02567747, -0.83449322,\n",
       "         0.03104114,  0.10468882,  0.09458715, -0.24374186, -0.20050966,\n",
       "         0.34436342],\n",
       "       [ 0.54989699,  0.00150535, -0.10870789, -0.02310398,  0.04215327,\n",
       "        -0.01931684,  0.00283868,  0.0836894 ,  0.49318702, -0.43895117,\n",
       "         0.49008801],\n",
       "       [ 0.44440288, -0.04165745,  0.00279389, -0.00122946, -0.50354783,\n",
       "         0.02579154,  0.03307228, -0.03156417,  0.38550865,  0.48096733,\n",
       "        -0.40558505],\n",
       "       [-0.07143563, -0.69721045,  0.07063725, -0.02761281, -0.0506746 ,\n",
       "        -0.0431676 , -0.01106066,  0.70329017, -0.00427578, -0.03717887,\n",
       "        -0.04971067],\n",
       "       [-0.02896255, -0.01292853, -0.76174815,  0.56308135,  0.0164872 ,\n",
       "        -0.10506223,  0.27848895,  0.08139672, -0.04930414,  0.04707457,\n",
       "        -0.039177  ],\n",
       "       [-0.05587119, -0.01069866, -0.40509933, -0.50578758,  0.02687015,\n",
       "         0.73799798,  0.16132385,  0.05738558, -0.00455095,  0.04510358,\n",
       "         0.01004238],\n",
       "       [ 0.03074885, -0.05737988, -0.04408415,  0.4174584 , -0.06715586,\n",
       "         0.44084296, -0.78589106, -0.02365926, -0.03639344, -0.02979922,\n",
       "         0.01725436]])"
      ]
     },
     "execution_count": 21,
     "metadata": {
      "tags": []
     },
     "output_type": "execute_result"
    }
   ],
   "source": [
    "pca1d.components_"
   ]
  },
  {
   "cell_type": "code",
   "execution_count": 22,
   "metadata": {
    "colab": {
     "base_uri": "https://localhost:8080/",
     "height": 74
    },
    "colab_type": "code",
    "id": "MDic2M5JALZS",
    "outputId": "04750420-2424-45a8-92e8-a1e2cdef5a27"
   },
   "outputs": [
    {
     "data": {
      "text/plain": [
       "array([26.92235526, 17.10689459, 15.20315542, 14.56065876, 14.16998381,\n",
       "       13.08714903, 12.75106838,  9.55892808,  6.33273928,  6.12045622,\n",
       "        4.98035072])"
      ]
     },
     "execution_count": 22,
     "metadata": {
      "tags": []
     },
     "output_type": "execute_result"
    }
   ],
   "source": [
    "pca1d.singular_values_"
   ]
  },
  {
   "cell_type": "code",
   "execution_count": 0,
   "metadata": {
    "colab": {},
    "colab_type": "code",
    "id": "5n2qjmv0BfHC"
   },
   "outputs": [],
   "source": [
    "from matplotlib import pyplot as plt"
   ]
  },
  {
   "cell_type": "code",
   "execution_count": 32,
   "metadata": {
    "colab": {
     "base_uri": "https://localhost:8080/",
     "height": 284
    },
    "colab_type": "code",
    "id": "iYEnBXjcFQ-q",
    "outputId": "bf0e89f5-d8db-4594-dcc3-a3dc3fbb8336"
   },
   "outputs": [
    {
     "data": {
      "text/plain": [
       "<matplotlib.collections.PathCollection at 0x7fcdadf94eb8>"
      ]
     },
     "execution_count": 32,
     "metadata": {
      "tags": []
     },
     "output_type": "execute_result"
    },
    {
     "data": {
      "image/png": "[encoded data removed]",
      "text/plain": [
       "<Figure size 432x288 with 1 Axes>"
      ]
     },
     "metadata": {
      "needs_background": "light",
      "tags": []
     },
     "output_type": "display_data"
    }
   ],
   "source": [
    "plt.scatter(df['radius_0'].to_numpy(),df['perimeter_1'].to_numpy())"
   ]
  },
  {
   "cell_type": "code",
   "execution_count": 0,
   "metadata": {
    "colab": {},
    "colab_type": "code",
    "id": "HmCUZ57VFkau"
   },
   "outputs": [],
   "source": [
    "from sklearn.linear_model import ElasticNet"
   ]
  },
  {
   "cell_type": "code",
   "execution_count": 0,
   "metadata": {
    "colab": {},
    "colab_type": "code",
    "id": "M7Y36zVRF6-q"
   },
   "outputs": [],
   "source": [
    "reg = ElasticNet(alpha=0.5,l1_ratio=0.5)"
   ]
  },
  {
   "cell_type": "code",
   "execution_count": 36,
   "metadata": {
    "colab": {
     "base_uri": "https://localhost:8080/",
     "height": 74
    },
    "colab_type": "code",
    "id": "o1vrLHYwGxck",
    "outputId": "a8c15f1d-77a7-46de-d9f0-c21eb204156a"
   },
   "outputs": [
    {
     "data": {
      "text/plain": [
       "ElasticNet(alpha=0.5, copy_X=True, fit_intercept=True, l1_ratio=0.5,\n",
       "           max_iter=1000, normalize=False, positive=False, precompute=False,\n",
       "           random_state=None, selection='cyclic', tol=0.0001, warm_start=False)"
      ]
     },
     "execution_count": 36,
     "metadata": {
      "tags": []
     },
     "output_type": "execute_result"
    }
   ],
   "source": [
    "reg.fit(X.to_numpy(),df['perimeter_1'].to_numpy())"
   ]
  },
  {
   "cell_type": "code",
   "execution_count": 0,
   "metadata": {
    "colab": {},
    "colab_type": "code",
    "id": "CV1-svpmHH_Y"
   },
   "outputs": [],
   "source": [
    "X = pd.DataFrame({ 'r1': df['radius_1'].to_numpy(),\n",
    "                  'r2': df['radius_0'].to_numpy()})"
   ]
  },
  {
   "cell_type": "code",
   "execution_count": 37,
   "metadata": {
    "colab": {
     "base_uri": "https://localhost:8080/",
     "height": 36
    },
    "colab_type": "code",
    "id": "Xyuoq1ihHtjk",
    "outputId": "923c5258-f106-4ddf-dbbd-01311d5cec78"
   },
   "outputs": [
    {
     "data": {
      "text/plain": [
       "array([93.74569073])"
      ]
     },
     "execution_count": 37,
     "metadata": {
      "tags": []
     },
     "output_type": "execute_result"
    }
   ],
   "source": [
    "reg.predict([[14.380683,14.875600]])"
   ]
  },
  {
   "cell_type": "code",
   "execution_count": 39,
   "metadata": {
    "colab": {
     "base_uri": "https://localhost:8080/",
     "height": 36
    },
    "colab_type": "code",
    "id": "NUb7BfilHuCL",
    "outputId": "6a6a9097-5f35-428c-8f29-e0be67f251d5"
   },
   "outputs": [
    {
     "data": {
      "text/plain": [
       "89.71249158459999"
      ]
     },
     "execution_count": 39,
     "metadata": {
      "tags": []
     },
     "output_type": "execute_result"
    }
   ],
   "source": [
    "df['perimeter_1'][2]"
   ]
  },
  {
   "cell_type": "code",
   "execution_count": 0,
   "metadata": {
    "colab": {},
    "colab_type": "code",
    "id": "bj2egIsQINs-"
   },
   "outputs": [],
   "source": [
    "from sklearn.model_selection import cross_val_score, ShuffleSplit, train_test_split\n",
    "from sklearn.metrics import r2_score\n",
    "from sklearn.metrics import make_scorer"
   ]
  },
  {
   "cell_type": "code",
   "execution_count": 0,
   "metadata": {
    "colab": {},
    "colab_type": "code",
    "id": "SFKZFHWMJUKN"
   },
   "outputs": [],
   "source": [
    "cv = ShuffleSplit(n_splits=10,test_size=0.5)"
   ]
  },
  {
   "cell_type": "code",
   "execution_count": 0,
   "metadata": {
    "colab": {},
    "colab_type": "code",
    "id": "b5DK0Z9CKoji"
   },
   "outputs": [],
   "source": []
  },
  {
   "cell_type": "code",
   "execution_count": 0,
   "metadata": {
    "colab": {},
    "colab_type": "code",
    "id": "lAgAX-VhJd-5"
   },
   "outputs": [],
   "source": [
    "notre_scorer = make_scorer(r2_score)\n",
    "scores = cross_val_score(reg,X,df['perimeter_1'].to_numpy(),cv=cv,scoring=notre_scorer)"
   ]
  },
  {
   "cell_type": "code",
   "execution_count": 49,
   "metadata": {
    "colab": {
     "base_uri": "https://localhost:8080/",
     "height": 36
    },
    "colab_type": "code",
    "id": "BHO3BsP-KIKz",
    "outputId": "02cba854-c09c-4188-b632-38a4bc3f5bc7"
   },
   "outputs": [
    {
     "data": {
      "text/plain": [
       "0.6043962605218273"
      ]
     },
     "execution_count": 49,
     "metadata": {
      "tags": []
     },
     "output_type": "execute_result"
    }
   ],
   "source": [
    "scores.mean()"
   ]
  },
  {
   "cell_type": "code",
   "execution_count": 50,
   "metadata": {
    "colab": {
     "base_uri": "https://localhost:8080/",
     "height": 55
    },
    "colab_type": "code",
    "id": "DxpbtPvrKzLk",
    "outputId": "1eedfcd2-9d5f-4678-8875-3fec33d4338b"
   },
   "outputs": [
    {
     "data": {
      "text/plain": [
       "array([0.63831966, 0.62415056, 0.55429419, 0.48946074, 0.67662274,\n",
       "       0.6197738 , 0.61391707, 0.56149422, 0.65011549, 0.61581413])"
      ]
     },
     "execution_count": 50,
     "metadata": {
      "tags": []
     },
     "output_type": "execute_result"
    }
   ],
   "source": [
    "scores"
   ]
  },
  {
   "cell_type": "code",
   "execution_count": 53,
   "metadata": {
    "colab": {
     "base_uri": "https://localhost:8080/",
     "height": 300
    },
    "colab_type": "code",
    "id": "VwB55e6wK2T1",
    "outputId": "07a74f48-7a4f-4633-d261-3a475727b126"
   },
   "outputs": [
    {
     "name": "stdout",
     "output_type": "stream",
     "text": [
      "alpha = 0.01, r1_ratio = 0.25 : 0.6082370066255658\n",
      "alpha = 0.01, r1_ratio = 0.5 : -31.332477358737332\n",
      "alpha = 0.01, r1_ratio = 0.75 : -16.675201219526336\n",
      "alpha = 0.1, r1_ratio = 0.25 : -128.22986491109714\n",
      "alpha = 0.1, r1_ratio = 0.5 : -11.191794382946396\n",
      "alpha = 0.1, r1_ratio = 0.75 : 0.6495606313860771\n",
      "alpha = 0.2, r1_ratio = 0.25 : -30.890639914008307\n",
      "alpha = 0.2, r1_ratio = 0.5 : -30.0619381855023\n",
      "alpha = 0.2, r1_ratio = 0.75 : -20.009358318160796\n",
      "alpha = 0.5, r1_ratio = 0.25 : -19.854699100792168\n",
      "alpha = 0.5, r1_ratio = 0.5 : 0.6308249300978974\n",
      "alpha = 0.5, r1_ratio = 0.75 : -50.65890454398768\n",
      "alpha = 1, r1_ratio = 0.25 : -14.638018856186786\n",
      "alpha = 1, r1_ratio = 0.5 : 0.6406558363703073\n",
      "alpha = 1, r1_ratio = 0.75 : -7.107290195438546\n"
     ]
    }
   ],
   "source": [
    "alpha = [0.01, 0.1, 0.2, 0.5, 1]\n",
    "r1_ratio = [0.25, 0.5, 0.75]\n",
    "\n",
    "nos_scores = []\n",
    "for a in alpha:\n",
    "  for r in r1_ratio:\n",
    "    reg = ElasticNet(alpha=a,l1_ratio=r)\n",
    "    scores = cross_val_score(reg,X,df['perimeter_1'].to_numpy(),cv=cv,scoring=notre_scorer)\n",
    "    print(\"alpha = \"+str(a)+\", r1_ratio = \"+str(r)+\" : \"+str(scores.mean()))\n",
    "    nos_scores.append(scores.mean())"
   ]
  },
  {
   "cell_type": "code",
   "execution_count": 55,
   "metadata": {
    "colab": {
     "base_uri": "https://localhost:8080/",
     "height": 36
    },
    "colab_type": "code",
    "id": "WUy5lTmvMSwT",
    "outputId": "678f0c7d-294b-40c7-faad-d477816edb7a"
   },
   "outputs": [
    {
     "data": {
      "text/plain": [
       "0.6495606313860771"
      ]
     },
     "execution_count": 55,
     "metadata": {
      "tags": []
     },
     "output_type": "execute_result"
    }
   ],
   "source": [
    "import numpy as np\n",
    "np.array(nos_scores).max()"
   ]
  },
  {
   "cell_type": "code",
   "execution_count": 0,
   "metadata": {
    "colab": {},
    "colab_type": "code",
    "id": "aEytXnOQMrmj"
   },
   "outputs": [],
   "source": [
    "from sklearn.linear_model import LinearRegression\n",
    "reg = LinearRegression()\n",
    "scores = cross_val_score(reg,X,df['perimeter_1'].to_numpy(),cv=cv,scoring=notre_scorer)"
   ]
  },
  {
   "cell_type": "code",
   "execution_count": 58,
   "metadata": {
    "colab": {
     "base_uri": "https://localhost:8080/",
     "height": 36
    },
    "colab_type": "code",
    "id": "U47-TyWbOJJr",
    "outputId": "a8259bd7-87f7-4383-bae3-4c33e70ce9e6"
   },
   "outputs": [
    {
     "data": {
      "text/plain": [
       "-203.0251408384718"
      ]
     },
     "execution_count": 58,
     "metadata": {
      "tags": []
     },
     "output_type": "execute_result"
    }
   ],
   "source": [
    "scores.sum()"
   ]
  },
  {
   "cell_type": "code",
   "execution_count": 0,
   "metadata": {
    "colab": {},
    "colab_type": "code",
    "id": "AH-Mnuw8OKpi"
   },
   "outputs": [],
   "source": [
    "from sklearn.feature_extraction import CountVectorizer\n",
    "v = CountVectorizer()\n",
    "CountVectorizer.fit(X)\n",
    "x_count = CountVectorizer.tranform(X)\n",
    "np.array(x_count).sum()\n",
    "count_nouveau = CountVectorizer.transform([test])\n"
   ]
  },
  {
   "cell_type": "code",
   "execution_count": 0,
   "metadata": {
    "colab": {},
    "colab_type": "code",
    "id": "LZ-CBtf7TSe1"
   },
   "outputs": [],
   "source": [
    "X_final, X_p, Y_final, Y_p = train_test_split(X,df['perimeter_1'].to_numpy(),test_size=0.5)"
   ]
  },
  {
   "cell_type": "code",
   "execution_count": 70,
   "metadata": {
    "colab": {
     "base_uri": "https://localhost:8080/",
     "height": 74
    },
    "colab_type": "code",
    "id": "VNZ-TtMvTYjd",
    "outputId": "f9f8dfdb-6110-4c5e-cd72-429ae340b931"
   },
   "outputs": [
    {
     "data": {
      "text/plain": [
       "ElasticNet(alpha=0.1, copy_X=True, fit_intercept=True, l1_ratio=0.75,\n",
       "           max_iter=1000, normalize=False, positive=False, precompute=False,\n",
       "           random_state=None, selection='cyclic', tol=0.0001, warm_start=False)"
      ]
     },
     "execution_count": 70,
     "metadata": {
      "tags": []
     },
     "output_type": "execute_result"
    }
   ],
   "source": [
    "reg = ElasticNet(alpha=0.1,l1_ratio=0.75)\n",
    "reg.fit(X_final,Y_final)"
   ]
  },
  {
   "cell_type": "code",
   "execution_count": 0,
   "metadata": {
    "colab": {},
    "colab_type": "code",
    "id": "jt-x-SLLVNZV"
   },
   "outputs": [],
   "source": [
    "import pickle\n",
    "f = open('mon_predicteur.pickle','wb')\n",
    "pickle.dump(reg,f)\n",
    "f.close()"
   ]
  },
  {
   "cell_type": "code",
   "execution_count": 0,
   "metadata": {
    "colab": {},
    "colab_type": "code",
    "id": "tu37AQlxWEsx"
   },
   "outputs": [],
   "source": [
    "import pickle"
   ]
  },
  {
   "cell_type": "code",
   "execution_count": 0,
   "metadata": {
    "colab": {},
    "colab_type": "code",
    "id": "V9uCT70XWFun"
   },
   "outputs": [],
   "source": [
    "pickle.dump()"
   ]
  }
 ],
 "metadata": {
  "colab": {
   "name": "regession.ipynb",
   "provenance": []
  },
  "kernelspec": {
   "display_name": "Python 3",
   "language": "python",
   "name": "python3"
  },
  "language_info": {
   "codemirror_mode": {
    "name": "ipython",
    "version": 3
   },
   "file_extension": ".py",
   "mimetype": "text/x-python",
   "name": "python",
   "nbconvert_exporter": "python",
   "pygments_lexer": "ipython3",
   "version": "3.7.7"
  }
 },
 "nbformat": 4,
 "nbformat_minor": 1
}
