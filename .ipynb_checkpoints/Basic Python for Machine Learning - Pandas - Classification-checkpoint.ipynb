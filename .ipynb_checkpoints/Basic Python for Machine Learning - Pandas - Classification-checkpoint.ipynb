{
 "cells": [
  {
   "cell_type": "markdown",
   "metadata": {},
   "source": [
    "## This is a basic Introduction to Python"
   ]
  },
  {
   "cell_type": "code",
   "execution_count": null,
   "metadata": {},
   "outputs": [],
   "source": []
  },
  {
   "cell_type": "code",
   "execution_count": 0,
   "metadata": {
    "colab": {},
    "colab_type": "code",
    "id": "GQhEy47MsZJK"
   },
   "outputs": [],
   "source": [
    "y = 1"
   ]
  },
  {
   "cell_type": "code",
   "execution_count": 0,
   "metadata": {
    "colab": {},
    "colab_type": "code",
    "id": "ibq5lJn2sk31"
   },
   "outputs": [],
   "source": [
    "b = 1.1 "
   ]
  },
  {
   "cell_type": "code",
   "execution_count": 0,
   "metadata": {
    "colab": {},
    "colab_type": "code",
    "id": "xN7zGR59sqC4"
   },
   "outputs": [],
   "source": [
    "c = 'test'"
   ]
  },
  {
   "cell_type": "code",
   "execution_count": 0,
   "metadata": {
    "colab": {},
    "colab_type": "code",
    "id": "XemKOiLcstoo"
   },
   "outputs": [],
   "source": [
    "l = [y,b,c]"
   ]
  },
  {
   "cell_type": "code",
   "execution_count": 0,
   "metadata": {
    "colab": {
     "base_uri": "https://localhost:8080/",
     "height": 36
    },
    "colab_type": "code",
    "id": "unSqTQ4ts1-Y",
    "outputId": "8ecf0bb3-ddd2-476c-8729-aec81dbe4230"
   },
   "outputs": [
    {
     "data": {
      "text/plain": [
       "1"
      ]
     },
     "execution_count": 5,
     "metadata": {
      "tags": []
     },
     "output_type": "execute_result"
    }
   ],
   "source": [
    "l[0]"
   ]
  },
  {
   "cell_type": "code",
   "execution_count": 0,
   "metadata": {
    "colab": {
     "base_uri": "https://localhost:8080/",
     "height": 36
    },
    "colab_type": "code",
    "id": "If-o9_dxs6oI",
    "outputId": "c76aab9a-fa8e-42d6-aceb-ae3b7840c0ea"
   },
   "outputs": [
    {
     "data": {
      "text/plain": [
       "'test'"
      ]
     },
     "execution_count": 6,
     "metadata": {
      "tags": []
     },
     "output_type": "execute_result"
    }
   ],
   "source": [
    "l[2]"
   ]
  },
  {
   "cell_type": "code",
   "execution_count": 0,
   "metadata": {
    "colab": {},
    "colab_type": "code",
    "id": "tTkrRmfUs7w9"
   },
   "outputs": [],
   "source": [
    "import array"
   ]
  },
  {
   "cell_type": "code",
   "execution_count": 0,
   "metadata": {
    "colab": {},
    "colab_type": "code",
    "id": "ngHb3T7atG1j"
   },
   "outputs": [],
   "source": [
    "a = array.array('i',[1,2,3])"
   ]
  },
  {
   "cell_type": "code",
   "execution_count": 0,
   "metadata": {
    "colab": {},
    "colab_type": "code",
    "id": "NUWwpptOtSxw"
   },
   "outputs": [],
   "source": [
    "import numpy as np"
   ]
  },
  {
   "cell_type": "code",
   "execution_count": 0,
   "metadata": {
    "colab": {},
    "colab_type": "code",
    "id": "24HLBHQhtoUv"
   },
   "outputs": [],
   "source": [
    "npa = np.array([1,2,3],dtype=int)"
   ]
  },
  {
   "cell_type": "code",
   "execution_count": 0,
   "metadata": {
    "colab": {},
    "colab_type": "code",
    "id": "7Hktdso7tv35"
   },
   "outputs": [],
   "source": [
    "l = [1,2,3,4,5,6,'test', 'a','b','c']"
   ]
  },
  {
   "cell_type": "code",
   "execution_count": 0,
   "metadata": {
    "colab": {
     "base_uri": "https://localhost:8080/",
     "height": 36
    },
    "colab_type": "code",
    "id": "sBGZU1g6t7cX",
    "outputId": "d6f04184-04ec-411f-cf4e-b0dc50f32bac"
   },
   "outputs": [
    {
     "data": {
      "text/plain": [
       "1"
      ]
     },
     "execution_count": 12,
     "metadata": {
      "tags": []
     },
     "output_type": "execute_result"
    }
   ],
   "source": [
    "l[0]"
   ]
  },
  {
   "cell_type": "code",
   "execution_count": 0,
   "metadata": {
    "colab": {
     "base_uri": "https://localhost:8080/",
     "height": 36
    },
    "colab_type": "code",
    "id": "Mh4EXJ30uGZZ",
    "outputId": "f215794b-f9bb-4c28-f3b1-35f0ba2a1567"
   },
   "outputs": [
    {
     "data": {
      "text/plain": [
       "[3, 4, 5]"
      ]
     },
     "execution_count": 13,
     "metadata": {
      "tags": []
     },
     "output_type": "execute_result"
    }
   ],
   "source": [
    "l[2:5]"
   ]
  },
  {
   "cell_type": "markdown",
   "metadata": {
    "colab_type": "text",
    "id": "lQnsh_HgKqXn"
   },
   "source": []
  },
  {
   "cell_type": "code",
   "execution_count": 0,
   "metadata": {
    "colab": {
     "base_uri": "https://localhost:8080/",
     "height": 36
    },
    "colab_type": "code",
    "id": "JJYbY_2FuNTW",
    "outputId": "c0c21a73-9927-48fc-b26a-20207ccfa6ce"
   },
   "outputs": [
    {
     "data": {
      "text/plain": [
       "[3, 5, 'test']"
      ]
     },
     "execution_count": 14,
     "metadata": {
      "tags": []
     },
     "output_type": "execute_result"
    }
   ],
   "source": [
    "l[2:8:2]"
   ]
  },
  {
   "cell_type": "code",
   "execution_count": 0,
   "metadata": {
    "colab": {
     "base_uri": "https://localhost:8080/",
     "height": 36
    },
    "colab_type": "code",
    "id": "z8Aul4TfuUwn",
    "outputId": "0d2cfd33-ff13-4d71-d32b-23ed02b2b864"
   },
   "outputs": [
    {
     "data": {
      "text/plain": [
       "[1, 2, 3]"
      ]
     },
     "execution_count": 15,
     "metadata": {
      "tags": []
     },
     "output_type": "execute_result"
    }
   ],
   "source": [
    "l[:3]"
   ]
  },
  {
   "cell_type": "code",
   "execution_count": 0,
   "metadata": {
    "colab": {
     "base_uri": "https://localhost:8080/",
     "height": 36
    },
    "colab_type": "code",
    "id": "hsY24oqnufAB",
    "outputId": "81b0d7c3-b073-4a56-8359-9806c1430594"
   },
   "outputs": [
    {
     "data": {
      "text/plain": [
       "[2, 3, 4, 5, 6, 'test', 'a', 'b', 'c']"
      ]
     },
     "execution_count": 16,
     "metadata": {
      "tags": []
     },
     "output_type": "execute_result"
    }
   ],
   "source": [
    "l[1:]"
   ]
  },
  {
   "cell_type": "code",
   "execution_count": 0,
   "metadata": {
    "colab": {},
    "colab_type": "code",
    "id": "r3Zo2L-uujE4"
   },
   "outputs": [],
   "source": [
    "tu = ('a',1,2)"
   ]
  },
  {
   "cell_type": "code",
   "execution_count": 0,
   "metadata": {
    "colab": {
     "base_uri": "https://localhost:8080/",
     "height": 36
    },
    "colab_type": "code",
    "id": "Dw6racTNvOh_",
    "outputId": "b6dcebb1-8454-443e-ad41-c5d88b61444e"
   },
   "outputs": [
    {
     "data": {
      "text/plain": [
       "1"
      ]
     },
     "execution_count": 18,
     "metadata": {
      "tags": []
     },
     "output_type": "execute_result"
    }
   ],
   "source": [
    "tu[1]"
   ]
  },
  {
   "cell_type": "code",
   "execution_count": 0,
   "metadata": {
    "colab": {
     "base_uri": "https://localhost:8080/",
     "height": 36
    },
    "colab_type": "code",
    "id": "BZ-8e21gvQ7C",
    "outputId": "48513ab8-ccfb-4f0d-d2be-06f459ed23af"
   },
   "outputs": [
    {
     "data": {
      "text/plain": [
       "[1, 2, 3, 4, 5, 6, 'test', 'a', 'b', 'c']"
      ]
     },
     "execution_count": 19,
     "metadata": {
      "tags": []
     },
     "output_type": "execute_result"
    }
   ],
   "source": [
    "l"
   ]
  },
  {
   "cell_type": "code",
   "execution_count": 0,
   "metadata": {
    "colab": {},
    "colab_type": "code",
    "id": "sZ77mWJyvS-p"
   },
   "outputs": [],
   "source": [
    "l[0]=10"
   ]
  },
  {
   "cell_type": "code",
   "execution_count": 0,
   "metadata": {
    "colab": {
     "base_uri": "https://localhost:8080/",
     "height": 175
    },
    "colab_type": "code",
    "id": "Eg9Qjpf1vU8B",
    "outputId": "c07369a6-e891-472f-c352-fef949b336a2"
   },
   "outputs": [
    {
     "ename": "TypeError",
     "evalue": "ignored",
     "output_type": "error",
     "traceback": [
      "\u001b[0;31m---------------------------------------------------------------------------\u001b[0m",
      "\u001b[0;31mTypeError\u001b[0m                                 Traceback (most recent call last)",
      "\u001b[0;32m<ipython-input-21-5b3d2965b69a>\u001b[0m in \u001b[0;36m<module>\u001b[0;34m()\u001b[0m\n\u001b[0;32m----> 1\u001b[0;31m \u001b[0mtu\u001b[0m\u001b[0;34m[\u001b[0m\u001b[0;36m1\u001b[0m\u001b[0;34m]\u001b[0m\u001b[0;34m=\u001b[0m\u001b[0;36m10\u001b[0m\u001b[0;34m\u001b[0m\u001b[0;34m\u001b[0m\u001b[0m\n\u001b[0m",
      "\u001b[0;31mTypeError\u001b[0m: 'tuple' object does not support item assignment"
     ]
    }
   ],
   "source": [
    "tu[1]=10"
   ]
  },
  {
   "cell_type": "code",
   "execution_count": 0,
   "metadata": {
    "colab": {},
    "colab_type": "code",
    "id": "nf2y--IRvXwf"
   },
   "outputs": [],
   "source": [
    "c = '1.1'"
   ]
  },
  {
   "cell_type": "code",
   "execution_count": 0,
   "metadata": {
    "colab": {},
    "colab_type": "code",
    "id": "J5vCjcj1vmai"
   },
   "outputs": [],
   "source": [
    "c = float(c)"
   ]
  },
  {
   "cell_type": "code",
   "execution_count": 0,
   "metadata": {
    "colab": {
     "base_uri": "https://localhost:8080/",
     "height": 36
    },
    "colab_type": "code",
    "id": "z2ExF67gvpOA",
    "outputId": "fcbc38b7-c3ad-4aef-ee5a-7036d0e38927"
   },
   "outputs": [
    {
     "data": {
      "text/plain": [
       "1.1"
      ]
     },
     "execution_count": 25,
     "metadata": {
      "tags": []
     },
     "output_type": "execute_result"
    }
   ],
   "source": [
    "c"
   ]
  },
  {
   "cell_type": "code",
   "execution_count": 0,
   "metadata": {
    "colab": {},
    "colab_type": "code",
    "id": "GITkoe5bvzoI"
   },
   "outputs": [],
   "source": [
    "c = int(c)"
   ]
  },
  {
   "cell_type": "code",
   "execution_count": 0,
   "metadata": {
    "colab": {
     "base_uri": "https://localhost:8080/",
     "height": 36
    },
    "colab_type": "code",
    "id": "ZV4GLVkZv2Vn",
    "outputId": "13defb92-d24c-49c2-cf02-da818e923df4"
   },
   "outputs": [
    {
     "data": {
      "text/plain": [
       "1"
      ]
     },
     "execution_count": 27,
     "metadata": {
      "tags": []
     },
     "output_type": "execute_result"
    }
   ],
   "source": [
    "c "
   ]
  },
  {
   "cell_type": "code",
   "execution_count": 0,
   "metadata": {
    "colab": {},
    "colab_type": "code",
    "id": "RFUeTbh4v29w"
   },
   "outputs": [],
   "source": [
    "l = [ 3,2,3,5]"
   ]
  },
  {
   "cell_type": "code",
   "execution_count": 0,
   "metadata": {
    "colab": {},
    "colab_type": "code",
    "id": "ofjjG5yIwKCw"
   },
   "outputs": [],
   "source": [
    "l.sort()"
   ]
  },
  {
   "cell_type": "code",
   "execution_count": 0,
   "metadata": {
    "colab": {
     "base_uri": "https://localhost:8080/",
     "height": 36
    },
    "colab_type": "code",
    "id": "e0oh3V01wLH_",
    "outputId": "d34d815a-c141-4226-b285-0dbca569ec6a"
   },
   "outputs": [
    {
     "data": {
      "text/plain": [
       "[2, 3, 3, 5]"
      ]
     },
     "execution_count": 30,
     "metadata": {
      "tags": []
     },
     "output_type": "execute_result"
    }
   ],
   "source": [
    "l"
   ]
  },
  {
   "cell_type": "code",
   "execution_count": 0,
   "metadata": {
    "colab": {
     "base_uri": "https://localhost:8080/",
     "height": 175
    },
    "colab_type": "code",
    "id": "DxuOFYDTwLsn",
    "outputId": "4a06d9d2-1c41-44b3-febd-c99565dfbacf"
   },
   "outputs": [
    {
     "ename": "TypeError",
     "evalue": "ignored",
     "output_type": "error",
     "traceback": [
      "\u001b[0;31m---------------------------------------------------------------------------\u001b[0m",
      "\u001b[0;31mTypeError\u001b[0m                                 Traceback (most recent call last)",
      "\u001b[0;32m<ipython-input-32-fb07ac7c73ab>\u001b[0m in \u001b[0;36m<module>\u001b[0;34m()\u001b[0m\n\u001b[0;32m----> 1\u001b[0;31m \u001b[0ml\u001b[0m\u001b[0;34m.\u001b[0m\u001b[0msort\u001b[0m\u001b[0;34m(\u001b[0m\u001b[0;34m)\u001b[0m\u001b[0;34m\u001b[0m\u001b[0;34m\u001b[0m\u001b[0m\n\u001b[0m",
      "\u001b[0;31mTypeError\u001b[0m: '<' not supported between instances of 'str' and 'int'"
     ]
    }
   ],
   "source": [
    "l.sort()"
   ]
  },
  {
   "cell_type": "code",
   "execution_count": 0,
   "metadata": {
    "colab": {
     "base_uri": "https://localhost:8080/",
     "height": 36
    },
    "colab_type": "code",
    "id": "b0jwk7CTwSLR",
    "outputId": "4c4ec902-62d4-4cab-fe41-de4a1cdb46cd"
   },
   "outputs": [
    {
     "data": {
      "text/plain": [
       "[1, 2, 3, 4, 5, 6, 'test', 'a', 'b', 'c']"
      ]
     },
     "execution_count": 33,
     "metadata": {
      "tags": []
     },
     "output_type": "execute_result"
    }
   ],
   "source": [
    "l"
   ]
  },
  {
   "cell_type": "code",
   "execution_count": 0,
   "metadata": {
    "colab": {
     "base_uri": "https://localhost:8080/",
     "height": 36
    },
    "colab_type": "code",
    "id": "3_ZPVVBiwe26",
    "outputId": "23e4cc0f-d357-45aa-f396-e7976e02e805"
   },
   "outputs": [
    {
     "data": {
      "text/plain": [
       "4"
      ]
     },
     "execution_count": 34,
     "metadata": {
      "tags": []
     },
     "output_type": "execute_result"
    }
   ],
   "source": [
    "l.pop(3)"
   ]
  },
  {
   "cell_type": "code",
   "execution_count": 0,
   "metadata": {
    "colab": {
     "base_uri": "https://localhost:8080/",
     "height": 36
    },
    "colab_type": "code",
    "id": "ssLu_W_ywjTw",
    "outputId": "abee97a0-4fbb-4c77-b81a-6b987717d539"
   },
   "outputs": [
    {
     "data": {
      "text/plain": [
       "[1, 2, 3, 5, 6, 'test', 'a', 'b', 'c']"
      ]
     },
     "execution_count": 35,
     "metadata": {
      "tags": []
     },
     "output_type": "execute_result"
    }
   ],
   "source": [
    "l"
   ]
  },
  {
   "cell_type": "code",
   "execution_count": 0,
   "metadata": {
    "colab": {},
    "colab_type": "code",
    "id": "slr06x5Owm2n"
   },
   "outputs": [],
   "source": [
    "apart = l.pop(5)"
   ]
  },
  {
   "cell_type": "code",
   "execution_count": 0,
   "metadata": {
    "colab": {
     "base_uri": "https://localhost:8080/",
     "height": 36
    },
    "colab_type": "code",
    "id": "bxgEUxLpwsup",
    "outputId": "85d24d66-ac09-4902-a0c6-fd466ea3e4ab"
   },
   "outputs": [
    {
     "data": {
      "text/plain": [
       "'test'"
      ]
     },
     "execution_count": 37,
     "metadata": {
      "tags": []
     },
     "output_type": "execute_result"
    }
   ],
   "source": [
    "apart"
   ]
  },
  {
   "cell_type": "code",
   "execution_count": 0,
   "metadata": {
    "colab": {
     "base_uri": "https://localhost:8080/",
     "height": 36
    },
    "colab_type": "code",
    "id": "tiVzJY28wtbX",
    "outputId": "fd8be6b2-09e3-4463-8e3d-9a4a7a0eb0b7"
   },
   "outputs": [
    {
     "data": {
      "text/plain": [
       "[1, 2, 3, 5, 6, 'a', 'b', 'c']"
      ]
     },
     "execution_count": 38,
     "metadata": {
      "tags": []
     },
     "output_type": "execute_result"
    }
   ],
   "source": [
    "l"
   ]
  },
  {
   "cell_type": "code",
   "execution_count": 0,
   "metadata": {
    "colab": {},
    "colab_type": "code",
    "id": "UXwJ5G_dwumg"
   },
   "outputs": [],
   "source": [
    "l.append('a')"
   ]
  },
  {
   "cell_type": "code",
   "execution_count": 0,
   "metadata": {
    "colab": {
     "base_uri": "https://localhost:8080/",
     "height": 36
    },
    "colab_type": "code",
    "id": "qe4blvOPxAZX",
    "outputId": "f9c2a417-4c9a-484d-9f25-951cd9edaa22"
   },
   "outputs": [
    {
     "data": {
      "text/plain": [
       "[1, 2, 3, 5, 6, 'a', 'b', 'c', 'a']"
      ]
     },
     "execution_count": 40,
     "metadata": {
      "tags": []
     },
     "output_type": "execute_result"
    }
   ],
   "source": [
    "l "
   ]
  },
  {
   "cell_type": "code",
   "execution_count": 0,
   "metadata": {
    "colab": {
     "base_uri": "https://localhost:8080/",
     "height": 175
    },
    "colab_type": "code",
    "id": "94SS6-l6xA8A",
    "outputId": "678c0f65-04f9-4970-ebef-b4ca0fe117d2"
   },
   "outputs": [
    {
     "ename": "NameError",
     "evalue": "ignored",
     "output_type": "error",
     "traceback": [
      "\u001b[0;31m---------------------------------------------------------------------------\u001b[0m",
      "\u001b[0;31mNameError\u001b[0m                                 Traceback (most recent call last)",
      "\u001b[0;32m<ipython-input-41-01da1727f551>\u001b[0m in \u001b[0;36m<module>\u001b[0;34m()\u001b[0m\n\u001b[0;32m----> 1\u001b[0;31m \u001b[0mc\u001b[0m \u001b[0;34m=\u001b[0m \u001b[0;34m[\u001b[0m\u001b[0mc\u001b[0m\u001b[0;34m,\u001b[0m\u001b[0md\u001b[0m\u001b[0;34m]\u001b[0m\u001b[0;34m\u001b[0m\u001b[0;34m\u001b[0m\u001b[0m\n\u001b[0m",
      "\u001b[0;31mNameError\u001b[0m: name 'd' is not defined"
     ]
    }
   ],
   "source": [
    "c = [c,d]"
   ]
  },
  {
   "cell_type": "code",
   "execution_count": 0,
   "metadata": {
    "colab": {},
    "colab_type": "code",
    "id": "brMr1bl9xEOK"
   },
   "outputs": [],
   "source": [
    "c=['c','d']"
   ]
  },
  {
   "cell_type": "code",
   "execution_count": 0,
   "metadata": {
    "colab": {},
    "colab_type": "code",
    "id": "OK5uxlutxGPg"
   },
   "outputs": [],
   "source": [
    "l.append(c)"
   ]
  },
  {
   "cell_type": "code",
   "execution_count": 0,
   "metadata": {
    "colab": {
     "base_uri": "https://localhost:8080/",
     "height": 36
    },
    "colab_type": "code",
    "id": "Z8lGmweRxLeg",
    "outputId": "f59994e8-a679-4428-cf92-61ce14c4e1c8"
   },
   "outputs": [
    {
     "data": {
      "text/plain": [
       "[1, 2, 3, 5, 6, 'a', 'b', 'c', 'a', ['c', 'd']]"
      ]
     },
     "execution_count": 44,
     "metadata": {
      "tags": []
     },
     "output_type": "execute_result"
    }
   ],
   "source": [
    "l"
   ]
  },
  {
   "cell_type": "code",
   "execution_count": 0,
   "metadata": {
    "colab": {
     "base_uri": "https://localhost:8080/",
     "height": 36
    },
    "colab_type": "code",
    "id": "50oCrI4nxMFg",
    "outputId": "d03e0f1f-3c24-415f-e57f-afa942b78f6f"
   },
   "outputs": [
    {
     "data": {
      "text/plain": [
       "['c', 'd']"
      ]
     },
     "execution_count": 47,
     "metadata": {
      "tags": []
     },
     "output_type": "execute_result"
    }
   ],
   "source": [
    "l.pop(9)"
   ]
  },
  {
   "cell_type": "code",
   "execution_count": 0,
   "metadata": {
    "colab": {},
    "colab_type": "code",
    "id": "vgQhT8o3xS69"
   },
   "outputs": [],
   "source": [
    "l.extend(c)"
   ]
  },
  {
   "cell_type": "code",
   "execution_count": 0,
   "metadata": {
    "colab": {
     "base_uri": "https://localhost:8080/",
     "height": 36
    },
    "colab_type": "code",
    "id": "rDw6hzq6xZan",
    "outputId": "54ae5c04-b15b-4afa-d8ef-fe8cd1fc6c0a"
   },
   "outputs": [
    {
     "data": {
      "text/plain": [
       "[1, 2, 3, 5, 6, 'a', 'b', 'c', 'a', 'c', 'd']"
      ]
     },
     "execution_count": 49,
     "metadata": {
      "tags": []
     },
     "output_type": "execute_result"
    }
   ],
   "source": [
    "l"
   ]
  },
  {
   "cell_type": "code",
   "execution_count": 0,
   "metadata": {
    "colab": {
     "base_uri": "https://localhost:8080/",
     "height": 36
    },
    "colab_type": "code",
    "id": "UTGUajmixaF_",
    "outputId": "346c9ba8-3731-4f4a-fe4a-eb326ad27dda"
   },
   "outputs": [
    {
     "data": {
      "text/plain": [
       "'c'"
      ]
     },
     "execution_count": 50,
     "metadata": {
      "tags": []
     },
     "output_type": "execute_result"
    }
   ],
   "source": [
    "l[-2]"
   ]
  },
  {
   "cell_type": "code",
   "execution_count": 0,
   "metadata": {
    "colab": {},
    "colab_type": "code",
    "id": "iKpPyoquxegq"
   },
   "outputs": [],
   "source": [
    "l.insert(3,'d')"
   ]
  },
  {
   "cell_type": "code",
   "execution_count": 0,
   "metadata": {
    "colab": {
     "base_uri": "https://localhost:8080/",
     "height": 36
    },
    "colab_type": "code",
    "id": "1_L3o0bKxlzQ",
    "outputId": "72eba8e5-0252-4b8f-b232-9adb4f8ff470"
   },
   "outputs": [
    {
     "data": {
      "text/plain": [
       "[1, 2, 3, 'd', 5, 6, 'a', 'b', 'c', 'a', 'c', 'd']"
      ]
     },
     "execution_count": 52,
     "metadata": {
      "tags": []
     },
     "output_type": "execute_result"
    }
   ],
   "source": [
    "l"
   ]
  },
  {
   "cell_type": "code",
   "execution_count": 0,
   "metadata": {
    "colab": {},
    "colab_type": "code",
    "id": "W74K0c4xxmr4"
   },
   "outputs": [],
   "source": [
    "l = [0,1,2,3,4,5,6,7,8]"
   ]
  },
  {
   "cell_type": "code",
   "execution_count": 0,
   "metadata": {
    "colab": {},
    "colab_type": "code",
    "id": "Keu8qEHPyB16"
   },
   "outputs": [],
   "source": [
    "n = np.array(l)"
   ]
  },
  {
   "cell_type": "code",
   "execution_count": 0,
   "metadata": {
    "colab": {
     "base_uri": "https://localhost:8080/",
     "height": 36
    },
    "colab_type": "code",
    "id": "3rL6a5-EyExv",
    "outputId": "1c6c7ef4-aa3b-4e3a-a56f-47a389019d65"
   },
   "outputs": [
    {
     "data": {
      "text/plain": [
       "array([0, 1, 2, 3, 4, 5, 6, 7, 8])"
      ]
     },
     "execution_count": 55,
     "metadata": {
      "tags": []
     },
     "output_type": "execute_result"
    }
   ],
   "source": [
    "n"
   ]
  },
  {
   "cell_type": "code",
   "execution_count": 0,
   "metadata": {
    "colab": {
     "base_uri": "https://localhost:8080/",
     "height": 36
    },
    "colab_type": "code",
    "id": "QOkzSeiYyFU_",
    "outputId": "2ba20fc1-ec45-4711-eb95-c5ca796710b1"
   },
   "outputs": [
    {
     "data": {
      "text/plain": [
       "1"
      ]
     },
     "execution_count": 56,
     "metadata": {
      "tags": []
     },
     "output_type": "execute_result"
    }
   ],
   "source": [
    "n.ndim"
   ]
  },
  {
   "cell_type": "code",
   "execution_count": 0,
   "metadata": {
    "colab": {
     "base_uri": "https://localhost:8080/",
     "height": 36
    },
    "colab_type": "code",
    "id": "7Etke36OyLoi",
    "outputId": "130fd7cb-ea97-40da-c674-d496f56c2a0f"
   },
   "outputs": [
    {
     "data": {
      "text/plain": [
       "(9,)"
      ]
     },
     "execution_count": 57,
     "metadata": {
      "tags": []
     },
     "output_type": "execute_result"
    }
   ],
   "source": [
    "n.shape"
   ]
  },
  {
   "cell_type": "code",
   "execution_count": 0,
   "metadata": {
    "colab": {},
    "colab_type": "code",
    "id": "F5ho-rpdyOK9"
   },
   "outputs": [],
   "source": [
    "n = n.reshape(3,3)"
   ]
  },
  {
   "cell_type": "code",
   "execution_count": 0,
   "metadata": {
    "colab": {
     "base_uri": "https://localhost:8080/",
     "height": 36
    },
    "colab_type": "code",
    "id": "m3bWQZ8EyXZJ",
    "outputId": "ece4f5fe-1cc3-4ecf-a545-f63c2bce8fa2"
   },
   "outputs": [
    {
     "data": {
      "text/plain": [
       "(3, 3)"
      ]
     },
     "execution_count": 61,
     "metadata": {
      "tags": []
     },
     "output_type": "execute_result"
    }
   ],
   "source": [
    "n.shape"
   ]
  },
  {
   "cell_type": "code",
   "execution_count": 0,
   "metadata": {
    "colab": {
     "base_uri": "https://localhost:8080/",
     "height": 74
    },
    "colab_type": "code",
    "id": "sG00GKq9yamr",
    "outputId": "721ee6fb-60fa-428b-ba16-2c6379881086"
   },
   "outputs": [
    {
     "data": {
      "text/plain": [
       "array([[0, 1, 2],\n",
       "       [3, 4, 5],\n",
       "       [6, 7, 8]])"
      ]
     },
     "execution_count": 62,
     "metadata": {
      "tags": []
     },
     "output_type": "execute_result"
    }
   ],
   "source": [
    "n"
   ]
  },
  {
   "cell_type": "code",
   "execution_count": 0,
   "metadata": {
    "colab": {
     "base_uri": "https://localhost:8080/",
     "height": 36
    },
    "colab_type": "code",
    "id": "M8T_utQgyhtb",
    "outputId": "09c8ffff-40b9-4ca6-9050-00dd2bcc9272"
   },
   "outputs": [
    {
     "data": {
      "text/plain": [
       "dtype('int64')"
      ]
     },
     "execution_count": 63,
     "metadata": {
      "tags": []
     },
     "output_type": "execute_result"
    }
   ],
   "source": [
    "n.dtype"
   ]
  },
  {
   "cell_type": "code",
   "execution_count": 0,
   "metadata": {
    "colab": {
     "base_uri": "https://localhost:8080/",
     "height": 36
    },
    "colab_type": "code",
    "id": "pQ3Ta_A_ylTL",
    "outputId": "d82ab2b4-e3d5-49f5-c527-1bee76370a1b"
   },
   "outputs": [
    {
     "data": {
      "text/plain": [
       "8"
      ]
     },
     "execution_count": 64,
     "metadata": {
      "tags": []
     },
     "output_type": "execute_result"
    }
   ],
   "source": [
    "n.itemsize"
   ]
  },
  {
   "cell_type": "code",
   "execution_count": 0,
   "metadata": {
    "colab": {
     "base_uri": "https://localhost:8080/",
     "height": 36
    },
    "colab_type": "code",
    "id": "y3KuNjwZypbo",
    "outputId": "e1e82615-51af-4a04-a703-4a2f753b4b9e"
   },
   "outputs": [
    {
     "data": {
      "text/plain": [
       "72"
      ]
     },
     "execution_count": 65,
     "metadata": {
      "tags": []
     },
     "output_type": "execute_result"
    }
   ],
   "source": [
    "n.nbytes"
   ]
  },
  {
   "cell_type": "code",
   "execution_count": 0,
   "metadata": {
    "colab": {},
    "colab_type": "code",
    "id": "8NPMimFwy0RB"
   },
   "outputs": [],
   "source": [
    "n=n.reshape(9)"
   ]
  },
  {
   "cell_type": "code",
   "execution_count": 0,
   "metadata": {
    "colab": {
     "base_uri": "https://localhost:8080/",
     "height": 36
    },
    "colab_type": "code",
    "id": "MkdYZnLZy9cR",
    "outputId": "84414a0d-c88b-4e63-90b2-09cc33130378"
   },
   "outputs": [
    {
     "data": {
      "text/plain": [
       "array([0, 1, 2, 3, 4, 5, 6, 7, 8])"
      ]
     },
     "execution_count": 69,
     "metadata": {
      "tags": []
     },
     "output_type": "execute_result"
    }
   ],
   "source": [
    "n"
   ]
  },
  {
   "cell_type": "code",
   "execution_count": 0,
   "metadata": {
    "colab": {
     "base_uri": "https://localhost:8080/",
     "height": 36
    },
    "colab_type": "code",
    "id": "yZxX144gzBQP",
    "outputId": "d74f1bba-2812-42d5-aa24-e64cf842abe5"
   },
   "outputs": [
    {
     "data": {
      "text/plain": [
       "[array([0, 1, 2]), array([3, 4, 5, 6, 7, 8])]"
      ]
     },
     "execution_count": 77,
     "metadata": {
      "tags": []
     },
     "output_type": "execute_result"
    }
   ],
   "source": [
    "np.split(n,[3])"
   ]
  },
  {
   "cell_type": "code",
   "execution_count": 0,
   "metadata": {
    "colab": {
     "base_uri": "https://localhost:8080/",
     "height": 175
    },
    "colab_type": "code",
    "id": "OEuMge61zKli",
    "outputId": "a28400dd-cedc-468a-bcdd-7c5bbfb7492b"
   },
   "outputs": [
    {
     "ename": "NameError",
     "evalue": "ignored",
     "output_type": "error",
     "traceback": [
      "\u001b[0;31m---------------------------------------------------------------------------\u001b[0m",
      "\u001b[0;31mNameError\u001b[0m                                 Traceback (most recent call last)",
      "\u001b[0;32m<ipython-input-76-7f732a21e98e>\u001b[0m in \u001b[0;36m<module>\u001b[0;34m()\u001b[0m\n\u001b[0;32m----> 1\u001b[0;31m \u001b[0mhelp\u001b[0m\u001b[0;34m(\u001b[0m\u001b[0msplit\u001b[0m\u001b[0;34m)\u001b[0m\u001b[0;34m\u001b[0m\u001b[0;34m\u001b[0m\u001b[0m\n\u001b[0m",
      "\u001b[0;31mNameError\u001b[0m: name 'split' is not defined"
     ]
    }
   ],
   "source": [
    "help(split)"
   ]
  },
  {
   "cell_type": "code",
   "execution_count": 0,
   "metadata": {
    "colab": {},
    "colab_type": "code",
    "id": "5XrbLTRgzbAp"
   },
   "outputs": [],
   "source": [
    "n = n.reshape(3,3)"
   ]
  },
  {
   "cell_type": "code",
   "execution_count": 0,
   "metadata": {
    "colab": {
     "base_uri": "https://localhost:8080/",
     "height": 74
    },
    "colab_type": "code",
    "id": "RQgF0l3yz5Xg",
    "outputId": "085689aa-c1ef-403f-a528-76c89dacaab1"
   },
   "outputs": [
    {
     "data": {
      "text/plain": [
       "array([[0, 1, 2],\n",
       "       [3, 4, 5],\n",
       "       [6, 7, 8]])"
      ]
     },
     "execution_count": 79,
     "metadata": {
      "tags": []
     },
     "output_type": "execute_result"
    }
   ],
   "source": [
    "n"
   ]
  },
  {
   "cell_type": "code",
   "execution_count": 0,
   "metadata": {
    "colab": {
     "base_uri": "https://localhost:8080/",
     "height": 111
    },
    "colab_type": "code",
    "id": "J8q5bi_Sz59P",
    "outputId": "336ce06e-020b-47e2-bc95-573f0d98b2eb"
   },
   "outputs": [
    {
     "data": {
      "text/plain": [
       "[array([[0],\n",
       "        [3],\n",
       "        [6]]), array([[1, 2],\n",
       "        [4, 5],\n",
       "        [7, 8]])]"
      ]
     },
     "execution_count": 81,
     "metadata": {
      "tags": []
     },
     "output_type": "execute_result"
    }
   ],
   "source": [
    "np.hsplit(n,[1])"
   ]
  },
  {
   "cell_type": "code",
   "execution_count": 0,
   "metadata": {
    "colab": {
     "base_uri": "https://localhost:8080/",
     "height": 55
    },
    "colab_type": "code",
    "id": "66Hcy237z-r3",
    "outputId": "79e5ea8d-094a-4e68-8401-13a3406a9000"
   },
   "outputs": [
    {
     "data": {
      "text/plain": [
       "[array([[0, 1, 2],\n",
       "        [3, 4, 5]]), array([[6, 7, 8]])]"
      ]
     },
     "execution_count": 82,
     "metadata": {
      "tags": []
     },
     "output_type": "execute_result"
    }
   ],
   "source": [
    "np.vsplit(n,[2])"
   ]
  },
  {
   "cell_type": "code",
   "execution_count": 0,
   "metadata": {
    "colab": {
     "base_uri": "https://localhost:8080/",
     "height": 36
    },
    "colab_type": "code",
    "id": "hZafjxTj0lM0",
    "outputId": "e03ab74d-56a7-4e50-c66d-9e9c3b3ff3c5"
   },
   "outputs": [
    {
     "data": {
      "text/plain": [
       "[0, 1, 2, 3, 4, 5, 6, 7, 8]"
      ]
     },
     "execution_count": 83,
     "metadata": {
      "tags": []
     },
     "output_type": "execute_result"
    }
   ],
   "source": [
    "l"
   ]
  },
  {
   "cell_type": "code",
   "execution_count": 0,
   "metadata": {
    "colab": {
     "base_uri": "https://localhost:8080/",
     "height": 187
    },
    "colab_type": "code",
    "id": "sy6yoo9W0_Pt",
    "outputId": "c39239c3-9d5b-4699-a10f-d65e72e0febf"
   },
   "outputs": [
    {
     "name": "stdout",
     "output_type": "stream",
     "text": [
      "0\n",
      "1\n",
      "2\n",
      "3\n",
      "4\n",
      "5\n",
      "6\n",
      "7\n",
      "8\n"
     ]
    }
   ],
   "source": [
    "for i in l:\n",
    "  print(i)"
   ]
  },
  {
   "cell_type": "code",
   "execution_count": 0,
   "metadata": {
    "colab": {
     "base_uri": "https://localhost:8080/",
     "height": 36
    },
    "colab_type": "code",
    "id": "Jon5a5BP12rQ",
    "outputId": "b167d299-958f-47d0-d557-a25a8ab51620"
   },
   "outputs": [
    {
     "data": {
      "text/plain": [
       "range(0, 8)"
      ]
     },
     "execution_count": 85,
     "metadata": {
      "tags": []
     },
     "output_type": "execute_result"
    }
   ],
   "source": [
    "range(8)"
   ]
  },
  {
   "cell_type": "code",
   "execution_count": 0,
   "metadata": {
    "colab": {},
    "colab_type": "code",
    "id": "qg3uXzBG2Iba"
   },
   "outputs": [],
   "source": [
    "a = range(8)"
   ]
  },
  {
   "cell_type": "code",
   "execution_count": 0,
   "metadata": {
    "colab": {
     "base_uri": "https://localhost:8080/",
     "height": 36
    },
    "colab_type": "code",
    "id": "OLyD_G4s2M-p",
    "outputId": "e5e12524-b5d4-4dca-a5aa-c7ff5fcac870"
   },
   "outputs": [
    {
     "data": {
      "text/plain": [
       "range(0, 8)"
      ]
     },
     "execution_count": 87,
     "metadata": {
      "tags": []
     },
     "output_type": "execute_result"
    }
   ],
   "source": [
    "a"
   ]
  },
  {
   "cell_type": "code",
   "execution_count": 0,
   "metadata": {
    "colab": {
     "base_uri": "https://localhost:8080/",
     "height": 36
    },
    "colab_type": "code",
    "id": "LBhTBpD42OIh",
    "outputId": "d2609440-537b-4312-cd7c-0c9327385eaa"
   },
   "outputs": [
    {
     "data": {
      "text/plain": [
       "3"
      ]
     },
     "execution_count": 88,
     "metadata": {
      "tags": []
     },
     "output_type": "execute_result"
    }
   ],
   "source": [
    "a[3]"
   ]
  },
  {
   "cell_type": "code",
   "execution_count": 0,
   "metadata": {
    "colab": {
     "base_uri": "https://localhost:8080/",
     "height": 168
    },
    "colab_type": "code",
    "id": "25JzYLxD2QYL",
    "outputId": "62c54936-4834-4bee-b25e-d80d6a1599fa"
   },
   "outputs": [
    {
     "name": "stdout",
     "output_type": "stream",
     "text": [
      "0\n",
      "1\n",
      "2\n",
      "3\n",
      "4\n",
      "5\n",
      "6\n",
      "7\n"
     ]
    }
   ],
   "source": [
    "for i in range(8):\n",
    "  print(l[i])"
   ]
  },
  {
   "cell_type": "code",
   "execution_count": 0,
   "metadata": {
    "colab": {},
    "colab_type": "code",
    "id": "eeTJsjVf2XAf"
   },
   "outputs": [],
   "source": [
    "i = 0"
   ]
  },
  {
   "cell_type": "code",
   "execution_count": 0,
   "metadata": {
    "colab": {
     "base_uri": "https://localhost:8080/",
     "height": 130
    },
    "colab_type": "code",
    "id": "fatU2Kqd2qsQ",
    "outputId": "e78c09c6-ef6a-4f11-f419-f7d67b2cce05"
   },
   "outputs": [
    {
     "name": "stdout",
     "output_type": "stream",
     "text": [
      "0\n",
      "1\n",
      "2\n",
      "3\n",
      "4\n",
      "5\n"
     ]
    }
   ],
   "source": [
    "while i < 6:\n",
    "  print(i)\n",
    "  i = i + 1"
   ]
  },
  {
   "cell_type": "code",
   "execution_count": 0,
   "metadata": {
    "colab": {
     "base_uri": "https://localhost:8080/",
     "height": 130
    },
    "colab_type": "code",
    "id": "1bOr8dmT21gJ",
    "outputId": "43e8fa13-effb-40d8-c04b-bd07992995e6"
   },
   "outputs": [
    {
     "name": "stdout",
     "output_type": "stream",
     "text": [
      "1\n",
      "2\n",
      "continue\n",
      "4\n",
      "5\n",
      "6\n"
     ]
    }
   ],
   "source": [
    "i=0\n",
    "while i < 6:\n",
    "  i=i+1\n",
    "  if i == 3:\n",
    "    print('continue')\n",
    "    continue\n",
    "  print(i)"
   ]
  },
  {
   "cell_type": "code",
   "execution_count": 0,
   "metadata": {
    "colab": {},
    "colab_type": "code",
    "id": "C3s972hs3EEC"
   },
   "outputs": [],
   "source": [
    "i=0"
   ]
  },
  {
   "cell_type": "code",
   "execution_count": 0,
   "metadata": {
    "colab": {
     "base_uri": "https://localhost:8080/",
     "height": 36
    },
    "colab_type": "code",
    "id": "XuTnzfu13o_B",
    "outputId": "03f57863-9c13-4a34-e7cb-5e825d67eee1"
   },
   "outputs": [
    {
     "data": {
      "text/plain": [
       "0"
      ]
     },
     "execution_count": 99,
     "metadata": {
      "tags": []
     },
     "output_type": "execute_result"
    }
   ],
   "source": [
    "i"
   ]
  },
  {
   "cell_type": "code",
   "execution_count": 0,
   "metadata": {
    "colab": {
     "base_uri": "https://localhost:8080/",
     "height": 36
    },
    "colab_type": "code",
    "id": "CVD2iUEc3qeA",
    "outputId": "847f6a2d-4bed-4cb5-f836-ce7e070ddb22"
   },
   "outputs": [
    {
     "data": {
      "text/plain": [
       "True"
      ]
     },
     "execution_count": 100,
     "metadata": {
      "tags": []
     },
     "output_type": "execute_result"
    }
   ],
   "source": [
    "i==0"
   ]
  },
  {
   "cell_type": "code",
   "execution_count": 0,
   "metadata": {
    "colab": {},
    "colab_type": "code",
    "id": "6ybUfZlE3uPr"
   },
   "outputs": [],
   "source": [
    "c = (i != 0)"
   ]
  },
  {
   "cell_type": "code",
   "execution_count": 0,
   "metadata": {
    "colab": {
     "base_uri": "https://localhost:8080/",
     "height": 36
    },
    "colab_type": "code",
    "id": "tI9RC2bL34zv",
    "outputId": "2309a1b2-7e69-4201-ce24-1d6f14e92037"
   },
   "outputs": [
    {
     "data": {
      "text/plain": [
       "False"
      ]
     },
     "execution_count": 102,
     "metadata": {
      "tags": []
     },
     "output_type": "execute_result"
    }
   ],
   "source": [
    "c"
   ]
  },
  {
   "cell_type": "code",
   "execution_count": 0,
   "metadata": {
    "colab": {},
    "colab_type": "code",
    "id": "dP4PMA9C35Z5"
   },
   "outputs": [],
   "source": [
    "def addition_avec_deux_par_default(test_a, test_b=2):\n",
    "  c = test_a+test_b\n",
    "  return c"
   ]
  },
  {
   "cell_type": "code",
   "execution_count": 0,
   "metadata": {
    "colab": {},
    "colab_type": "code",
    "id": "IRoDdGLM5egh"
   },
   "outputs": [],
   "source": [
    "resultat = addition_avec_deux_par_default(test_b=5,test_a=3)"
   ]
  },
  {
   "cell_type": "code",
   "execution_count": 0,
   "metadata": {
    "colab": {
     "base_uri": "https://localhost:8080/",
     "height": 36
    },
    "colab_type": "code",
    "id": "X8vlmKje5qQx",
    "outputId": "02431ad3-aeb4-492a-b1c2-93556c5fb30d"
   },
   "outputs": [
    {
     "data": {
      "text/plain": [
       "8"
      ]
     },
     "execution_count": 114,
     "metadata": {
      "tags": []
     },
     "output_type": "execute_result"
    }
   ],
   "source": [
    "resultat"
   ]
  },
  {
   "cell_type": "code",
   "execution_count": 0,
   "metadata": {
    "colab": {
     "base_uri": "https://localhost:8080/",
     "height": 175
    },
    "colab_type": "code",
    "id": "JH5Z6mMD5kBa",
    "outputId": "c6a6f4a0-0cdf-46fc-9d36-2d18eb27fa05"
   },
   "outputs": [
    {
     "ename": "NameError",
     "evalue": "ignored",
     "output_type": "error",
     "traceback": [
      "\u001b[0;31m---------------------------------------------------------------------------\u001b[0m",
      "\u001b[0;31mNameError\u001b[0m                                 Traceback (most recent call last)",
      "\u001b[0;32m<ipython-input-115-ce9fefd90f64>\u001b[0m in \u001b[0;36m<module>\u001b[0;34m()\u001b[0m\n\u001b[0;32m----> 1\u001b[0;31m \u001b[0msin\u001b[0m\u001b[0;34m(\u001b[0m\u001b[0;36m2\u001b[0m\u001b[0;34m)\u001b[0m\u001b[0;34m\u001b[0m\u001b[0;34m\u001b[0m\u001b[0m\n\u001b[0m",
      "\u001b[0;31mNameError\u001b[0m: name 'sin' is not defined"
     ]
    }
   ],
   "source": [
    "sin(2)"
   ]
  },
  {
   "cell_type": "code",
   "execution_count": 0,
   "metadata": {
    "colab": {},
    "colab_type": "code",
    "id": "Yq3ARVC16s2i"
   },
   "outputs": [],
   "source": [
    "import math"
   ]
  },
  {
   "cell_type": "code",
   "execution_count": 0,
   "metadata": {
    "colab": {
     "base_uri": "https://localhost:8080/",
     "height": 36
    },
    "colab_type": "code",
    "id": "l7oZF3My64wq",
    "outputId": "2b6a0c50-dd36-45fe-c676-cf171164d113"
   },
   "outputs": [
    {
     "data": {
      "text/plain": [
       "0.9092974268256817"
      ]
     },
     "execution_count": 117,
     "metadata": {
      "tags": []
     },
     "output_type": "execute_result"
    }
   ],
   "source": [
    "math.sin(2)"
   ]
  },
  {
   "cell_type": "code",
   "execution_count": 0,
   "metadata": {
    "colab": {},
    "colab_type": "code",
    "id": "06Wr597-7AsL"
   },
   "outputs": [],
   "source": [
    "from math import sin "
   ]
  },
  {
   "cell_type": "code",
   "execution_count": 0,
   "metadata": {
    "colab": {
     "base_uri": "https://localhost:8080/",
     "height": 36
    },
    "colab_type": "code",
    "id": "QEOr1T2Q7D6M",
    "outputId": "9471a9e3-abbf-496e-dcd2-9a9f691f8523"
   },
   "outputs": [
    {
     "data": {
      "text/plain": [
       "0.9092974268256817"
      ]
     },
     "execution_count": 121,
     "metadata": {
      "tags": []
     },
     "output_type": "execute_result"
    }
   ],
   "source": [
    "sin(2)"
   ]
  },
  {
   "cell_type": "code",
   "execution_count": 0,
   "metadata": {
    "colab": {},
    "colab_type": "code",
    "id": "beZIz10m7Q1T"
   },
   "outputs": [],
   "source": [
    "from math import cos as tan"
   ]
  },
  {
   "cell_type": "code",
   "execution_count": 0,
   "metadata": {
    "colab": {
     "base_uri": "https://localhost:8080/",
     "height": 36
    },
    "colab_type": "code",
    "id": "e5F1GOul7day",
    "outputId": "beb42206-e28e-4b2d-90f9-f98b3edb5e73"
   },
   "outputs": [
    {
     "data": {
      "text/plain": [
       "-0.4161468365471424"
      ]
     },
     "execution_count": 123,
     "metadata": {
      "tags": []
     },
     "output_type": "execute_result"
    }
   ],
   "source": [
    "tan(2)"
   ]
  },
  {
   "cell_type": "code",
   "execution_count": 0,
   "metadata": {
    "colab": {},
    "colab_type": "code",
    "id": "SHMuB9KY7fDB"
   },
   "outputs": [],
   "source": [
    "dictio = {'nom':'Thomas','taille':1.73}"
   ]
  },
  {
   "cell_type": "code",
   "execution_count": 0,
   "metadata": {
    "colab": {
     "base_uri": "https://localhost:8080/",
     "height": 36
    },
    "colab_type": "code",
    "id": "YvXdRO8a7xKp",
    "outputId": "faa824e6-27b6-4122-cedf-2b3a7c9baa76"
   },
   "outputs": [
    {
     "data": {
      "text/plain": [
       "'Thomas'"
      ]
     },
     "execution_count": 126,
     "metadata": {
      "tags": []
     },
     "output_type": "execute_result"
    }
   ],
   "source": [
    "dictio['nom']"
   ]
  },
  {
   "cell_type": "code",
   "execution_count": 0,
   "metadata": {
    "colab": {
     "base_uri": "https://localhost:8080/",
     "height": 36
    },
    "colab_type": "code",
    "id": "cASW5i4k7yzo",
    "outputId": "a7b54b90-bb2d-40c2-c2a8-ff27f71faf01"
   },
   "outputs": [
    {
     "data": {
      "text/plain": [
       "1.73"
      ]
     },
     "execution_count": 127,
     "metadata": {
      "tags": []
     },
     "output_type": "execute_result"
    }
   ],
   "source": [
    "dictio['taille']"
   ]
  },
  {
   "cell_type": "code",
   "execution_count": 0,
   "metadata": {
    "colab": {},
    "colab_type": "code",
    "id": "mXH8Z2_c76d6"
   },
   "outputs": [],
   "source": [
    "dictio = {'nom':'Thomas', 'proprites':['a','b',1,2]}"
   ]
  },
  {
   "cell_type": "code",
   "execution_count": 0,
   "metadata": {
    "colab": {},
    "colab_type": "code",
    "id": "MAN_rrJT8FrT"
   },
   "outputs": [],
   "source": [
    "f=open('train_data.csv', 'r')"
   ]
  },
  {
   "cell_type": "code",
   "execution_count": 0,
   "metadata": {
    "colab": {},
    "colab_type": "code",
    "id": "VwxmreM_9k9h"
   },
   "outputs": [],
   "source": [
    "c = f.read(10)"
   ]
  },
  {
   "cell_type": "code",
   "execution_count": 0,
   "metadata": {
    "colab": {
     "base_uri": "https://localhost:8080/",
     "height": 36
    },
    "colab_type": "code",
    "id": "PxC8e1cf9wgc",
    "outputId": "3923e4c5-b979-46a6-b1b9-3a328671f510"
   },
   "outputs": [
    {
     "data": {
      "text/plain": [
       "'radius_0,t'"
      ]
     },
     "execution_count": 138,
     "metadata": {
      "tags": []
     },
     "output_type": "execute_result"
    }
   ],
   "source": [
    "c"
   ]
  },
  {
   "cell_type": "code",
   "execution_count": 0,
   "metadata": {
    "colab": {
     "base_uri": "https://localhost:8080/",
     "height": 36
    },
    "colab_type": "code",
    "id": "9H97h4-c9xFv",
    "outputId": "3a537a59-f950-4717-86c8-dd7d364ca16a"
   },
   "outputs": [
    {
     "data": {
      "text/plain": [
       "0"
      ]
     },
     "execution_count": 142,
     "metadata": {
      "tags": []
     },
     "output_type": "execute_result"
    }
   ],
   "source": [
    "f.seek(0)"
   ]
  },
  {
   "cell_type": "code",
   "execution_count": 0,
   "metadata": {
    "colab": {},
    "colab_type": "code",
    "id": "tseVN6Ro-D8S"
   },
   "outputs": [],
   "source": [
    "fout=open('output.txt','w')"
   ]
  },
  {
   "cell_type": "code",
   "execution_count": 0,
   "metadata": {
    "colab": {
     "base_uri": "https://localhost:8080/",
     "height": 36
    },
    "colab_type": "code",
    "id": "LdqemxEG_PT3",
    "outputId": "c27d135d-601a-4eb1-9223-a4b5f7d38073"
   },
   "outputs": [
    {
     "data": {
      "text/plain": [
       "4"
      ]
     },
     "execution_count": 140,
     "metadata": {
      "tags": []
     },
     "output_type": "execute_result"
    }
   ],
   "source": [
    "fout.write('test')\n",
    "fout.close()"
   ]
  },
  {
   "cell_type": "code",
   "execution_count": 0,
   "metadata": {
    "colab": {},
    "colab_type": "code",
    "id": "V3_vR--x_U9L"
   },
   "outputs": [],
   "source": [
    "import csv "
   ]
  },
  {
   "cell_type": "code",
   "execution_count": 0,
   "metadata": {
    "colab": {},
    "colab_type": "code",
    "id": "bVx2cCL-_7gC"
   },
   "outputs": [],
   "source": [
    "reader = csv.reader(f,delimiter=',')"
   ]
  },
  {
   "cell_type": "code",
   "execution_count": 0,
   "metadata": {
    "colab": {},
    "colab_type": "code",
    "id": "dXyrx2KmAwkF"
   },
   "outputs": [],
   "source": [
    "f.seek(0)\n",
    "data=[]\n",
    "i = 0\n",
    "for row in reader:\n",
    "  \n",
    "  if i == 0:\n",
    "    description = row\n",
    "  else:\n",
    "    data.append(row)\n",
    "  i = i + 1"
   ]
  },
  {
   "cell_type": "code",
   "execution_count": 0,
   "metadata": {
    "colab": {
     "base_uri": "https://localhost:8080/",
     "height": 262
    },
    "colab_type": "code",
    "id": "RDEQLinTBFxJ",
    "outputId": "448ee6bd-5062-4467-b92a-2fbe5783aba1"
   },
   "outputs": [
    {
     "data": {
      "text/plain": [
       "['19.8583944023',\n",
       " '27.2044366426',\n",
       " '136.324255564',\n",
       " '22.6832898128',\n",
       " '32.80257840656313',\n",
       " '119.523841253',\n",
       " '21.4770518558',\n",
       " '27.3070874472',\n",
       " '82.36693560733677',\n",
       " '44',\n",
       " '2006-06-03',\n",
       " '2005-10-23',\n",
       " '0']"
      ]
     },
     "execution_count": 155,
     "metadata": {
      "tags": []
     },
     "output_type": "execute_result"
    }
   ],
   "source": [
    "data[0]"
   ]
  },
  {
   "cell_type": "code",
   "execution_count": 0,
   "metadata": {
    "colab": {
     "base_uri": "https://localhost:8080/",
     "height": 262
    },
    "colab_type": "code",
    "id": "Wbx8mnRNBI2D",
    "outputId": "a43d9ebd-a186-4f5e-cc0f-9b7e75a51655"
   },
   "outputs": [
    {
     "data": {
      "text/plain": [
       "['radius_0',\n",
       " 'texture_0',\n",
       " 'perimeter_0',\n",
       " 'radius_1',\n",
       " 'texture_1',\n",
       " 'perimeter_1',\n",
       " 'radius_2',\n",
       " 'texture_2',\n",
       " 'perimeter_2',\n",
       " 'age',\n",
       " 'treatment_date',\n",
       " 'diagnose_date',\n",
       " 'cancer_type']"
      ]
     },
     "execution_count": 154,
     "metadata": {
      "tags": []
     },
     "output_type": "execute_result"
    }
   ],
   "source": [
    "description"
   ]
  },
  {
   "cell_type": "code",
   "execution_count": 0,
   "metadata": {
    "colab": {
     "base_uri": "https://localhost:8080/",
     "height": 36
    },
    "colab_type": "code",
    "id": "pCs_UiBQBzbQ",
    "outputId": "b65d6341-681f-4743-8f42-729fd30203ea"
   },
   "outputs": [
    {
     "data": {
      "text/plain": [
       "[0, 1, 2, 3, 4, 5, 6, 7, 8]"
      ]
     },
     "execution_count": 156,
     "metadata": {
      "tags": []
     },
     "output_type": "execute_result"
    }
   ],
   "source": [
    "l"
   ]
  },
  {
   "cell_type": "code",
   "execution_count": 0,
   "metadata": {
    "colab": {},
    "colab_type": "code",
    "id": "h_HuVCmJhf6F"
   },
   "outputs": [],
   "source": [
    "import statistics as s"
   ]
  },
  {
   "cell_type": "code",
   "execution_count": 0,
   "metadata": {
    "colab": {
     "base_uri": "https://localhost:8080/",
     "height": 36
    },
    "colab_type": "code",
    "id": "YZUUIFe9hua0",
    "outputId": "35d9e025-7184-4ca6-9604-3dbe0c6bf344"
   },
   "outputs": [
    {
     "data": {
      "text/plain": [
       "[0, 1, 2, 3, 4, 5, 6, 7, 8]"
      ]
     },
     "execution_count": 159,
     "metadata": {
      "tags": []
     },
     "output_type": "execute_result"
    }
   ],
   "source": [
    "l"
   ]
  },
  {
   "cell_type": "code",
   "execution_count": 0,
   "metadata": {
    "colab": {
     "base_uri": "https://localhost:8080/",
     "height": 36
    },
    "colab_type": "code",
    "id": "svG9KQvIhyZN",
    "outputId": "b18855a2-f23a-4084-b2c6-3849d9905a93"
   },
   "outputs": [
    {
     "data": {
      "text/plain": [
       "4"
      ]
     },
     "execution_count": 160,
     "metadata": {
      "tags": []
     },
     "output_type": "execute_result"
    }
   ],
   "source": [
    "s.mean(l)"
   ]
  },
  {
   "cell_type": "code",
   "execution_count": 0,
   "metadata": {
    "colab": {
     "base_uri": "https://localhost:8080/",
     "height": 36
    },
    "colab_type": "code",
    "id": "TL0Xgs5hh1hw",
    "outputId": "a2fca1e5-d58e-4eeb-9cf5-816d3a4fa8ff"
   },
   "outputs": [
    {
     "data": {
      "text/plain": [
       "2.7386127875258306"
      ]
     },
     "execution_count": 161,
     "metadata": {
      "tags": []
     },
     "output_type": "execute_result"
    }
   ],
   "source": [
    "s.stdev(l)"
   ]
  },
  {
   "cell_type": "code",
   "execution_count": 0,
   "metadata": {
    "colab": {
     "base_uri": "https://localhost:8080/",
     "height": 36
    },
    "colab_type": "code",
    "id": "7sDOXaXrh9Ff",
    "outputId": "67c31c5e-ff70-4cd0-9b1f-4d21cc08e4aa"
   },
   "outputs": [
    {
     "data": {
      "text/plain": [
       "4"
      ]
     },
     "execution_count": 162,
     "metadata": {
      "tags": []
     },
     "output_type": "execute_result"
    }
   ],
   "source": [
    "s.median(l)"
   ]
  },
  {
   "cell_type": "code",
   "execution_count": 0,
   "metadata": {
    "colab": {
     "base_uri": "https://localhost:8080/",
     "height": 175
    },
    "colab_type": "code",
    "id": "IX2NALcUiAMz",
    "outputId": "cb329d12-c081-427c-af0b-5f6921f4e032"
   },
   "outputs": [
    {
     "ename": "AttributeError",
     "evalue": "ignored",
     "output_type": "error",
     "traceback": [
      "\u001b[0;31m---------------------------------------------------------------------------\u001b[0m",
      "\u001b[0;31mAttributeError\u001b[0m                            Traceback (most recent call last)",
      "\u001b[0;32m<ipython-input-169-4fcf329dabe3>\u001b[0m in \u001b[0;36m<module>\u001b[0;34m()\u001b[0m\n\u001b[0;32m----> 1\u001b[0;31m \u001b[0ms\u001b[0m\u001b[0;34m.\u001b[0m\u001b[0mquantiles\u001b[0m\u001b[0;34m(\u001b[0m\u001b[0ml\u001b[0m\u001b[0;34m,\u001b[0m\u001b[0;36m4\u001b[0m\u001b[0;34m)\u001b[0m\u001b[0;34m\u001b[0m\u001b[0;34m\u001b[0m\u001b[0m\n\u001b[0m",
      "\u001b[0;31mAttributeError\u001b[0m: module 'statistics' has no attribute 'quantiles'"
     ]
    }
   ],
   "source": [
    "s.quantiles(l,4)"
   ]
  },
  {
   "cell_type": "code",
   "execution_count": 0,
   "metadata": {
    "colab": {},
    "colab_type": "code",
    "id": "pK86Ap5iiHT9"
   },
   "outputs": [],
   "source": [
    "import pandas as pd"
   ]
  },
  {
   "cell_type": "code",
   "execution_count": 0,
   "metadata": {
    "colab": {},
    "colab_type": "code",
    "id": "x-Z_8A-Si-U9"
   },
   "outputs": [],
   "source": [
    "df = pd.read_csv('train_data.csv')"
   ]
  },
  {
   "cell_type": "code",
   "execution_count": 0,
   "metadata": {
    "colab": {
     "base_uri": "https://localhost:8080/",
     "height": 394
    },
    "colab_type": "code",
    "id": "KuCVBSRVjIJE",
    "outputId": "0c4a0a8c-0066-4da5-9f44-46e15f96886d"
   },
   "outputs": [
    {
     "name": "stdout",
     "output_type": "stream",
     "text": [
      "<class 'pandas.core.frame.DataFrame'>\n",
      "RangeIndex: 398 entries, 0 to 397\n",
      "Data columns (total 13 columns):\n",
      " #   Column          Non-Null Count  Dtype  \n",
      "---  ------          --------------  -----  \n",
      " 0   radius_0        398 non-null    float64\n",
      " 1   texture_0       398 non-null    float64\n",
      " 2   perimeter_0     398 non-null    float64\n",
      " 3   radius_1        343 non-null    float64\n",
      " 4   texture_1       398 non-null    float64\n",
      " 5   perimeter_1     264 non-null    float64\n",
      " 6   radius_2        398 non-null    float64\n",
      " 7   texture_2       398 non-null    object \n",
      " 8   perimeter_2     398 non-null    float64\n",
      " 9   age             398 non-null    int64  \n",
      " 10  treatment_date  398 non-null    object \n",
      " 11  diagnose_date   398 non-null    object \n",
      " 12  cancer_type     398 non-null    int64  \n",
      "dtypes: float64(8), int64(2), object(3)\n",
      "memory usage: 40.5+ KB\n"
     ]
    }
   ],
   "source": [
    "df.info()"
   ]
  },
  {
   "cell_type": "code",
   "execution_count": 0,
   "metadata": {
    "colab": {
     "base_uri": "https://localhost:8080/",
     "height": 383
    },
    "colab_type": "code",
    "id": "l3_8SteBjLkm",
    "outputId": "d3f8ad1b-d80a-479b-dab8-3cde87d4983f"
   },
   "outputs": [
    {
     "data": {
      "text/html": [
       "<div>\n",
       "<style scoped>\n",
       "    .dataframe tbody tr th:only-of-type {\n",
       "        vertical-align: middle;\n",
       "    }\n",
       "\n",
       "    .dataframe tbody tr th {\n",
       "        vertical-align: top;\n",
       "    }\n",
       "\n",
       "    .dataframe thead th {\n",
       "        text-align: right;\n",
       "    }\n",
       "</style>\n",
       "<table border=\"1\" class=\"dataframe\">\n",
       "  <thead>\n",
       "    <tr style=\"text-align: right;\">\n",
       "      <th></th>\n",
       "      <th>radius_0</th>\n",
       "      <th>texture_0</th>\n",
       "      <th>perimeter_0</th>\n",
       "      <th>radius_1</th>\n",
       "      <th>texture_1</th>\n",
       "      <th>perimeter_1</th>\n",
       "      <th>radius_2</th>\n",
       "      <th>perimeter_2</th>\n",
       "      <th>age</th>\n",
       "      <th>cancer_type</th>\n",
       "    </tr>\n",
       "  </thead>\n",
       "  <tbody>\n",
       "    <tr>\n",
       "      <th>radius_0</th>\n",
       "      <td>1.000000</td>\n",
       "      <td>0.090260</td>\n",
       "      <td>0.127806</td>\n",
       "      <td>0.127746</td>\n",
       "      <td>0.081339</td>\n",
       "      <td>0.133796</td>\n",
       "      <td>0.147473</td>\n",
       "      <td>-0.088002</td>\n",
       "      <td>0.047784</td>\n",
       "      <td>-0.165618</td>\n",
       "    </tr>\n",
       "    <tr>\n",
       "      <th>texture_0</th>\n",
       "      <td>0.090260</td>\n",
       "      <td>1.000000</td>\n",
       "      <td>0.180504</td>\n",
       "      <td>0.206626</td>\n",
       "      <td>0.054536</td>\n",
       "      <td>0.173020</td>\n",
       "      <td>0.171654</td>\n",
       "      <td>0.029577</td>\n",
       "      <td>0.015494</td>\n",
       "      <td>-0.262385</td>\n",
       "    </tr>\n",
       "    <tr>\n",
       "      <th>perimeter_0</th>\n",
       "      <td>0.127806</td>\n",
       "      <td>0.180504</td>\n",
       "      <td>1.000000</td>\n",
       "      <td>0.830154</td>\n",
       "      <td>0.151266</td>\n",
       "      <td>0.817371</td>\n",
       "      <td>0.820268</td>\n",
       "      <td>-0.026881</td>\n",
       "      <td>-0.059903</td>\n",
       "      <td>-0.702946</td>\n",
       "    </tr>\n",
       "    <tr>\n",
       "      <th>radius_1</th>\n",
       "      <td>0.127746</td>\n",
       "      <td>0.206626</td>\n",
       "      <td>0.830154</td>\n",
       "      <td>1.000000</td>\n",
       "      <td>0.156355</td>\n",
       "      <td>0.812138</td>\n",
       "      <td>0.856681</td>\n",
       "      <td>0.024772</td>\n",
       "      <td>-0.065711</td>\n",
       "      <td>-0.674863</td>\n",
       "    </tr>\n",
       "    <tr>\n",
       "      <th>texture_1</th>\n",
       "      <td>0.081339</td>\n",
       "      <td>0.054536</td>\n",
       "      <td>0.151266</td>\n",
       "      <td>0.156355</td>\n",
       "      <td>1.000000</td>\n",
       "      <td>0.138313</td>\n",
       "      <td>0.098114</td>\n",
       "      <td>-0.084125</td>\n",
       "      <td>0.055063</td>\n",
       "      <td>-0.158078</td>\n",
       "    </tr>\n",
       "    <tr>\n",
       "      <th>perimeter_1</th>\n",
       "      <td>0.133796</td>\n",
       "      <td>0.173020</td>\n",
       "      <td>0.817371</td>\n",
       "      <td>0.812138</td>\n",
       "      <td>0.138313</td>\n",
       "      <td>1.000000</td>\n",
       "      <td>0.866853</td>\n",
       "      <td>0.013581</td>\n",
       "      <td>-0.094998</td>\n",
       "      <td>-0.689613</td>\n",
       "    </tr>\n",
       "    <tr>\n",
       "      <th>radius_2</th>\n",
       "      <td>0.147473</td>\n",
       "      <td>0.171654</td>\n",
       "      <td>0.820268</td>\n",
       "      <td>0.856681</td>\n",
       "      <td>0.098114</td>\n",
       "      <td>0.866853</td>\n",
       "      <td>1.000000</td>\n",
       "      <td>-0.013657</td>\n",
       "      <td>-0.112529</td>\n",
       "      <td>-0.675149</td>\n",
       "    </tr>\n",
       "    <tr>\n",
       "      <th>perimeter_2</th>\n",
       "      <td>-0.088002</td>\n",
       "      <td>0.029577</td>\n",
       "      <td>-0.026881</td>\n",
       "      <td>0.024772</td>\n",
       "      <td>-0.084125</td>\n",
       "      <td>0.013581</td>\n",
       "      <td>-0.013657</td>\n",
       "      <td>1.000000</td>\n",
       "      <td>0.030057</td>\n",
       "      <td>0.013055</td>\n",
       "    </tr>\n",
       "    <tr>\n",
       "      <th>age</th>\n",
       "      <td>0.047784</td>\n",
       "      <td>0.015494</td>\n",
       "      <td>-0.059903</td>\n",
       "      <td>-0.065711</td>\n",
       "      <td>0.055063</td>\n",
       "      <td>-0.094998</td>\n",
       "      <td>-0.112529</td>\n",
       "      <td>0.030057</td>\n",
       "      <td>1.000000</td>\n",
       "      <td>-0.001636</td>\n",
       "    </tr>\n",
       "    <tr>\n",
       "      <th>cancer_type</th>\n",
       "      <td>-0.165618</td>\n",
       "      <td>-0.262385</td>\n",
       "      <td>-0.702946</td>\n",
       "      <td>-0.674863</td>\n",
       "      <td>-0.158078</td>\n",
       "      <td>-0.689613</td>\n",
       "      <td>-0.675149</td>\n",
       "      <td>0.013055</td>\n",
       "      <td>-0.001636</td>\n",
       "      <td>1.000000</td>\n",
       "    </tr>\n",
       "  </tbody>\n",
       "</table>\n",
       "</div>"
      ],
      "text/plain": [
       "             radius_0  texture_0  ...       age  cancer_type\n",
       "radius_0     1.000000   0.090260  ...  0.047784    -0.165618\n",
       "texture_0    0.090260   1.000000  ...  0.015494    -0.262385\n",
       "perimeter_0  0.127806   0.180504  ... -0.059903    -0.702946\n",
       "radius_1     0.127746   0.206626  ... -0.065711    -0.674863\n",
       "texture_1    0.081339   0.054536  ...  0.055063    -0.158078\n",
       "perimeter_1  0.133796   0.173020  ... -0.094998    -0.689613\n",
       "radius_2     0.147473   0.171654  ... -0.112529    -0.675149\n",
       "perimeter_2 -0.088002   0.029577  ...  0.030057     0.013055\n",
       "age          0.047784   0.015494  ...  1.000000    -0.001636\n",
       "cancer_type -0.165618  -0.262385  ... -0.001636     1.000000\n",
       "\n",
       "[10 rows x 10 columns]"
      ]
     },
     "execution_count": 182,
     "metadata": {
      "tags": []
     },
     "output_type": "execute_result"
    }
   ],
   "source": [
    "df.corr()"
   ]
  },
  {
   "cell_type": "code",
   "execution_count": 0,
   "metadata": {
    "colab": {
     "base_uri": "https://localhost:8080/",
     "height": 507
    },
    "colab_type": "code",
    "id": "F4m17qhJkCN5",
    "outputId": "da5228c1-ba97-4d3b-839b-c9b9db9aa724"
   },
   "outputs": [
    {
     "data": {
      "text/html": [
       "<div>\n",
       "<style scoped>\n",
       "    .dataframe tbody tr th:only-of-type {\n",
       "        vertical-align: middle;\n",
       "    }\n",
       "\n",
       "    .dataframe tbody tr th {\n",
       "        vertical-align: top;\n",
       "    }\n",
       "\n",
       "    .dataframe thead th {\n",
       "        text-align: right;\n",
       "    }\n",
       "</style>\n",
       "<table border=\"1\" class=\"dataframe\">\n",
       "  <thead>\n",
       "    <tr style=\"text-align: right;\">\n",
       "      <th></th>\n",
       "      <th>0</th>\n",
       "      <th>1</th>\n",
       "      <th>2</th>\n",
       "      <th>3</th>\n",
       "      <th>4</th>\n",
       "      <th>5</th>\n",
       "      <th>6</th>\n",
       "      <th>7</th>\n",
       "      <th>8</th>\n",
       "      <th>9</th>\n",
       "      <th>10</th>\n",
       "      <th>11</th>\n",
       "      <th>12</th>\n",
       "      <th>13</th>\n",
       "      <th>14</th>\n",
       "      <th>15</th>\n",
       "      <th>16</th>\n",
       "      <th>17</th>\n",
       "      <th>18</th>\n",
       "      <th>19</th>\n",
       "      <th>20</th>\n",
       "      <th>21</th>\n",
       "      <th>22</th>\n",
       "      <th>23</th>\n",
       "      <th>24</th>\n",
       "      <th>25</th>\n",
       "      <th>26</th>\n",
       "      <th>27</th>\n",
       "      <th>28</th>\n",
       "      <th>29</th>\n",
       "      <th>30</th>\n",
       "      <th>31</th>\n",
       "      <th>32</th>\n",
       "      <th>33</th>\n",
       "      <th>34</th>\n",
       "      <th>35</th>\n",
       "      <th>36</th>\n",
       "      <th>37</th>\n",
       "      <th>38</th>\n",
       "      <th>39</th>\n",
       "      <th>...</th>\n",
       "      <th>358</th>\n",
       "      <th>359</th>\n",
       "      <th>360</th>\n",
       "      <th>361</th>\n",
       "      <th>362</th>\n",
       "      <th>363</th>\n",
       "      <th>364</th>\n",
       "      <th>365</th>\n",
       "      <th>366</th>\n",
       "      <th>367</th>\n",
       "      <th>368</th>\n",
       "      <th>369</th>\n",
       "      <th>370</th>\n",
       "      <th>371</th>\n",
       "      <th>372</th>\n",
       "      <th>373</th>\n",
       "      <th>374</th>\n",
       "      <th>375</th>\n",
       "      <th>376</th>\n",
       "      <th>377</th>\n",
       "      <th>378</th>\n",
       "      <th>379</th>\n",
       "      <th>380</th>\n",
       "      <th>381</th>\n",
       "      <th>382</th>\n",
       "      <th>383</th>\n",
       "      <th>384</th>\n",
       "      <th>385</th>\n",
       "      <th>386</th>\n",
       "      <th>387</th>\n",
       "      <th>388</th>\n",
       "      <th>389</th>\n",
       "      <th>390</th>\n",
       "      <th>391</th>\n",
       "      <th>392</th>\n",
       "      <th>393</th>\n",
       "      <th>394</th>\n",
       "      <th>395</th>\n",
       "      <th>396</th>\n",
       "      <th>397</th>\n",
       "    </tr>\n",
       "  </thead>\n",
       "  <tbody>\n",
       "    <tr>\n",
       "      <th>radius_0</th>\n",
       "      <td>19.8584</td>\n",
       "      <td>14.1821</td>\n",
       "      <td>25.3803</td>\n",
       "      <td>11.836</td>\n",
       "      <td>14.8756</td>\n",
       "      <td>11.0164</td>\n",
       "      <td>19.3794</td>\n",
       "      <td>14.2922</td>\n",
       "      <td>13.1199</td>\n",
       "      <td>15.1006</td>\n",
       "      <td>8.56624</td>\n",
       "      <td>11.7365</td>\n",
       "      <td>210.886</td>\n",
       "      <td>11.9975</td>\n",
       "      <td>9.2055</td>\n",
       "      <td>19.1902</td>\n",
       "      <td>12.9863</td>\n",
       "      <td>15.4021</td>\n",
       "      <td>12.2766</td>\n",
       "      <td>11.9026</td>\n",
       "      <td>10.109</td>\n",
       "      <td>15.1055</td>\n",
       "      <td>18.0746</td>\n",
       "      <td>17.2877</td>\n",
       "      <td>14.2235</td>\n",
       "      <td>22.0094</td>\n",
       "      <td>10.7308</td>\n",
       "      <td>11.962</td>\n",
       "      <td>6.88551</td>\n",
       "      <td>11.7566</td>\n",
       "      <td>9.48742</td>\n",
       "      <td>16.9082</td>\n",
       "      <td>11.245</td>\n",
       "      <td>11.7736</td>\n",
       "      <td>13.6419</td>\n",
       "      <td>13.0353</td>\n",
       "      <td>10.8733</td>\n",
       "      <td>8.03293</td>\n",
       "      <td>10.3558</td>\n",
       "      <td>11.7358</td>\n",
       "      <td>...</td>\n",
       "      <td>9.04138</td>\n",
       "      <td>19.0812</td>\n",
       "      <td>16.5508</td>\n",
       "      <td>12.7991</td>\n",
       "      <td>15.6471</td>\n",
       "      <td>13.4436</td>\n",
       "      <td>9.20117</td>\n",
       "      <td>21.1013</td>\n",
       "      <td>12.2899</td>\n",
       "      <td>12.0383</td>\n",
       "      <td>14.0704</td>\n",
       "      <td>12.1013</td>\n",
       "      <td>18.0676</td>\n",
       "      <td>14.526</td>\n",
       "      <td>12.3114</td>\n",
       "      <td>11.8598</td>\n",
       "      <td>10.3574</td>\n",
       "      <td>12.8938</td>\n",
       "      <td>17.5912</td>\n",
       "      <td>11.7983</td>\n",
       "      <td>16.6542</td>\n",
       "      <td>16.4793</td>\n",
       "      <td>11.6828</td>\n",
       "      <td>19.1239</td>\n",
       "      <td>22.5741</td>\n",
       "      <td>17.5745</td>\n",
       "      <td>20.0287</td>\n",
       "      <td>13.1108</td>\n",
       "      <td>370.001</td>\n",
       "      <td>14.5581</td>\n",
       "      <td>19.1277</td>\n",
       "      <td>14.0596</td>\n",
       "      <td>14.8482</td>\n",
       "      <td>21.0814</td>\n",
       "      <td>21.4527</td>\n",
       "      <td>9.24874</td>\n",
       "      <td>19.915</td>\n",
       "      <td>11.9018</td>\n",
       "      <td>13.0172</td>\n",
       "      <td>10.6222</td>\n",
       "    </tr>\n",
       "    <tr>\n",
       "      <th>texture_0</th>\n",
       "      <td>27.2044</td>\n",
       "      <td>15.7547</td>\n",
       "      <td>21.2916</td>\n",
       "      <td>17.8207</td>\n",
       "      <td>17.5342</td>\n",
       "      <td>24.0134</td>\n",
       "      <td>21.8503</td>\n",
       "      <td>28.4308</td>\n",
       "      <td>14.6191</td>\n",
       "      <td>7.44</td>\n",
       "      <td>33.2053</td>\n",
       "      <td>13.3167</td>\n",
       "      <td>16.774</td>\n",
       "      <td>31.5632</td>\n",
       "      <td>-17.2432</td>\n",
       "      <td>14.2062</td>\n",
       "      <td>21.4631</td>\n",
       "      <td>20.9519</td>\n",
       "      <td>15.5595</td>\n",
       "      <td>20.9489</td>\n",
       "      <td>18.9455</td>\n",
       "      <td>16.392</td>\n",
       "      <td>19.4314</td>\n",
       "      <td>12.7357</td>\n",
       "      <td>17.7717</td>\n",
       "      <td>28.456</td>\n",
       "      <td>16.6737</td>\n",
       "      <td>9.06345</td>\n",
       "      <td>12.9246</td>\n",
       "      <td>12.4205</td>\n",
       "      <td>22.686</td>\n",
       "      <td>14.9563</td>\n",
       "      <td>20.7316</td>\n",
       "      <td>21.2095</td>\n",
       "      <td>25.0814</td>\n",
       "      <td>21.6554</td>\n",
       "      <td>23.3059</td>\n",
       "      <td>31.767</td>\n",
       "      <td>5.68832</td>\n",
       "      <td>13.0246</td>\n",
       "      <td>...</td>\n",
       "      <td>11.7198</td>\n",
       "      <td>15.5778</td>\n",
       "      <td>4.77292</td>\n",
       "      <td>12.2344</td>\n",
       "      <td>36.6282</td>\n",
       "      <td>15.362</td>\n",
       "      <td>14.5022</td>\n",
       "      <td>24.1618</td>\n",
       "      <td>18.2876</td>\n",
       "      <td>20.2098</td>\n",
       "      <td>23.8623</td>\n",
       "      <td>17.9669</td>\n",
       "      <td>28.6962</td>\n",
       "      <td>24.2203</td>\n",
       "      <td>16.0579</td>\n",
       "      <td>17.1448</td>\n",
       "      <td>21.9485</td>\n",
       "      <td>28.5982</td>\n",
       "      <td>13.5938</td>\n",
       "      <td>12.8417</td>\n",
       "      <td>22.5029</td>\n",
       "      <td>33.0455</td>\n",
       "      <td>20.9159</td>\n",
       "      <td>18.137</td>\n",
       "      <td>20.2461</td>\n",
       "      <td>18.2952</td>\n",
       "      <td>18.4376</td>\n",
       "      <td>9.81379</td>\n",
       "      <td>23.8532</td>\n",
       "      <td>20.4343</td>\n",
       "      <td>27.5533</td>\n",
       "      <td>24.1581</td>\n",
       "      <td>20.4647</td>\n",
       "      <td>20.4294</td>\n",
       "      <td>24.2706</td>\n",
       "      <td>22.0382</td>\n",
       "      <td>33.9648</td>\n",
       "      <td>14.8994</td>\n",
       "      <td>22.8183</td>\n",
       "      <td>26.5855</td>\n",
       "    </tr>\n",
       "    <tr>\n",
       "      <th>perimeter_0</th>\n",
       "      <td>136.324</td>\n",
       "      <td>80.917</td>\n",
       "      <td>152.281</td>\n",
       "      <td>72.1785</td>\n",
       "      <td>98.5458</td>\n",
       "      <td>72.3736</td>\n",
       "      <td>107.734</td>\n",
       "      <td>81.2936</td>\n",
       "      <td>88.2935</td>\n",
       "      <td>90.0244</td>\n",
       "      <td>64.7569</td>\n",
       "      <td>78.777</td>\n",
       "      <td>73.647</td>\n",
       "      <td>80.8848</td>\n",
       "      <td>55.9384</td>\n",
       "      <td>115.549</td>\n",
       "      <td>79.2545</td>\n",
       "      <td>105.928</td>\n",
       "      <td>79.4255</td>\n",
       "      <td>74.0567</td>\n",
       "      <td>52.6921</td>\n",
       "      <td>102.044</td>\n",
       "      <td>128.661</td>\n",
       "      <td>96.2128</td>\n",
       "      <td>79.3526</td>\n",
       "      <td>123.652</td>\n",
       "      <td>75.9873</td>\n",
       "      <td>74.01</td>\n",
       "      <td>48.7291</td>\n",
       "      <td>75.9335</td>\n",
       "      <td>65.6242</td>\n",
       "      <td>90.3366</td>\n",
       "      <td>73.592</td>\n",
       "      <td>86.635</td>\n",
       "      <td>97.9918</td>\n",
       "      <td>100.545</td>\n",
       "      <td>91.0655</td>\n",
       "      <td>64.2854</td>\n",
       "      <td>76.1163</td>\n",
       "      <td>120.845</td>\n",
       "      <td>...</td>\n",
       "      <td>77.8892</td>\n",
       "      <td>104.907</td>\n",
       "      <td>134.639</td>\n",
       "      <td>84.654</td>\n",
       "      <td>94.8512</td>\n",
       "      <td>98.1685</td>\n",
       "      <td>106.692</td>\n",
       "      <td>162.12</td>\n",
       "      <td>80.4153</td>\n",
       "      <td>73.8547</td>\n",
       "      <td>91.3108</td>\n",
       "      <td>88.5347</td>\n",
       "      <td>134.715</td>\n",
       "      <td>97.2675</td>\n",
       "      <td>77.5996</td>\n",
       "      <td>87.5637</td>\n",
       "      <td>132.188</td>\n",
       "      <td>77.6136</td>\n",
       "      <td>126.147</td>\n",
       "      <td>87.3898</td>\n",
       "      <td>115.863</td>\n",
       "      <td>95.3534</td>\n",
       "      <td>64.7325</td>\n",
       "      <td>108.004</td>\n",
       "      <td>164.495</td>\n",
       "      <td>107.096</td>\n",
       "      <td>119.5</td>\n",
       "      <td>88.3426</td>\n",
       "      <td>104.427</td>\n",
       "      <td>88.3532</td>\n",
       "      <td>122.537</td>\n",
       "      <td>92.6986</td>\n",
       "      <td>117.536</td>\n",
       "      <td>114.247</td>\n",
       "      <td>165.24</td>\n",
       "      <td>80.8514</td>\n",
       "      <td>94.2514</td>\n",
       "      <td>75.2712</td>\n",
       "      <td>76.9718</td>\n",
       "      <td>67.6937</td>\n",
       "    </tr>\n",
       "    <tr>\n",
       "      <th>radius_1</th>\n",
       "      <td>22.6833</td>\n",
       "      <td>14.0438</td>\n",
       "      <td>23.8522</td>\n",
       "      <td>11.2603</td>\n",
       "      <td>14.3807</td>\n",
       "      <td>12.0742</td>\n",
       "      <td>16.7487</td>\n",
       "      <td>15.0425</td>\n",
       "      <td>13.0932</td>\n",
       "      <td>14.6459</td>\n",
       "      <td>10.0117</td>\n",
       "      <td>11.9198</td>\n",
       "      <td>9.19713</td>\n",
       "      <td>11.1153</td>\n",
       "      <td>8.9321</td>\n",
       "      <td>15.0778</td>\n",
       "      <td>13.3274</td>\n",
       "      <td>13.9282</td>\n",
       "      <td>12.6481</td>\n",
       "      <td>11.596</td>\n",
       "      <td>10.1299</td>\n",
       "      <td>13.791</td>\n",
       "      <td>20.1042</td>\n",
       "      <td>16.3831</td>\n",
       "      <td>13.4721</td>\n",
       "      <td>NaN</td>\n",
       "      <td>10.4328</td>\n",
       "      <td>12.5087</td>\n",
       "      <td>6.52723</td>\n",
       "      <td>NaN</td>\n",
       "      <td>10.7307</td>\n",
       "      <td>14.7488</td>\n",
       "      <td>NaN</td>\n",
       "      <td>9.72419</td>\n",
       "      <td>13.4982</td>\n",
       "      <td>9.58949</td>\n",
       "      <td>11.5421</td>\n",
       "      <td>11.2854</td>\n",
       "      <td>12.9741</td>\n",
       "      <td>15.4251</td>\n",
       "      <td>...</td>\n",
       "      <td>10.702</td>\n",
       "      <td>NaN</td>\n",
       "      <td>18.0619</td>\n",
       "      <td>12.3758</td>\n",
       "      <td>14.2115</td>\n",
       "      <td>13.2511</td>\n",
       "      <td>13.016</td>\n",
       "      <td>NaN</td>\n",
       "      <td>14.3237</td>\n",
       "      <td>11.7071</td>\n",
       "      <td>14.3167</td>\n",
       "      <td>12.5477</td>\n",
       "      <td>21.1108</td>\n",
       "      <td>16.5524</td>\n",
       "      <td>12.3963</td>\n",
       "      <td>12.491</td>\n",
       "      <td>26.9773</td>\n",
       "      <td>13.3108</td>\n",
       "      <td>16.9756</td>\n",
       "      <td>NaN</td>\n",
       "      <td>15.2677</td>\n",
       "      <td>17.6291</td>\n",
       "      <td>10.4663</td>\n",
       "      <td>18.1001</td>\n",
       "      <td>NaN</td>\n",
       "      <td>15.704</td>\n",
       "      <td>21.1413</td>\n",
       "      <td>13.7865</td>\n",
       "      <td>12.8906</td>\n",
       "      <td>13.3712</td>\n",
       "      <td>21.5547</td>\n",
       "      <td>12.6095</td>\n",
       "      <td>15.4051</td>\n",
       "      <td>17.5057</td>\n",
       "      <td>18.3155</td>\n",
       "      <td>NaN</td>\n",
       "      <td>22.3553</td>\n",
       "      <td>11.9152</td>\n",
       "      <td>10.7321</td>\n",
       "      <td>11.2088</td>\n",
       "    </tr>\n",
       "    <tr>\n",
       "      <th>texture_1</th>\n",
       "      <td>32.8026</td>\n",
       "      <td>30.0947</td>\n",
       "      <td>46.2379</td>\n",
       "      <td>44.8052</td>\n",
       "      <td>26.1904</td>\n",
       "      <td>41.7143</td>\n",
       "      <td>22.2656</td>\n",
       "      <td>36.4805</td>\n",
       "      <td>12.2997</td>\n",
       "      <td>11.4253</td>\n",
       "      <td>43.3674</td>\n",
       "      <td>14.0503</td>\n",
       "      <td>21.9519</td>\n",
       "      <td>52.884</td>\n",
       "      <td>39.3578</td>\n",
       "      <td>12.3476</td>\n",
       "      <td>8.98196</td>\n",
       "      <td>21.3932</td>\n",
       "      <td>14.5456</td>\n",
       "      <td>52.0098</td>\n",
       "      <td>40.2504</td>\n",
       "      <td>45.8808</td>\n",
       "      <td>49.0085</td>\n",
       "      <td>46.9389</td>\n",
       "      <td>51.1653</td>\n",
       "      <td>6.78414</td>\n",
       "      <td>33.4181</td>\n",
       "      <td>16.9487</td>\n",
       "      <td>34.5818</td>\n",
       "      <td>16.0578</td>\n",
       "      <td>33.2021</td>\n",
       "      <td>45.8516</td>\n",
       "      <td>10.0818</td>\n",
       "      <td>39.5442</td>\n",
       "      <td>45.2361</td>\n",
       "      <td>5.60945</td>\n",
       "      <td>30.8765</td>\n",
       "      <td>43.3658</td>\n",
       "      <td>23.1807</td>\n",
       "      <td>22.2422</td>\n",
       "      <td>...</td>\n",
       "      <td>6.42275</td>\n",
       "      <td>43.2214</td>\n",
       "      <td>25.584</td>\n",
       "      <td>37.8265</td>\n",
       "      <td>20.2915</td>\n",
       "      <td>43.2819</td>\n",
       "      <td>55.8206</td>\n",
       "      <td>24.3254</td>\n",
       "      <td>35.783</td>\n",
       "      <td>29.8532</td>\n",
       "      <td>45.1531</td>\n",
       "      <td>39.2147</td>\n",
       "      <td>39.3126</td>\n",
       "      <td>37.3163</td>\n",
       "      <td>25.3379</td>\n",
       "      <td>15.9492</td>\n",
       "      <td>52.0925</td>\n",
       "      <td>23.3658</td>\n",
       "      <td>6.32489</td>\n",
       "      <td>7.92648</td>\n",
       "      <td>25.1927</td>\n",
       "      <td>45.5336</td>\n",
       "      <td>7.58052</td>\n",
       "      <td>28.2079</td>\n",
       "      <td>40.6362</td>\n",
       "      <td>36.7145</td>\n",
       "      <td>52.9261</td>\n",
       "      <td>36.7466</td>\n",
       "      <td>30.9254</td>\n",
       "      <td>35.88</td>\n",
       "      <td>30.7749</td>\n",
       "      <td>41.8349</td>\n",
       "      <td>22.2278</td>\n",
       "      <td>49.2295</td>\n",
       "      <td>27.4641</td>\n",
       "      <td>8.56083</td>\n",
       "      <td>41.0647</td>\n",
       "      <td>27.4492</td>\n",
       "      <td>16.7659</td>\n",
       "      <td>24.4785</td>\n",
       "    </tr>\n",
       "    <tr>\n",
       "      <th>perimeter_1</th>\n",
       "      <td>119.524</td>\n",
       "      <td>94.9111</td>\n",
       "      <td>NaN</td>\n",
       "      <td>NaN</td>\n",
       "      <td>89.7125</td>\n",
       "      <td>71.4403</td>\n",
       "      <td>NaN</td>\n",
       "      <td>78.6686</td>\n",
       "      <td>81.908</td>\n",
       "      <td>95.2426</td>\n",
       "      <td>NaN</td>\n",
       "      <td>84.2982</td>\n",
       "      <td>71.5464</td>\n",
       "      <td>81.2439</td>\n",
       "      <td>NaN</td>\n",
       "      <td>119.672</td>\n",
       "      <td>99.3088</td>\n",
       "      <td>99.9001</td>\n",
       "      <td>74.5668</td>\n",
       "      <td>NaN</td>\n",
       "      <td>NaN</td>\n",
       "      <td>100.865</td>\n",
       "      <td>121.936</td>\n",
       "      <td>NaN</td>\n",
       "      <td>84.7322</td>\n",
       "      <td>128.569</td>\n",
       "      <td>68.9684</td>\n",
       "      <td>70.2909</td>\n",
       "      <td>NaN</td>\n",
       "      <td>73.85</td>\n",
       "      <td>50.1059</td>\n",
       "      <td>102.097</td>\n",
       "      <td>82.4262</td>\n",
       "      <td>NaN</td>\n",
       "      <td>NaN</td>\n",
       "      <td>95.6642</td>\n",
       "      <td>74.7008</td>\n",
       "      <td>91.4405</td>\n",
       "      <td>NaN</td>\n",
       "      <td>NaN</td>\n",
       "      <td>...</td>\n",
       "      <td>NaN</td>\n",
       "      <td>116.619</td>\n",
       "      <td>109.668</td>\n",
       "      <td>75.2504</td>\n",
       "      <td>85.648</td>\n",
       "      <td>NaN</td>\n",
       "      <td>69.7921</td>\n",
       "      <td>160.651</td>\n",
       "      <td>75.0043</td>\n",
       "      <td>83.025</td>\n",
       "      <td>NaN</td>\n",
       "      <td>NaN</td>\n",
       "      <td>NaN</td>\n",
       "      <td>NaN</td>\n",
       "      <td>79.2813</td>\n",
       "      <td>93.4155</td>\n",
       "      <td>138.142</td>\n",
       "      <td>89.8612</td>\n",
       "      <td>NaN</td>\n",
       "      <td>74.0293</td>\n",
       "      <td>99.4283</td>\n",
       "      <td>NaN</td>\n",
       "      <td>NaN</td>\n",
       "      <td>124.593</td>\n",
       "      <td>115.076</td>\n",
       "      <td>94.5255</td>\n",
       "      <td>131.862</td>\n",
       "      <td>86.6888</td>\n",
       "      <td>113.179</td>\n",
       "      <td>87.7666</td>\n",
       "      <td>147.451</td>\n",
       "      <td>82.3945</td>\n",
       "      <td>106.933</td>\n",
       "      <td>161.197</td>\n",
       "      <td>112.425</td>\n",
       "      <td>72.581</td>\n",
       "      <td>NaN</td>\n",
       "      <td>83.6733</td>\n",
       "      <td>70.391</td>\n",
       "      <td>NaN</td>\n",
       "    </tr>\n",
       "    <tr>\n",
       "      <th>radius_2</th>\n",
       "      <td>21.4771</td>\n",
       "      <td>15.0123</td>\n",
       "      <td>28.5633</td>\n",
       "      <td>12.0827</td>\n",
       "      <td>12.9307</td>\n",
       "      <td>11.309</td>\n",
       "      <td>18.0893</td>\n",
       "      <td>14.5842</td>\n",
       "      <td>13.9637</td>\n",
       "      <td>13.5708</td>\n",
       "      <td>11.9716</td>\n",
       "      <td>13.0407</td>\n",
       "      <td>11.3953</td>\n",
       "      <td>10.2407</td>\n",
       "      <td>9.05606</td>\n",
       "      <td>22.7134</td>\n",
       "      <td>13.7288</td>\n",
       "      <td>14.0909</td>\n",
       "      <td>12.2799</td>\n",
       "      <td>10.0086</td>\n",
       "      <td>8.90209</td>\n",
       "      <td>14.3134</td>\n",
       "      <td>17.7051</td>\n",
       "      <td>13.8319</td>\n",
       "      <td>12.3697</td>\n",
       "      <td>19.1197</td>\n",
       "      <td>10.6168</td>\n",
       "      <td>12.6892</td>\n",
       "      <td>7.07985</td>\n",
       "      <td>11.5549</td>\n",
       "      <td>8.83952</td>\n",
       "      <td>14.7487</td>\n",
       "      <td>9.20084</td>\n",
       "      <td>12.3313</td>\n",
       "      <td>15.3407</td>\n",
       "      <td>12.3744</td>\n",
       "      <td>12.7501</td>\n",
       "      <td>9.68901</td>\n",
       "      <td>12.006</td>\n",
       "      <td>12.2209</td>\n",
       "      <td>...</td>\n",
       "      <td>12.8121</td>\n",
       "      <td>15.9584</td>\n",
       "      <td>16.8734</td>\n",
       "      <td>12.6941</td>\n",
       "      <td>14.5148</td>\n",
       "      <td>14.101</td>\n",
       "      <td>10.3427</td>\n",
       "      <td>21.8016</td>\n",
       "      <td>14.3607</td>\n",
       "      <td>11.8184</td>\n",
       "      <td>12.1367</td>\n",
       "      <td>11.6947</td>\n",
       "      <td>19.2215</td>\n",
       "      <td>13.6195</td>\n",
       "      <td>12.5294</td>\n",
       "      <td>11.6908</td>\n",
       "      <td>16.0459</td>\n",
       "      <td>14.3348</td>\n",
       "      <td>18.2285</td>\n",
       "      <td>11.3436</td>\n",
       "      <td>14.2283</td>\n",
       "      <td>18.5632</td>\n",
       "      <td>11.1127</td>\n",
       "      <td>20.6941</td>\n",
       "      <td>21.054</td>\n",
       "      <td>16.6233</td>\n",
       "      <td>23.3205</td>\n",
       "      <td>13.037</td>\n",
       "      <td>14.8553</td>\n",
       "      <td>15.0293</td>\n",
       "      <td>23.8215</td>\n",
       "      <td>11.5346</td>\n",
       "      <td>16.3416</td>\n",
       "      <td>18.301</td>\n",
       "      <td>18.7518</td>\n",
       "      <td>12.2817</td>\n",
       "      <td>20.4715</td>\n",
       "      <td>11.7472</td>\n",
       "      <td>12.0421</td>\n",
       "      <td>9.79492</td>\n",
       "    </tr>\n",
       "    <tr>\n",
       "      <th>texture_2</th>\n",
       "      <td>27.3070874472</td>\n",
       "      <td>17.8551305385</td>\n",
       "      <td>21.0971528265</td>\n",
       "      <td>16.4992370844</td>\n",
       "      <td>19.8566873539</td>\n",
       "      <td>xx</td>\n",
       "      <td>20.9626231639</td>\n",
       "      <td>24.0556397932</td>\n",
       "      <td>16.9083417504</td>\n",
       "      <td>11.934938182</td>\n",
       "      <td>23.7444332541</td>\n",
       "      <td>16.7766637033</td>\n",
       "      <td>xx</td>\n",
       "      <td>34.4858344724</td>\n",
       "      <td>28.0304832259</td>\n",
       "      <td>13.4846482522</td>\n",
       "      <td>28.5635025334</td>\n",
       "      <td>22.4255142924</td>\n",
       "      <td>22.8145961536</td>\n",
       "      <td>6.28832762527</td>\n",
       "      <td>24.1667721334</td>\n",
       "      <td>15.9183319922</td>\n",
       "      <td>19.6027140585</td>\n",
       "      <td>14.0748537654</td>\n",
       "      <td>21.5117210653</td>\n",
       "      <td>21.1941394318</td>\n",
       "      <td>16.2049405903</td>\n",
       "      <td>9.61456785184</td>\n",
       "      <td>14.387621027</td>\n",
       "      <td>12.2211196515</td>\n",
       "      <td>22.4458738029</td>\n",
       "      <td>20.3647824424</td>\n",
       "      <td>23.2419935045</td>\n",
       "      <td>26.760989045</td>\n",
       "      <td>18.6886009564</td>\n",
       "      <td>21.5164846313</td>\n",
       "      <td>22.5393504182</td>\n",
       "      <td>18.1456363437</td>\n",
       "      <td>10.7635252131</td>\n",
       "      <td>18.5107559464</td>\n",
       "      <td>...</td>\n",
       "      <td>11.8478371204</td>\n",
       "      <td>28.8532279736</td>\n",
       "      <td>30.0897117151</td>\n",
       "      <td>14.3027824993</td>\n",
       "      <td>26.874852549</td>\n",
       "      <td>15.49675619</td>\n",
       "      <td>13.8140231039</td>\n",
       "      <td>22.1903677951</td>\n",
       "      <td>12.9523087806</td>\n",
       "      <td>15.6971183335</td>\n",
       "      <td>8.22409664869</td>\n",
       "      <td>20.2382636672</td>\n",
       "      <td>22.0210035324</td>\n",
       "      <td>18.2981948648</td>\n",
       "      <td>16.5194182857</td>\n",
       "      <td>20.9746373529</td>\n",
       "      <td>24.9592232776</td>\n",
       "      <td>28.8618807126</td>\n",
       "      <td>10.92038007</td>\n",
       "      <td>19.7530608421</td>\n",
       "      <td>26.2346707557</td>\n",
       "      <td>32.0510961989</td>\n",
       "      <td>16.7340146136</td>\n",
       "      <td>24.4608633505</td>\n",
       "      <td>24.6770405542</td>\n",
       "      <td>23.2480412615</td>\n",
       "      <td>18.4554943674</td>\n",
       "      <td>16.1731742364</td>\n",
       "      <td>20.9789014685</td>\n",
       "      <td>17.3883871658</td>\n",
       "      <td>19.7254055131</td>\n",
       "      <td>20.2144005513</td>\n",
       "      <td>19.9452516419</td>\n",
       "      <td>22.0809301104</td>\n",
       "      <td>17.959451005</td>\n",
       "      <td>18.0663189733</td>\n",
       "      <td>36.901106528</td>\n",
       "      <td>22.8521211235</td>\n",
       "      <td>22.8896207054</td>\n",
       "      <td>15.2867458507</td>\n",
       "    </tr>\n",
       "    <tr>\n",
       "      <th>perimeter_2</th>\n",
       "      <td>82.3669</td>\n",
       "      <td>103.078</td>\n",
       "      <td>143.368</td>\n",
       "      <td>65.9204</td>\n",
       "      <td>108.381</td>\n",
       "      <td>73.6376</td>\n",
       "      <td>184.391</td>\n",
       "      <td>126.014</td>\n",
       "      <td>56.235</td>\n",
       "      <td>139.979</td>\n",
       "      <td>157.726</td>\n",
       "      <td>137.549</td>\n",
       "      <td>130.881</td>\n",
       "      <td>126.263</td>\n",
       "      <td>138.157</td>\n",
       "      <td>48.2418</td>\n",
       "      <td>44.9189</td>\n",
       "      <td>45.5496</td>\n",
       "      <td>106.289</td>\n",
       "      <td>114.007</td>\n",
       "      <td>151.166</td>\n",
       "      <td>135.645</td>\n",
       "      <td>167.559</td>\n",
       "      <td>173.083</td>\n",
       "      <td>193.141</td>\n",
       "      <td>106.631</td>\n",
       "      <td>62.4605</td>\n",
       "      <td>108.602</td>\n",
       "      <td>97.2655</td>\n",
       "      <td>175.658</td>\n",
       "      <td>69.3263</td>\n",
       "      <td>145.568</td>\n",
       "      <td>53.05</td>\n",
       "      <td>110.009</td>\n",
       "      <td>130.561</td>\n",
       "      <td>92.7865</td>\n",
       "      <td>83.0138</td>\n",
       "      <td>161.401</td>\n",
       "      <td>149.133</td>\n",
       "      <td>51.7949</td>\n",
       "      <td>...</td>\n",
       "      <td>167.481</td>\n",
       "      <td>209.27</td>\n",
       "      <td>61.3125</td>\n",
       "      <td>71.9559</td>\n",
       "      <td>184.881</td>\n",
       "      <td>141.258</td>\n",
       "      <td>88.4766</td>\n",
       "      <td>165.51</td>\n",
       "      <td>130.618</td>\n",
       "      <td>193.713</td>\n",
       "      <td>158.005</td>\n",
       "      <td>64.8038</td>\n",
       "      <td>122.095</td>\n",
       "      <td>190.042</td>\n",
       "      <td>54.0789</td>\n",
       "      <td>177.311</td>\n",
       "      <td>128.427</td>\n",
       "      <td>48.1174</td>\n",
       "      <td>177.249</td>\n",
       "      <td>201.235</td>\n",
       "      <td>181.433</td>\n",
       "      <td>152.089</td>\n",
       "      <td>106.681</td>\n",
       "      <td>96.0666</td>\n",
       "      <td>143.008</td>\n",
       "      <td>131.976</td>\n",
       "      <td>75.9721</td>\n",
       "      <td>184.397</td>\n",
       "      <td>104.289</td>\n",
       "      <td>53.3579</td>\n",
       "      <td>165.578</td>\n",
       "      <td>169.41</td>\n",
       "      <td>176.03</td>\n",
       "      <td>120.032</td>\n",
       "      <td>69.3444</td>\n",
       "      <td>97.4869</td>\n",
       "      <td>48.3005</td>\n",
       "      <td>134.297</td>\n",
       "      <td>190.688</td>\n",
       "      <td>212.856</td>\n",
       "    </tr>\n",
       "    <tr>\n",
       "      <th>age</th>\n",
       "      <td>44</td>\n",
       "      <td>59</td>\n",
       "      <td>37</td>\n",
       "      <td>51</td>\n",
       "      <td>21</td>\n",
       "      <td>27</td>\n",
       "      <td>51</td>\n",
       "      <td>40</td>\n",
       "      <td>43</td>\n",
       "      <td>50</td>\n",
       "      <td>63</td>\n",
       "      <td>25</td>\n",
       "      <td>37</td>\n",
       "      <td>64</td>\n",
       "      <td>63</td>\n",
       "      <td>18</td>\n",
       "      <td>36</td>\n",
       "      <td>38</td>\n",
       "      <td>47</td>\n",
       "      <td>50</td>\n",
       "      <td>54</td>\n",
       "      <td>62</td>\n",
       "      <td>28</td>\n",
       "      <td>39</td>\n",
       "      <td>25</td>\n",
       "      <td>20</td>\n",
       "      <td>27</td>\n",
       "      <td>21</td>\n",
       "      <td>60</td>\n",
       "      <td>22</td>\n",
       "      <td>60</td>\n",
       "      <td>39</td>\n",
       "      <td>23</td>\n",
       "      <td>41</td>\n",
       "      <td>37</td>\n",
       "      <td>47</td>\n",
       "      <td>27</td>\n",
       "      <td>51</td>\n",
       "      <td>50</td>\n",
       "      <td>34</td>\n",
       "      <td>...</td>\n",
       "      <td>64</td>\n",
       "      <td>23</td>\n",
       "      <td>53</td>\n",
       "      <td>31</td>\n",
       "      <td>31</td>\n",
       "      <td>46</td>\n",
       "      <td>37</td>\n",
       "      <td>29</td>\n",
       "      <td>37</td>\n",
       "      <td>58</td>\n",
       "      <td>42</td>\n",
       "      <td>43</td>\n",
       "      <td>39</td>\n",
       "      <td>41</td>\n",
       "      <td>24</td>\n",
       "      <td>40</td>\n",
       "      <td>35</td>\n",
       "      <td>22</td>\n",
       "      <td>59</td>\n",
       "      <td>22</td>\n",
       "      <td>35</td>\n",
       "      <td>42</td>\n",
       "      <td>52</td>\n",
       "      <td>24</td>\n",
       "      <td>23</td>\n",
       "      <td>51</td>\n",
       "      <td>53</td>\n",
       "      <td>50</td>\n",
       "      <td>46</td>\n",
       "      <td>37</td>\n",
       "      <td>38</td>\n",
       "      <td>61</td>\n",
       "      <td>36</td>\n",
       "      <td>27</td>\n",
       "      <td>18</td>\n",
       "      <td>21</td>\n",
       "      <td>63</td>\n",
       "      <td>34</td>\n",
       "      <td>32</td>\n",
       "      <td>46</td>\n",
       "    </tr>\n",
       "    <tr>\n",
       "      <th>treatment_date</th>\n",
       "      <td>2006-06-03</td>\n",
       "      <td>2004-02-22</td>\n",
       "      <td>2006-01-06</td>\n",
       "      <td>2003-04-14</td>\n",
       "      <td>2004-06-21</td>\n",
       "      <td>2008-07-14</td>\n",
       "      <td>2007-10-23</td>\n",
       "      <td>2003-04-27</td>\n",
       "      <td>2005-03-08</td>\n",
       "      <td>2000-04-23</td>\n",
       "      <td>2003-05-26</td>\n",
       "      <td>2003-07-03</td>\n",
       "      <td>2002-01-14</td>\n",
       "      <td>2006-07-04</td>\n",
       "      <td>2007-03-26</td>\n",
       "      <td>2000-06-02</td>\n",
       "      <td>2000-04-18</td>\n",
       "      <td>2001-10-19</td>\n",
       "      <td>2003-03-17</td>\n",
       "      <td>2002-07-12</td>\n",
       "      <td>2007-08-02</td>\n",
       "      <td>2008-06-26</td>\n",
       "      <td>2006-05-16</td>\n",
       "      <td>2006-08-18</td>\n",
       "      <td>2002-02-12</td>\n",
       "      <td>2000-10-20</td>\n",
       "      <td>2000-09-09</td>\n",
       "      <td>2002-04-14</td>\n",
       "      <td>2001-08-03</td>\n",
       "      <td>2003-03-10</td>\n",
       "      <td>2004-03-19</td>\n",
       "      <td>2004-04-10</td>\n",
       "      <td>2002-08-09</td>\n",
       "      <td>2005-01-13</td>\n",
       "      <td>2001-02-11</td>\n",
       "      <td>2006-08-25</td>\n",
       "      <td>2001-08-11</td>\n",
       "      <td>2006-06-25</td>\n",
       "      <td>2001-05-11</td>\n",
       "      <td>2001-10-01</td>\n",
       "      <td>...</td>\n",
       "      <td>2007-11-22</td>\n",
       "      <td>2001-06-13</td>\n",
       "      <td>2008-05-10</td>\n",
       "      <td>2000-10-27</td>\n",
       "      <td>2002-05-25</td>\n",
       "      <td>2003-05-01</td>\n",
       "      <td>2005-03-26</td>\n",
       "      <td>2005-08-07</td>\n",
       "      <td>2007-02-11</td>\n",
       "      <td>2008-02-26</td>\n",
       "      <td>2002-05-26</td>\n",
       "      <td>2000-05-18</td>\n",
       "      <td>2006-08-10</td>\n",
       "      <td>2000-06-27</td>\n",
       "      <td>2007-10-01</td>\n",
       "      <td>2003-01-25</td>\n",
       "      <td>2002-10-11</td>\n",
       "      <td>2008-04-23</td>\n",
       "      <td>2007-02-20</td>\n",
       "      <td>2006-10-18</td>\n",
       "      <td>2003-11-15</td>\n",
       "      <td>2006-05-13</td>\n",
       "      <td>2000-02-20</td>\n",
       "      <td>2003-09-04</td>\n",
       "      <td>2001-04-26</td>\n",
       "      <td>2007-06-26</td>\n",
       "      <td>2006-01-03</td>\n",
       "      <td>2002-05-03</td>\n",
       "      <td>2005-05-18</td>\n",
       "      <td>2008-09-19</td>\n",
       "      <td>2001-09-16</td>\n",
       "      <td>2003-11-11</td>\n",
       "      <td>2002-09-24</td>\n",
       "      <td>2002-10-13</td>\n",
       "      <td>2004-05-23</td>\n",
       "      <td>2001-02-22</td>\n",
       "      <td>2002-07-11</td>\n",
       "      <td>2005-08-04</td>\n",
       "      <td>2006-02-24</td>\n",
       "      <td>2005-05-25</td>\n",
       "    </tr>\n",
       "    <tr>\n",
       "      <th>diagnose_date</th>\n",
       "      <td>2005-10-23</td>\n",
       "      <td>2007-08-20</td>\n",
       "      <td>2004-08-07</td>\n",
       "      <td>2005-06-16</td>\n",
       "      <td>2002-11-27</td>\n",
       "      <td>2003-04-26</td>\n",
       "      <td>2005-09-21</td>\n",
       "      <td>2005-04-19</td>\n",
       "      <td>2005-11-07</td>\n",
       "      <td>2006-04-07</td>\n",
       "      <td>2007-05-19</td>\n",
       "      <td>2002-01-27</td>\n",
       "      <td>2005-07-02</td>\n",
       "      <td>2007-03-22</td>\n",
       "      <td>2006-08-01</td>\n",
       "      <td>2003-06-10</td>\n",
       "      <td>2005-03-13</td>\n",
       "      <td>2005-01-15</td>\n",
       "      <td>2005-05-21</td>\n",
       "      <td>2006-09-10</td>\n",
       "      <td>2006-04-15</td>\n",
       "      <td>2006-01-10</td>\n",
       "      <td>2003-06-14</td>\n",
       "      <td>2005-08-27</td>\n",
       "      <td>2002-08-12</td>\n",
       "      <td>2003-08-07</td>\n",
       "      <td>2003-11-07</td>\n",
       "      <td>2003-01-21</td>\n",
       "      <td>2007-08-11</td>\n",
       "      <td>2002-02-27</td>\n",
       "      <td>2007-04-26</td>\n",
       "      <td>2005-09-03</td>\n",
       "      <td>2002-08-22</td>\n",
       "      <td>2005-09-15</td>\n",
       "      <td>2004-09-10</td>\n",
       "      <td>2006-05-03</td>\n",
       "      <td>2004-10-26</td>\n",
       "      <td>2005-10-17</td>\n",
       "      <td>2005-09-15</td>\n",
       "      <td>2004-04-13</td>\n",
       "      <td>...</td>\n",
       "      <td>2006-05-19</td>\n",
       "      <td>2002-05-11</td>\n",
       "      <td>2005-01-08</td>\n",
       "      <td>2003-04-11</td>\n",
       "      <td>2003-02-16</td>\n",
       "      <td>2005-03-11</td>\n",
       "      <td>2004-05-01</td>\n",
       "      <td>2004-08-14</td>\n",
       "      <td>2004-02-10</td>\n",
       "      <td>2006-02-05</td>\n",
       "      <td>2004-08-09</td>\n",
       "      <td>2005-06-25</td>\n",
       "      <td>2005-06-14</td>\n",
       "      <td>2004-02-20</td>\n",
       "      <td>2002-01-19</td>\n",
       "      <td>2004-11-18</td>\n",
       "      <td>2004-05-20</td>\n",
       "      <td>2003-09-15</td>\n",
       "      <td>2006-01-08</td>\n",
       "      <td>2002-01-19</td>\n",
       "      <td>2004-10-14</td>\n",
       "      <td>2004-07-01</td>\n",
       "      <td>2005-04-11</td>\n",
       "      <td>2002-10-09</td>\n",
       "      <td>2002-01-26</td>\n",
       "      <td>2006-11-05</td>\n",
       "      <td>2006-02-15</td>\n",
       "      <td>2005-09-02</td>\n",
       "      <td>2006-03-08</td>\n",
       "      <td>2004-01-07</td>\n",
       "      <td>2005-04-03</td>\n",
       "      <td>2007-01-12</td>\n",
       "      <td>2004-09-11</td>\n",
       "      <td>2004-02-18</td>\n",
       "      <td>2003-02-20</td>\n",
       "      <td>2003-11-04</td>\n",
       "      <td>2007-08-09</td>\n",
       "      <td>2004-06-04</td>\n",
       "      <td>2003-10-06</td>\n",
       "      <td>2006-02-03</td>\n",
       "    </tr>\n",
       "    <tr>\n",
       "      <th>cancer_type</th>\n",
       "      <td>0</td>\n",
       "      <td>1</td>\n",
       "      <td>0</td>\n",
       "      <td>1</td>\n",
       "      <td>1</td>\n",
       "      <td>1</td>\n",
       "      <td>0</td>\n",
       "      <td>1</td>\n",
       "      <td>1</td>\n",
       "      <td>1</td>\n",
       "      <td>1</td>\n",
       "      <td>1</td>\n",
       "      <td>1</td>\n",
       "      <td>1</td>\n",
       "      <td>1</td>\n",
       "      <td>0</td>\n",
       "      <td>0</td>\n",
       "      <td>0</td>\n",
       "      <td>1</td>\n",
       "      <td>1</td>\n",
       "      <td>1</td>\n",
       "      <td>1</td>\n",
       "      <td>0</td>\n",
       "      <td>0</td>\n",
       "      <td>1</td>\n",
       "      <td>0</td>\n",
       "      <td>1</td>\n",
       "      <td>1</td>\n",
       "      <td>1</td>\n",
       "      <td>1</td>\n",
       "      <td>1</td>\n",
       "      <td>0</td>\n",
       "      <td>1</td>\n",
       "      <td>0</td>\n",
       "      <td>0</td>\n",
       "      <td>1</td>\n",
       "      <td>1</td>\n",
       "      <td>1</td>\n",
       "      <td>1</td>\n",
       "      <td>0</td>\n",
       "      <td>...</td>\n",
       "      <td>1</td>\n",
       "      <td>0</td>\n",
       "      <td>1</td>\n",
       "      <td>1</td>\n",
       "      <td>0</td>\n",
       "      <td>1</td>\n",
       "      <td>0</td>\n",
       "      <td>0</td>\n",
       "      <td>1</td>\n",
       "      <td>1</td>\n",
       "      <td>0</td>\n",
       "      <td>1</td>\n",
       "      <td>0</td>\n",
       "      <td>0</td>\n",
       "      <td>1</td>\n",
       "      <td>1</td>\n",
       "      <td>0</td>\n",
       "      <td>1</td>\n",
       "      <td>1</td>\n",
       "      <td>1</td>\n",
       "      <td>0</td>\n",
       "      <td>0</td>\n",
       "      <td>1</td>\n",
       "      <td>0</td>\n",
       "      <td>0</td>\n",
       "      <td>0</td>\n",
       "      <td>0</td>\n",
       "      <td>1</td>\n",
       "      <td>0</td>\n",
       "      <td>1</td>\n",
       "      <td>0</td>\n",
       "      <td>0</td>\n",
       "      <td>0</td>\n",
       "      <td>0</td>\n",
       "      <td>0</td>\n",
       "      <td>1</td>\n",
       "      <td>0</td>\n",
       "      <td>1</td>\n",
       "      <td>1</td>\n",
       "      <td>1</td>\n",
       "    </tr>\n",
       "  </tbody>\n",
       "</table>\n",
       "<p>13 rows × 398 columns</p>\n",
       "</div>"
      ],
      "text/plain": [
       "                          0              1    ...            396            397\n",
       "radius_0              19.8584        14.1821  ...        13.0172        10.6222\n",
       "texture_0             27.2044        15.7547  ...        22.8183        26.5855\n",
       "perimeter_0           136.324         80.917  ...        76.9718        67.6937\n",
       "radius_1              22.6833        14.0438  ...        10.7321        11.2088\n",
       "texture_1             32.8026        30.0947  ...        16.7659        24.4785\n",
       "perimeter_1           119.524        94.9111  ...         70.391            NaN\n",
       "radius_2              21.4771        15.0123  ...        12.0421        9.79492\n",
       "texture_2       27.3070874472  17.8551305385  ...  22.8896207054  15.2867458507\n",
       "perimeter_2           82.3669        103.078  ...        190.688        212.856\n",
       "age                        44             59  ...             32             46\n",
       "treatment_date     2006-06-03     2004-02-22  ...     2006-02-24     2005-05-25\n",
       "diagnose_date      2005-10-23     2007-08-20  ...     2003-10-06     2006-02-03\n",
       "cancer_type                 0              1  ...              1              1\n",
       "\n",
       "[13 rows x 398 columns]"
      ]
     },
     "execution_count": 183,
     "metadata": {
      "tags": []
     },
     "output_type": "execute_result"
    }
   ],
   "source": [
    "df.T"
   ]
  },
  {
   "cell_type": "code",
   "execution_count": 0,
   "metadata": {
    "colab": {
     "base_uri": "https://localhost:8080/",
     "height": 444
    },
    "colab_type": "code",
    "id": "ztwIv24Uktww",
    "outputId": "5d747125-22ec-451d-e465-908012190356"
   },
   "outputs": [
    {
     "data": {
      "text/html": [
       "<div>\n",
       "<style scoped>\n",
       "    .dataframe tbody tr th:only-of-type {\n",
       "        vertical-align: middle;\n",
       "    }\n",
       "\n",
       "    .dataframe tbody tr th {\n",
       "        vertical-align: top;\n",
       "    }\n",
       "\n",
       "    .dataframe thead th {\n",
       "        text-align: right;\n",
       "    }\n",
       "</style>\n",
       "<table border=\"1\" class=\"dataframe\">\n",
       "  <thead>\n",
       "    <tr style=\"text-align: right;\">\n",
       "      <th></th>\n",
       "      <th>radius_0</th>\n",
       "      <th>texture_0</th>\n",
       "      <th>perimeter_0</th>\n",
       "      <th>radius_1</th>\n",
       "      <th>texture_1</th>\n",
       "      <th>perimeter_1</th>\n",
       "      <th>radius_2</th>\n",
       "      <th>texture_2</th>\n",
       "      <th>perimeter_2</th>\n",
       "      <th>age</th>\n",
       "      <th>treatment_date</th>\n",
       "      <th>diagnose_date</th>\n",
       "      <th>cancer_type</th>\n",
       "    </tr>\n",
       "  </thead>\n",
       "  <tbody>\n",
       "    <tr>\n",
       "      <th>15</th>\n",
       "      <td>19.190173</td>\n",
       "      <td>14.206228</td>\n",
       "      <td>115.549363</td>\n",
       "      <td>15.077819</td>\n",
       "      <td>12.347616</td>\n",
       "      <td>119.672061</td>\n",
       "      <td>22.713363</td>\n",
       "      <td>13.4846482522</td>\n",
       "      <td>48.241773</td>\n",
       "      <td>18</td>\n",
       "      <td>2000-06-02</td>\n",
       "      <td>2003-06-10</td>\n",
       "      <td>0</td>\n",
       "    </tr>\n",
       "    <tr>\n",
       "      <th>142</th>\n",
       "      <td>31.216269</td>\n",
       "      <td>17.723455</td>\n",
       "      <td>152.311798</td>\n",
       "      <td>NaN</td>\n",
       "      <td>23.624784</td>\n",
       "      <td>227.162938</td>\n",
       "      <td>28.370147</td>\n",
       "      <td>20.1032620009</td>\n",
       "      <td>192.901325</td>\n",
       "      <td>18</td>\n",
       "      <td>2003-06-26</td>\n",
       "      <td>2002-09-23</td>\n",
       "      <td>0</td>\n",
       "    </tr>\n",
       "    <tr>\n",
       "      <th>330</th>\n",
       "      <td>11.384200</td>\n",
       "      <td>29.267326</td>\n",
       "      <td>73.527952</td>\n",
       "      <td>NaN</td>\n",
       "      <td>25.375770</td>\n",
       "      <td>70.169822</td>\n",
       "      <td>10.887759</td>\n",
       "      <td>27.8382675246</td>\n",
       "      <td>149.239413</td>\n",
       "      <td>18</td>\n",
       "      <td>2006-03-13</td>\n",
       "      <td>2002-09-14</td>\n",
       "      <td>1</td>\n",
       "    </tr>\n",
       "    <tr>\n",
       "      <th>95</th>\n",
       "      <td>19.106506</td>\n",
       "      <td>20.403110</td>\n",
       "      <td>125.514539</td>\n",
       "      <td>20.309052</td>\n",
       "      <td>51.636469</td>\n",
       "      <td>156.145041</td>\n",
       "      <td>19.958870</td>\n",
       "      <td>20.5049088404</td>\n",
       "      <td>134.936670</td>\n",
       "      <td>18</td>\n",
       "      <td>2002-02-24</td>\n",
       "      <td>2003-04-06</td>\n",
       "      <td>0</td>\n",
       "    </tr>\n",
       "    <tr>\n",
       "      <th>276</th>\n",
       "      <td>14.674357</td>\n",
       "      <td>11.534716</td>\n",
       "      <td>104.881228</td>\n",
       "      <td>NaN</td>\n",
       "      <td>21.940438</td>\n",
       "      <td>135.757326</td>\n",
       "      <td>17.685866</td>\n",
       "      <td>15.8212482615</td>\n",
       "      <td>141.683714</td>\n",
       "      <td>18</td>\n",
       "      <td>2001-10-24</td>\n",
       "      <td>2003-10-12</td>\n",
       "      <td>0</td>\n",
       "    </tr>\n",
       "    <tr>\n",
       "      <th>...</th>\n",
       "      <td>...</td>\n",
       "      <td>...</td>\n",
       "      <td>...</td>\n",
       "      <td>...</td>\n",
       "      <td>...</td>\n",
       "      <td>...</td>\n",
       "      <td>...</td>\n",
       "      <td>...</td>\n",
       "      <td>...</td>\n",
       "      <td>...</td>\n",
       "      <td>...</td>\n",
       "      <td>...</td>\n",
       "      <td>...</td>\n",
       "    </tr>\n",
       "    <tr>\n",
       "      <th>272</th>\n",
       "      <td>18.985389</td>\n",
       "      <td>25.672039</td>\n",
       "      <td>135.463569</td>\n",
       "      <td>20.801786</td>\n",
       "      <td>54.082478</td>\n",
       "      <td>116.802212</td>\n",
       "      <td>19.142600</td>\n",
       "      <td>21.4665925196</td>\n",
       "      <td>170.432693</td>\n",
       "      <td>63</td>\n",
       "      <td>2008-01-11</td>\n",
       "      <td>2007-09-04</td>\n",
       "      <td>0</td>\n",
       "    </tr>\n",
       "    <tr>\n",
       "      <th>13</th>\n",
       "      <td>11.997525</td>\n",
       "      <td>31.563211</td>\n",
       "      <td>80.884826</td>\n",
       "      <td>11.115289</td>\n",
       "      <td>52.883999</td>\n",
       "      <td>81.243875</td>\n",
       "      <td>10.240719</td>\n",
       "      <td>34.4858344724</td>\n",
       "      <td>126.263466</td>\n",
       "      <td>64</td>\n",
       "      <td>2006-07-04</td>\n",
       "      <td>2007-03-22</td>\n",
       "      <td>1</td>\n",
       "    </tr>\n",
       "    <tr>\n",
       "      <th>74</th>\n",
       "      <td>8.331320</td>\n",
       "      <td>27.289961</td>\n",
       "      <td>63.766199</td>\n",
       "      <td>9.595163</td>\n",
       "      <td>31.687855</td>\n",
       "      <td>NaN</td>\n",
       "      <td>9.754280</td>\n",
       "      <td>12.4907323246</td>\n",
       "      <td>158.428142</td>\n",
       "      <td>64</td>\n",
       "      <td>2004-01-11</td>\n",
       "      <td>2007-05-11</td>\n",
       "      <td>1</td>\n",
       "    </tr>\n",
       "    <tr>\n",
       "      <th>358</th>\n",
       "      <td>9.041381</td>\n",
       "      <td>11.719810</td>\n",
       "      <td>77.889230</td>\n",
       "      <td>10.702036</td>\n",
       "      <td>6.422751</td>\n",
       "      <td>NaN</td>\n",
       "      <td>12.812128</td>\n",
       "      <td>11.8478371204</td>\n",
       "      <td>167.481187</td>\n",
       "      <td>64</td>\n",
       "      <td>2007-11-22</td>\n",
       "      <td>2006-05-19</td>\n",
       "      <td>1</td>\n",
       "    </tr>\n",
       "    <tr>\n",
       "      <th>241</th>\n",
       "      <td>21.148732</td>\n",
       "      <td>17.205802</td>\n",
       "      <td>130.303224</td>\n",
       "      <td>19.299696</td>\n",
       "      <td>23.007293</td>\n",
       "      <td>145.092002</td>\n",
       "      <td>17.438602</td>\n",
       "      <td>25.1729792539</td>\n",
       "      <td>153.781038</td>\n",
       "      <td>64</td>\n",
       "      <td>2001-10-17</td>\n",
       "      <td>2007-03-23</td>\n",
       "      <td>0</td>\n",
       "    </tr>\n",
       "  </tbody>\n",
       "</table>\n",
       "<p>398 rows × 13 columns</p>\n",
       "</div>"
      ],
      "text/plain": [
       "      radius_0  texture_0  ...  diagnose_date  cancer_type\n",
       "15   19.190173  14.206228  ...     2003-06-10            0\n",
       "142  31.216269  17.723455  ...     2002-09-23            0\n",
       "330  11.384200  29.267326  ...     2002-09-14            1\n",
       "95   19.106506  20.403110  ...     2003-04-06            0\n",
       "276  14.674357  11.534716  ...     2003-10-12            0\n",
       "..         ...        ...  ...            ...          ...\n",
       "272  18.985389  25.672039  ...     2007-09-04            0\n",
       "13   11.997525  31.563211  ...     2007-03-22            1\n",
       "74    8.331320  27.289961  ...     2007-05-11            1\n",
       "358   9.041381  11.719810  ...     2006-05-19            1\n",
       "241  21.148732  17.205802  ...     2007-03-23            0\n",
       "\n",
       "[398 rows x 13 columns]"
      ]
     },
     "execution_count": 184,
     "metadata": {
      "tags": []
     },
     "output_type": "execute_result"
    }
   ],
   "source": [
    "df.sort_values(by='age')"
   ]
  },
  {
   "cell_type": "code",
   "execution_count": 0,
   "metadata": {
    "colab": {
     "base_uri": "https://localhost:8080/",
     "height": 444
    },
    "colab_type": "code",
    "id": "R-R-2odMk6nQ",
    "outputId": "f4ede37e-0b95-47f6-fe44-1c8f9bfe9577"
   },
   "outputs": [
    {
     "data": {
      "text/html": [
       "<div>\n",
       "<style scoped>\n",
       "    .dataframe tbody tr th:only-of-type {\n",
       "        vertical-align: middle;\n",
       "    }\n",
       "\n",
       "    .dataframe tbody tr th {\n",
       "        vertical-align: top;\n",
       "    }\n",
       "\n",
       "    .dataframe thead th {\n",
       "        text-align: right;\n",
       "    }\n",
       "</style>\n",
       "<table border=\"1\" class=\"dataframe\">\n",
       "  <thead>\n",
       "    <tr style=\"text-align: right;\">\n",
       "      <th></th>\n",
       "      <th>radius_0</th>\n",
       "      <th>texture_0</th>\n",
       "      <th>perimeter_0</th>\n",
       "      <th>radius_1</th>\n",
       "      <th>texture_1</th>\n",
       "      <th>perimeter_1</th>\n",
       "      <th>radius_2</th>\n",
       "      <th>texture_2</th>\n",
       "      <th>perimeter_2</th>\n",
       "      <th>age</th>\n",
       "      <th>treatment_date</th>\n",
       "      <th>diagnose_date</th>\n",
       "      <th>cancer_type</th>\n",
       "    </tr>\n",
       "  </thead>\n",
       "  <tbody>\n",
       "    <tr>\n",
       "      <th>47</th>\n",
       "      <td>14.703316</td>\n",
       "      <td>27.173867</td>\n",
       "      <td>83.581788</td>\n",
       "      <td>NaN</td>\n",
       "      <td>35.438067</td>\n",
       "      <td>100.796141</td>\n",
       "      <td>14.365282</td>\n",
       "      <td>22.2661323996</td>\n",
       "      <td>144.674710</td>\n",
       "      <td>28</td>\n",
       "      <td>2007-10-26</td>\n",
       "      <td>2003-05-17</td>\n",
       "      <td>0</td>\n",
       "    </tr>\n",
       "    <tr>\n",
       "      <th>331</th>\n",
       "      <td>16.408560</td>\n",
       "      <td>19.274835</td>\n",
       "      <td>130.758543</td>\n",
       "      <td>17.361379</td>\n",
       "      <td>41.551449</td>\n",
       "      <td>108.883036</td>\n",
       "      <td>18.087135</td>\n",
       "      <td>28.9216648638</td>\n",
       "      <td>48.013657</td>\n",
       "      <td>39</td>\n",
       "      <td>2002-02-24</td>\n",
       "      <td>2005-09-22</td>\n",
       "      <td>0</td>\n",
       "    </tr>\n",
       "    <tr>\n",
       "      <th>314</th>\n",
       "      <td>11.881510</td>\n",
       "      <td>22.140031</td>\n",
       "      <td>69.247915</td>\n",
       "      <td>11.650695</td>\n",
       "      <td>11.894615</td>\n",
       "      <td>70.589018</td>\n",
       "      <td>9.780348</td>\n",
       "      <td>21.3274923445</td>\n",
       "      <td>87.470600</td>\n",
       "      <td>19</td>\n",
       "      <td>2008-05-22</td>\n",
       "      <td>2003-01-04</td>\n",
       "      <td>1</td>\n",
       "    </tr>\n",
       "    <tr>\n",
       "      <th>183</th>\n",
       "      <td>12.734930</td>\n",
       "      <td>13.491156</td>\n",
       "      <td>99.395931</td>\n",
       "      <td>13.481952</td>\n",
       "      <td>37.611995</td>\n",
       "      <td>93.789964</td>\n",
       "      <td>11.642955</td>\n",
       "      <td>13.4905686295</td>\n",
       "      <td>59.398907</td>\n",
       "      <td>61</td>\n",
       "      <td>2007-02-02</td>\n",
       "      <td>2006-07-15</td>\n",
       "      <td>0</td>\n",
       "    </tr>\n",
       "    <tr>\n",
       "      <th>11</th>\n",
       "      <td>11.736496</td>\n",
       "      <td>13.316698</td>\n",
       "      <td>78.776980</td>\n",
       "      <td>11.919825</td>\n",
       "      <td>14.050296</td>\n",
       "      <td>84.298171</td>\n",
       "      <td>13.040663</td>\n",
       "      <td>16.7766637033</td>\n",
       "      <td>137.548985</td>\n",
       "      <td>25</td>\n",
       "      <td>2003-07-03</td>\n",
       "      <td>2002-01-27</td>\n",
       "      <td>1</td>\n",
       "    </tr>\n",
       "    <tr>\n",
       "      <th>...</th>\n",
       "      <td>...</td>\n",
       "      <td>...</td>\n",
       "      <td>...</td>\n",
       "      <td>...</td>\n",
       "      <td>...</td>\n",
       "      <td>...</td>\n",
       "      <td>...</td>\n",
       "      <td>...</td>\n",
       "      <td>...</td>\n",
       "      <td>...</td>\n",
       "      <td>...</td>\n",
       "      <td>...</td>\n",
       "      <td>...</td>\n",
       "    </tr>\n",
       "    <tr>\n",
       "      <th>320</th>\n",
       "      <td>11.350671</td>\n",
       "      <td>13.072847</td>\n",
       "      <td>77.193283</td>\n",
       "      <td>12.118478</td>\n",
       "      <td>25.723359</td>\n",
       "      <td>NaN</td>\n",
       "      <td>12.309009</td>\n",
       "      <td>11.4746653282</td>\n",
       "      <td>99.045919</td>\n",
       "      <td>33</td>\n",
       "      <td>2002-09-22</td>\n",
       "      <td>2004-06-20</td>\n",
       "      <td>1</td>\n",
       "    </tr>\n",
       "    <tr>\n",
       "      <th>241</th>\n",
       "      <td>21.148732</td>\n",
       "      <td>17.205802</td>\n",
       "      <td>130.303224</td>\n",
       "      <td>19.299696</td>\n",
       "      <td>23.007293</td>\n",
       "      <td>145.092002</td>\n",
       "      <td>17.438602</td>\n",
       "      <td>25.1729792539</td>\n",
       "      <td>153.781038</td>\n",
       "      <td>64</td>\n",
       "      <td>2001-10-17</td>\n",
       "      <td>2007-03-23</td>\n",
       "      <td>0</td>\n",
       "    </tr>\n",
       "    <tr>\n",
       "      <th>258</th>\n",
       "      <td>16.330902</td>\n",
       "      <td>14.599328</td>\n",
       "      <td>124.157641</td>\n",
       "      <td>17.703180</td>\n",
       "      <td>55.316276</td>\n",
       "      <td>NaN</td>\n",
       "      <td>15.563263</td>\n",
       "      <td>25.6250602806</td>\n",
       "      <td>67.058365</td>\n",
       "      <td>31</td>\n",
       "      <td>2006-08-18</td>\n",
       "      <td>2004-09-18</td>\n",
       "      <td>0</td>\n",
       "    </tr>\n",
       "    <tr>\n",
       "      <th>364</th>\n",
       "      <td>9.201165</td>\n",
       "      <td>14.502199</td>\n",
       "      <td>106.691812</td>\n",
       "      <td>13.015974</td>\n",
       "      <td>55.820612</td>\n",
       "      <td>69.792139</td>\n",
       "      <td>10.342745</td>\n",
       "      <td>13.8140231039</td>\n",
       "      <td>88.476568</td>\n",
       "      <td>37</td>\n",
       "      <td>2005-03-26</td>\n",
       "      <td>2004-05-01</td>\n",
       "      <td>0</td>\n",
       "    </tr>\n",
       "    <tr>\n",
       "      <th>146</th>\n",
       "      <td>12.875119</td>\n",
       "      <td>13.630177</td>\n",
       "      <td>102.730339</td>\n",
       "      <td>NaN</td>\n",
       "      <td>43.770330</td>\n",
       "      <td>93.074053</td>\n",
       "      <td>14.148436</td>\n",
       "      <td>15.1909312613</td>\n",
       "      <td>114.816443</td>\n",
       "      <td>23</td>\n",
       "      <td>2008-02-19</td>\n",
       "      <td>2003-04-21</td>\n",
       "      <td>1</td>\n",
       "    </tr>\n",
       "  </tbody>\n",
       "</table>\n",
       "<p>398 rows × 13 columns</p>\n",
       "</div>"
      ],
      "text/plain": [
       "      radius_0  texture_0  ...  diagnose_date  cancer_type\n",
       "47   14.703316  27.173867  ...     2003-05-17            0\n",
       "331  16.408560  19.274835  ...     2005-09-22            0\n",
       "314  11.881510  22.140031  ...     2003-01-04            1\n",
       "183  12.734930  13.491156  ...     2006-07-15            0\n",
       "11   11.736496  13.316698  ...     2002-01-27            1\n",
       "..         ...        ...  ...            ...          ...\n",
       "320  11.350671  13.072847  ...     2004-06-20            1\n",
       "241  21.148732  17.205802  ...     2007-03-23            0\n",
       "258  16.330902  14.599328  ...     2004-09-18            0\n",
       "364   9.201165  14.502199  ...     2004-05-01            0\n",
       "146  12.875119  13.630177  ...     2003-04-21            1\n",
       "\n",
       "[398 rows x 13 columns]"
      ]
     },
     "execution_count": 185,
     "metadata": {
      "tags": []
     },
     "output_type": "execute_result"
    }
   ],
   "source": [
    "df.reindex(np.random.permutation(df.index))"
   ]
  },
  {
   "cell_type": "code",
   "execution_count": 0,
   "metadata": {
    "colab": {
     "base_uri": "https://localhost:8080/",
     "height": 394
    },
    "colab_type": "code",
    "id": "Saii3NyHlVMH",
    "outputId": "e342856c-a6c7-44d3-d2a5-f52dfbdb7242"
   },
   "outputs": [
    {
     "name": "stdout",
     "output_type": "stream",
     "text": [
      "<class 'pandas.core.frame.DataFrame'>\n",
      "RangeIndex: 398 entries, 0 to 397\n",
      "Data columns (total 13 columns):\n",
      " #   Column          Non-Null Count  Dtype  \n",
      "---  ------          --------------  -----  \n",
      " 0   radius_0        398 non-null    float64\n",
      " 1   texture_0       398 non-null    float64\n",
      " 2   perimeter_0     398 non-null    float64\n",
      " 3   radius_1        343 non-null    float64\n",
      " 4   texture_1       398 non-null    float64\n",
      " 5   perimeter_1     264 non-null    float64\n",
      " 6   radius_2        398 non-null    float64\n",
      " 7   texture_2       398 non-null    object \n",
      " 8   perimeter_2     398 non-null    float64\n",
      " 9   age             398 non-null    int64  \n",
      " 10  treatment_date  398 non-null    object \n",
      " 11  diagnose_date   398 non-null    object \n",
      " 12  cancer_type     398 non-null    int64  \n",
      "dtypes: float64(8), int64(2), object(3)\n",
      "memory usage: 40.5+ KB\n"
     ]
    }
   ],
   "source": [
    "df.info()"
   ]
  },
  {
   "cell_type": "code",
   "execution_count": 0,
   "metadata": {
    "colab": {},
    "colab_type": "code",
    "id": "hsaxsttwlpHW"
   },
   "outputs": [],
   "source": [
    "df['texture_2'] = pd.to_numeric(df['texture_2'], errors='coerce')"
   ]
  },
  {
   "cell_type": "code",
   "execution_count": 0,
   "metadata": {
    "colab": {
     "base_uri": "https://localhost:8080/",
     "height": 394
    },
    "colab_type": "code",
    "id": "ojv_UJaNl9rd",
    "outputId": "f831cbd9-9d07-4316-8953-9df640802300"
   },
   "outputs": [
    {
     "name": "stdout",
     "output_type": "stream",
     "text": [
      "<class 'pandas.core.frame.DataFrame'>\n",
      "RangeIndex: 398 entries, 0 to 397\n",
      "Data columns (total 13 columns):\n",
      " #   Column          Non-Null Count  Dtype  \n",
      "---  ------          --------------  -----  \n",
      " 0   radius_0        398 non-null    float64\n",
      " 1   texture_0       398 non-null    float64\n",
      " 2   perimeter_0     398 non-null    float64\n",
      " 3   radius_1        343 non-null    float64\n",
      " 4   texture_1       398 non-null    float64\n",
      " 5   perimeter_1     264 non-null    float64\n",
      " 6   radius_2        398 non-null    float64\n",
      " 7   texture_2       382 non-null    float64\n",
      " 8   perimeter_2     398 non-null    float64\n",
      " 9   age             398 non-null    int64  \n",
      " 10  treatment_date  398 non-null    object \n",
      " 11  diagnose_date   398 non-null    object \n",
      " 12  cancer_type     398 non-null    int64  \n",
      "dtypes: float64(9), int64(2), object(2)\n",
      "memory usage: 40.5+ KB\n"
     ]
    }
   ],
   "source": [
    "df.info()"
   ]
  },
  {
   "cell_type": "code",
   "execution_count": 0,
   "metadata": {
    "colab": {
     "base_uri": "https://localhost:8080/",
     "height": 243
    },
    "colab_type": "code",
    "id": "kaDC3VQhmEhY",
    "outputId": "0bc86f88-b2a6-4d5f-b248-f3f6cb17967e"
   },
   "outputs": [
    {
     "data": {
      "text/plain": [
       "0      27.307087\n",
       "1      17.855131\n",
       "2      21.097153\n",
       "3      16.499237\n",
       "4      19.856687\n",
       "         ...    \n",
       "393    18.066319\n",
       "394    36.901107\n",
       "395    22.852121\n",
       "396    22.889621\n",
       "397    15.286746\n",
       "Name: texture_2, Length: 398, dtype: float64"
      ]
     },
     "execution_count": 193,
     "metadata": {
      "tags": []
     },
     "output_type": "execute_result"
    }
   ],
   "source": [
    "df['texture_2']"
   ]
  },
  {
   "cell_type": "code",
   "execution_count": 0,
   "metadata": {
    "colab": {},
    "colab_type": "code",
    "id": "z6EPO261mNs-"
   },
   "outputs": [],
   "source": [
    "import matplotlib.pyplot as plt"
   ]
  },
  {
   "cell_type": "code",
   "execution_count": 0,
   "metadata": {
    "colab": {
     "base_uri": "https://localhost:8080/",
     "height": 284
    },
    "colab_type": "code",
    "id": "62TaIMa4mZA8",
    "outputId": "940e2d25-fc4e-40f1-d98a-09cdc91ea68b"
   },
   "outputs": [
    {
     "data": {
      "text/plain": [
       "<matplotlib.collections.PathCollection at 0x7fb0bb7cf630>"
      ]
     },
     "execution_count": 194,
     "metadata": {
      "tags": []
     },
     "output_type": "execute_result"
    },
    {
     "data": {
      "image/png": "[encoded data removed]",
      "text/plain": [
       "<Figure size 432x288 with 1 Axes>"
      ]
     },
     "metadata": {
      "needs_background": "light",
      "tags": []
     },
     "output_type": "display_data"
    }
   ],
   "source": [
    "plt.scatter(range(len(df['texture_2'])),df['texture_2'])"
   ]
  },
  {
   "cell_type": "code",
   "execution_count": 0,
   "metadata": {
    "colab": {},
    "colab_type": "code",
    "id": "p_RgKprtmtGN"
   },
   "outputs": [],
   "source": [
    "import datetime"
   ]
  },
  {
   "cell_type": "code",
   "execution_count": 0,
   "metadata": {
    "colab": {},
    "colab_type": "code",
    "id": "IcTd8T-gnik4"
   },
   "outputs": [],
   "source": [
    "time_obj = datetime.datetime.strptime('2006-01-01','%Y-%m-%d')"
   ]
  },
  {
   "cell_type": "code",
   "execution_count": 0,
   "metadata": {
    "colab": {
     "base_uri": "https://localhost:8080/",
     "height": 36
    },
    "colab_type": "code",
    "id": "bE7h9j1Dn9Rl",
    "outputId": "a088b26d-4084-496e-af4a-ef2569c331f0"
   },
   "outputs": [
    {
     "data": {
      "text/plain": [
       "datetime.datetime(2006, 1, 1, 0, 0)"
      ]
     },
     "execution_count": 197,
     "metadata": {
      "tags": []
     },
     "output_type": "execute_result"
    }
   ],
   "source": [
    "time_obj"
   ]
  },
  {
   "cell_type": "code",
   "execution_count": 0,
   "metadata": {
    "colab": {
     "base_uri": "https://localhost:8080/",
     "height": 36
    },
    "colab_type": "code",
    "id": "14i3utkUn-l3",
    "outputId": "a8b4f41e-61bf-477d-a9ed-790978261ab0"
   },
   "outputs": [
    {
     "data": {
      "text/plain": [
       "1136073600.0"
      ]
     },
     "execution_count": 198,
     "metadata": {
      "tags": []
     },
     "output_type": "execute_result"
    }
   ],
   "source": [
    "time_obj.timestamp()"
   ]
  },
  {
   "cell_type": "code",
   "execution_count": 0,
   "metadata": {
    "colab": {},
    "colab_type": "code",
    "id": "FCUBVAAAoHI7"
   },
   "outputs": [],
   "source": [
    "diff_date = []\n",
    "for i in range(len(df)):\n",
    "  a = datetime.datetime.strptime(df['treatment_date'][i],'%Y-%m-%d').timestamp()\n",
    "  b = datetime.datetime.strptime(df['diagnose_date'][i],'%Y-%m-%d').timestamp()\n",
    "  diff_date.append(abs(a-b))"
   ]
  },
  {
   "cell_type": "code",
   "execution_count": 0,
   "metadata": {
    "colab": {
     "base_uri": "https://localhost:8080/",
     "height": 36
    },
    "colab_type": "code",
    "id": "euHMDpeaphiM",
    "outputId": "3357f0ed-fd77-4d79-abbe-c0884c8c3f09"
   },
   "outputs": [
    {
     "data": {
      "text/plain": [
       "398"
      ]
     },
     "execution_count": 204,
     "metadata": {
      "tags": []
     },
     "output_type": "execute_result"
    }
   ],
   "source": [
    "len(diff_date)"
   ]
  },
  {
   "cell_type": "code",
   "execution_count": 0,
   "metadata": {
    "colab": {},
    "colab_type": "code",
    "id": "lSQgEE6XpjLu"
   },
   "outputs": [],
   "source": [
    "df['diff_diagnose_traitement'] = diff_date"
   ]
  },
  {
   "cell_type": "code",
   "execution_count": 0,
   "metadata": {
    "colab": {
     "base_uri": "https://localhost:8080/",
     "height": 226
    },
    "colab_type": "code",
    "id": "vFnBwTo4qSwu",
    "outputId": "263381d2-0220-4a85-bdad-c0ec58d598b1"
   },
   "outputs": [
    {
     "data": {
      "text/html": [
       "<div>\n",
       "<style scoped>\n",
       "    .dataframe tbody tr th:only-of-type {\n",
       "        vertical-align: middle;\n",
       "    }\n",
       "\n",
       "    .dataframe tbody tr th {\n",
       "        vertical-align: top;\n",
       "    }\n",
       "\n",
       "    .dataframe thead th {\n",
       "        text-align: right;\n",
       "    }\n",
       "</style>\n",
       "<table border=\"1\" class=\"dataframe\">\n",
       "  <thead>\n",
       "    <tr style=\"text-align: right;\">\n",
       "      <th></th>\n",
       "      <th>radius_0</th>\n",
       "      <th>texture_0</th>\n",
       "      <th>perimeter_0</th>\n",
       "      <th>radius_1</th>\n",
       "      <th>texture_1</th>\n",
       "      <th>perimeter_1</th>\n",
       "      <th>radius_2</th>\n",
       "      <th>texture_2</th>\n",
       "      <th>perimeter_2</th>\n",
       "      <th>age</th>\n",
       "      <th>treatment_date</th>\n",
       "      <th>diagnose_date</th>\n",
       "      <th>cancer_type</th>\n",
       "      <th>diff_diagnose_traitement</th>\n",
       "    </tr>\n",
       "  </thead>\n",
       "  <tbody>\n",
       "    <tr>\n",
       "      <th>0</th>\n",
       "      <td>19.858394</td>\n",
       "      <td>27.204437</td>\n",
       "      <td>136.324256</td>\n",
       "      <td>22.683290</td>\n",
       "      <td>32.802578</td>\n",
       "      <td>119.523841</td>\n",
       "      <td>21.477052</td>\n",
       "      <td>27.307087</td>\n",
       "      <td>82.366936</td>\n",
       "      <td>44</td>\n",
       "      <td>2006-06-03</td>\n",
       "      <td>2005-10-23</td>\n",
       "      <td>0</td>\n",
       "      <td>19267200.0</td>\n",
       "    </tr>\n",
       "    <tr>\n",
       "      <th>1</th>\n",
       "      <td>14.182069</td>\n",
       "      <td>15.754730</td>\n",
       "      <td>80.916983</td>\n",
       "      <td>14.043753</td>\n",
       "      <td>30.094704</td>\n",
       "      <td>94.911073</td>\n",
       "      <td>15.012329</td>\n",
       "      <td>17.855131</td>\n",
       "      <td>103.078286</td>\n",
       "      <td>59</td>\n",
       "      <td>2004-02-22</td>\n",
       "      <td>2007-08-20</td>\n",
       "      <td>1</td>\n",
       "      <td>110160000.0</td>\n",
       "    </tr>\n",
       "    <tr>\n",
       "      <th>2</th>\n",
       "      <td>25.380268</td>\n",
       "      <td>21.291553</td>\n",
       "      <td>152.281062</td>\n",
       "      <td>23.852166</td>\n",
       "      <td>46.237931</td>\n",
       "      <td>NaN</td>\n",
       "      <td>28.563252</td>\n",
       "      <td>21.097153</td>\n",
       "      <td>143.367792</td>\n",
       "      <td>37</td>\n",
       "      <td>2006-01-06</td>\n",
       "      <td>2004-08-07</td>\n",
       "      <td>0</td>\n",
       "      <td>44668800.0</td>\n",
       "    </tr>\n",
       "    <tr>\n",
       "      <th>3</th>\n",
       "      <td>11.835961</td>\n",
       "      <td>17.820702</td>\n",
       "      <td>72.178523</td>\n",
       "      <td>11.260258</td>\n",
       "      <td>44.805167</td>\n",
       "      <td>NaN</td>\n",
       "      <td>12.082749</td>\n",
       "      <td>16.499237</td>\n",
       "      <td>65.920413</td>\n",
       "      <td>51</td>\n",
       "      <td>2003-04-14</td>\n",
       "      <td>2005-06-16</td>\n",
       "      <td>1</td>\n",
       "      <td>68601600.0</td>\n",
       "    </tr>\n",
       "    <tr>\n",
       "      <th>4</th>\n",
       "      <td>14.875600</td>\n",
       "      <td>17.534187</td>\n",
       "      <td>98.545830</td>\n",
       "      <td>14.380683</td>\n",
       "      <td>26.190447</td>\n",
       "      <td>89.712492</td>\n",
       "      <td>12.930685</td>\n",
       "      <td>19.856687</td>\n",
       "      <td>108.380754</td>\n",
       "      <td>21</td>\n",
       "      <td>2004-06-21</td>\n",
       "      <td>2002-11-27</td>\n",
       "      <td>1</td>\n",
       "      <td>49420800.0</td>\n",
       "    </tr>\n",
       "  </tbody>\n",
       "</table>\n",
       "</div>"
      ],
      "text/plain": [
       "    radius_0  texture_0  ...  cancer_type  diff_diagnose_traitement\n",
       "0  19.858394  27.204437  ...            0                19267200.0\n",
       "1  14.182069  15.754730  ...            1               110160000.0\n",
       "2  25.380268  21.291553  ...            0                44668800.0\n",
       "3  11.835961  17.820702  ...            1                68601600.0\n",
       "4  14.875600  17.534187  ...            1                49420800.0\n",
       "\n",
       "[5 rows x 14 columns]"
      ]
     },
     "execution_count": 206,
     "metadata": {
      "tags": []
     },
     "output_type": "execute_result"
    }
   ],
   "source": [
    "df.head()"
   ]
  },
  {
   "cell_type": "code",
   "execution_count": 0,
   "metadata": {
    "colab": {
     "base_uri": "https://localhost:8080/",
     "height": 243
    },
    "colab_type": "code",
    "id": "0UWvAhceqUZ9",
    "outputId": "9bcfe30c-7444-47a8-d251-b0a016c3f6ee"
   },
   "outputs": [
    {
     "data": {
      "text/plain": [
       "0      2005-10-23\n",
       "1      2007-08-20\n",
       "2      2004-08-07\n",
       "3      2005-06-16\n",
       "4      2002-11-27\n",
       "          ...    \n",
       "393    2003-11-04\n",
       "394    2007-08-09\n",
       "395    2004-06-04\n",
       "396    2003-10-06\n",
       "397    2006-02-03\n",
       "Name: diagnose_date, Length: 398, dtype: object"
      ]
     },
     "execution_count": 207,
     "metadata": {
      "tags": []
     },
     "output_type": "execute_result"
    }
   ],
   "source": [
    "df.pop('diagnose_date')"
   ]
  },
  {
   "cell_type": "code",
   "execution_count": 0,
   "metadata": {
    "colab": {
     "base_uri": "https://localhost:8080/",
     "height": 226
    },
    "colab_type": "code",
    "id": "cyIk7x8Yskl8",
    "outputId": "695a753e-a9b8-4160-d85a-f7be344cdfa8"
   },
   "outputs": [
    {
     "data": {
      "text/html": [
       "<div>\n",
       "<style scoped>\n",
       "    .dataframe tbody tr th:only-of-type {\n",
       "        vertical-align: middle;\n",
       "    }\n",
       "\n",
       "    .dataframe tbody tr th {\n",
       "        vertical-align: top;\n",
       "    }\n",
       "\n",
       "    .dataframe thead th {\n",
       "        text-align: right;\n",
       "    }\n",
       "</style>\n",
       "<table border=\"1\" class=\"dataframe\">\n",
       "  <thead>\n",
       "    <tr style=\"text-align: right;\">\n",
       "      <th></th>\n",
       "      <th>radius_0</th>\n",
       "      <th>texture_0</th>\n",
       "      <th>perimeter_0</th>\n",
       "      <th>radius_1</th>\n",
       "      <th>texture_1</th>\n",
       "      <th>perimeter_1</th>\n",
       "      <th>radius_2</th>\n",
       "      <th>texture_2</th>\n",
       "      <th>perimeter_2</th>\n",
       "      <th>age</th>\n",
       "      <th>treatment_date</th>\n",
       "      <th>cancer_type</th>\n",
       "      <th>diff_diagnose_traitement</th>\n",
       "    </tr>\n",
       "  </thead>\n",
       "  <tbody>\n",
       "    <tr>\n",
       "      <th>0</th>\n",
       "      <td>19.858394</td>\n",
       "      <td>27.204437</td>\n",
       "      <td>136.324256</td>\n",
       "      <td>22.683290</td>\n",
       "      <td>32.802578</td>\n",
       "      <td>119.523841</td>\n",
       "      <td>21.477052</td>\n",
       "      <td>27.307087</td>\n",
       "      <td>82.366936</td>\n",
       "      <td>44</td>\n",
       "      <td>2006-06-03</td>\n",
       "      <td>0</td>\n",
       "      <td>19267200.0</td>\n",
       "    </tr>\n",
       "    <tr>\n",
       "      <th>1</th>\n",
       "      <td>14.182069</td>\n",
       "      <td>15.754730</td>\n",
       "      <td>80.916983</td>\n",
       "      <td>14.043753</td>\n",
       "      <td>30.094704</td>\n",
       "      <td>94.911073</td>\n",
       "      <td>15.012329</td>\n",
       "      <td>17.855131</td>\n",
       "      <td>103.078286</td>\n",
       "      <td>59</td>\n",
       "      <td>2004-02-22</td>\n",
       "      <td>1</td>\n",
       "      <td>110160000.0</td>\n",
       "    </tr>\n",
       "    <tr>\n",
       "      <th>2</th>\n",
       "      <td>25.380268</td>\n",
       "      <td>21.291553</td>\n",
       "      <td>152.281062</td>\n",
       "      <td>23.852166</td>\n",
       "      <td>46.237931</td>\n",
       "      <td>NaN</td>\n",
       "      <td>28.563252</td>\n",
       "      <td>21.097153</td>\n",
       "      <td>143.367792</td>\n",
       "      <td>37</td>\n",
       "      <td>2006-01-06</td>\n",
       "      <td>0</td>\n",
       "      <td>44668800.0</td>\n",
       "    </tr>\n",
       "    <tr>\n",
       "      <th>3</th>\n",
       "      <td>11.835961</td>\n",
       "      <td>17.820702</td>\n",
       "      <td>72.178523</td>\n",
       "      <td>11.260258</td>\n",
       "      <td>44.805167</td>\n",
       "      <td>NaN</td>\n",
       "      <td>12.082749</td>\n",
       "      <td>16.499237</td>\n",
       "      <td>65.920413</td>\n",
       "      <td>51</td>\n",
       "      <td>2003-04-14</td>\n",
       "      <td>1</td>\n",
       "      <td>68601600.0</td>\n",
       "    </tr>\n",
       "    <tr>\n",
       "      <th>4</th>\n",
       "      <td>14.875600</td>\n",
       "      <td>17.534187</td>\n",
       "      <td>98.545830</td>\n",
       "      <td>14.380683</td>\n",
       "      <td>26.190447</td>\n",
       "      <td>89.712492</td>\n",
       "      <td>12.930685</td>\n",
       "      <td>19.856687</td>\n",
       "      <td>108.380754</td>\n",
       "      <td>21</td>\n",
       "      <td>2004-06-21</td>\n",
       "      <td>1</td>\n",
       "      <td>49420800.0</td>\n",
       "    </tr>\n",
       "  </tbody>\n",
       "</table>\n",
       "</div>"
      ],
      "text/plain": [
       "    radius_0  texture_0  ...  cancer_type  diff_diagnose_traitement\n",
       "0  19.858394  27.204437  ...            0                19267200.0\n",
       "1  14.182069  15.754730  ...            1               110160000.0\n",
       "2  25.380268  21.291553  ...            0                44668800.0\n",
       "3  11.835961  17.820702  ...            1                68601600.0\n",
       "4  14.875600  17.534187  ...            1                49420800.0\n",
       "\n",
       "[5 rows x 13 columns]"
      ]
     },
     "execution_count": 208,
     "metadata": {
      "tags": []
     },
     "output_type": "execute_result"
    }
   ],
   "source": [
    "df.head()"
   ]
  },
  {
   "cell_type": "code",
   "execution_count": 0,
   "metadata": {
    "colab": {
     "base_uri": "https://localhost:8080/",
     "height": 243
    },
    "colab_type": "code",
    "id": "k8xSnsB2sm1P",
    "outputId": "3f046dac-119d-4e45-c69b-eb9980979115"
   },
   "outputs": [
    {
     "data": {
      "text/plain": [
       "0      2006-06-03\n",
       "1      2004-02-22\n",
       "2      2006-01-06\n",
       "3      2003-04-14\n",
       "4      2004-06-21\n",
       "          ...    \n",
       "393    2001-02-22\n",
       "394    2002-07-11\n",
       "395    2005-08-04\n",
       "396    2006-02-24\n",
       "397    2005-05-25\n",
       "Name: treatment_date, Length: 398, dtype: object"
      ]
     },
     "execution_count": 209,
     "metadata": {
      "tags": []
     },
     "output_type": "execute_result"
    }
   ],
   "source": [
    "df.pop('treatment_date')"
   ]
  },
  {
   "cell_type": "code",
   "execution_count": 0,
   "metadata": {
    "colab": {
     "base_uri": "https://localhost:8080/",
     "height": 375
    },
    "colab_type": "code",
    "id": "2a80EmkWs_A-",
    "outputId": "41503313-2c76-4db8-a601-c10cdcfb0ae1"
   },
   "outputs": [
    {
     "name": "stdout",
     "output_type": "stream",
     "text": [
      "<class 'pandas.core.frame.DataFrame'>\n",
      "RangeIndex: 398 entries, 0 to 397\n",
      "Data columns (total 12 columns):\n",
      " #   Column                    Non-Null Count  Dtype  \n",
      "---  ------                    --------------  -----  \n",
      " 0   radius_0                  398 non-null    float64\n",
      " 1   texture_0                 398 non-null    float64\n",
      " 2   perimeter_0               398 non-null    float64\n",
      " 3   radius_1                  343 non-null    float64\n",
      " 4   texture_1                 398 non-null    float64\n",
      " 5   perimeter_1               264 non-null    float64\n",
      " 6   radius_2                  398 non-null    float64\n",
      " 7   texture_2                 382 non-null    float64\n",
      " 8   perimeter_2               398 non-null    float64\n",
      " 9   age                       398 non-null    int64  \n",
      " 10  cancer_type               398 non-null    int64  \n",
      " 11  diff_diagnose_traitement  398 non-null    float64\n",
      "dtypes: float64(10), int64(2)\n",
      "memory usage: 37.4 KB\n"
     ]
    }
   ],
   "source": [
    "df.info()"
   ]
  },
  {
   "cell_type": "code",
   "execution_count": 0,
   "metadata": {
    "colab": {},
    "colab_type": "code",
    "id": "sktYa8KatCwu"
   },
   "outputs": [],
   "source": [
    "df_aux = df.copy()"
   ]
  },
  {
   "cell_type": "code",
   "execution_count": 0,
   "metadata": {
    "colab": {
     "base_uri": "https://localhost:8080/",
     "height": 226
    },
    "colab_type": "code",
    "id": "DCHcMDxxuFSl",
    "outputId": "582da286-7e50-4364-f2ca-e94b0bc5d96c"
   },
   "outputs": [
    {
     "data": {
      "text/html": [
       "<div>\n",
       "<style scoped>\n",
       "    .dataframe tbody tr th:only-of-type {\n",
       "        vertical-align: middle;\n",
       "    }\n",
       "\n",
       "    .dataframe tbody tr th {\n",
       "        vertical-align: top;\n",
       "    }\n",
       "\n",
       "    .dataframe thead th {\n",
       "        text-align: right;\n",
       "    }\n",
       "</style>\n",
       "<table border=\"1\" class=\"dataframe\">\n",
       "  <thead>\n",
       "    <tr style=\"text-align: right;\">\n",
       "      <th></th>\n",
       "      <th>radius_0</th>\n",
       "      <th>texture_0</th>\n",
       "      <th>perimeter_0</th>\n",
       "      <th>radius_1</th>\n",
       "      <th>texture_1</th>\n",
       "      <th>perimeter_1</th>\n",
       "      <th>radius_2</th>\n",
       "      <th>texture_2</th>\n",
       "      <th>perimeter_2</th>\n",
       "      <th>age</th>\n",
       "      <th>cancer_type</th>\n",
       "      <th>diff_diagnose_traitement</th>\n",
       "    </tr>\n",
       "  </thead>\n",
       "  <tbody>\n",
       "    <tr>\n",
       "      <th>0</th>\n",
       "      <td>19.858394</td>\n",
       "      <td>27.204437</td>\n",
       "      <td>136.324256</td>\n",
       "      <td>22.683290</td>\n",
       "      <td>32.802578</td>\n",
       "      <td>119.523841</td>\n",
       "      <td>21.477052</td>\n",
       "      <td>27.307087</td>\n",
       "      <td>82.366936</td>\n",
       "      <td>44</td>\n",
       "      <td>0</td>\n",
       "      <td>19267200.0</td>\n",
       "    </tr>\n",
       "    <tr>\n",
       "      <th>1</th>\n",
       "      <td>14.182069</td>\n",
       "      <td>15.754730</td>\n",
       "      <td>80.916983</td>\n",
       "      <td>14.043753</td>\n",
       "      <td>30.094704</td>\n",
       "      <td>94.911073</td>\n",
       "      <td>15.012329</td>\n",
       "      <td>17.855131</td>\n",
       "      <td>103.078286</td>\n",
       "      <td>59</td>\n",
       "      <td>1</td>\n",
       "      <td>110160000.0</td>\n",
       "    </tr>\n",
       "    <tr>\n",
       "      <th>2</th>\n",
       "      <td>25.380268</td>\n",
       "      <td>21.291553</td>\n",
       "      <td>152.281062</td>\n",
       "      <td>23.852166</td>\n",
       "      <td>46.237931</td>\n",
       "      <td>NaN</td>\n",
       "      <td>28.563252</td>\n",
       "      <td>21.097153</td>\n",
       "      <td>143.367792</td>\n",
       "      <td>37</td>\n",
       "      <td>0</td>\n",
       "      <td>44668800.0</td>\n",
       "    </tr>\n",
       "    <tr>\n",
       "      <th>3</th>\n",
       "      <td>11.835961</td>\n",
       "      <td>17.820702</td>\n",
       "      <td>72.178523</td>\n",
       "      <td>11.260258</td>\n",
       "      <td>44.805167</td>\n",
       "      <td>NaN</td>\n",
       "      <td>12.082749</td>\n",
       "      <td>16.499237</td>\n",
       "      <td>65.920413</td>\n",
       "      <td>51</td>\n",
       "      <td>1</td>\n",
       "      <td>68601600.0</td>\n",
       "    </tr>\n",
       "    <tr>\n",
       "      <th>4</th>\n",
       "      <td>14.875600</td>\n",
       "      <td>17.534187</td>\n",
       "      <td>98.545830</td>\n",
       "      <td>14.380683</td>\n",
       "      <td>26.190447</td>\n",
       "      <td>89.712492</td>\n",
       "      <td>12.930685</td>\n",
       "      <td>19.856687</td>\n",
       "      <td>108.380754</td>\n",
       "      <td>21</td>\n",
       "      <td>1</td>\n",
       "      <td>49420800.0</td>\n",
       "    </tr>\n",
       "  </tbody>\n",
       "</table>\n",
       "</div>"
      ],
      "text/plain": [
       "    radius_0  texture_0  ...  cancer_type  diff_diagnose_traitement\n",
       "0  19.858394  27.204437  ...            0                19267200.0\n",
       "1  14.182069  15.754730  ...            1               110160000.0\n",
       "2  25.380268  21.291553  ...            0                44668800.0\n",
       "3  11.835961  17.820702  ...            1                68601600.0\n",
       "4  14.875600  17.534187  ...            1                49420800.0\n",
       "\n",
       "[5 rows x 12 columns]"
      ]
     },
     "execution_count": 212,
     "metadata": {
      "tags": []
     },
     "output_type": "execute_result"
    }
   ],
   "source": [
    "df_aux.head()"
   ]
  },
  {
   "cell_type": "code",
   "execution_count": 0,
   "metadata": {
    "colab": {
     "base_uri": "https://localhost:8080/",
     "height": 444
    },
    "colab_type": "code",
    "id": "iVk0Qa6PuH9d",
    "outputId": "c839024a-1bdc-431e-a9f5-af6de8dcef24"
   },
   "outputs": [
    {
     "data": {
      "text/html": [
       "<div>\n",
       "<style scoped>\n",
       "    .dataframe tbody tr th:only-of-type {\n",
       "        vertical-align: middle;\n",
       "    }\n",
       "\n",
       "    .dataframe tbody tr th {\n",
       "        vertical-align: top;\n",
       "    }\n",
       "\n",
       "    .dataframe thead th {\n",
       "        text-align: right;\n",
       "    }\n",
       "</style>\n",
       "<table border=\"1\" class=\"dataframe\">\n",
       "  <thead>\n",
       "    <tr style=\"text-align: right;\">\n",
       "      <th></th>\n",
       "      <th>radius_0</th>\n",
       "      <th>texture_0</th>\n",
       "      <th>perimeter_0</th>\n",
       "      <th>radius_1</th>\n",
       "      <th>texture_1</th>\n",
       "      <th>perimeter_1</th>\n",
       "      <th>radius_2</th>\n",
       "      <th>texture_2</th>\n",
       "      <th>perimeter_2</th>\n",
       "      <th>age</th>\n",
       "      <th>cancer_type</th>\n",
       "      <th>diff_diagnose_traitement</th>\n",
       "    </tr>\n",
       "  </thead>\n",
       "  <tbody>\n",
       "    <tr>\n",
       "      <th>0</th>\n",
       "      <td>19.858394</td>\n",
       "      <td>27.204437</td>\n",
       "      <td>136.324256</td>\n",
       "      <td>22.683290</td>\n",
       "      <td>32.802578</td>\n",
       "      <td>119.523841</td>\n",
       "      <td>21.477052</td>\n",
       "      <td>27.307087</td>\n",
       "      <td>82.366936</td>\n",
       "      <td>44</td>\n",
       "      <td>0</td>\n",
       "      <td>19267200.0</td>\n",
       "    </tr>\n",
       "    <tr>\n",
       "      <th>1</th>\n",
       "      <td>14.182069</td>\n",
       "      <td>15.754730</td>\n",
       "      <td>80.916983</td>\n",
       "      <td>14.043753</td>\n",
       "      <td>30.094704</td>\n",
       "      <td>94.911073</td>\n",
       "      <td>15.012329</td>\n",
       "      <td>17.855131</td>\n",
       "      <td>103.078286</td>\n",
       "      <td>59</td>\n",
       "      <td>1</td>\n",
       "      <td>110160000.0</td>\n",
       "    </tr>\n",
       "    <tr>\n",
       "      <th>4</th>\n",
       "      <td>14.875600</td>\n",
       "      <td>17.534187</td>\n",
       "      <td>98.545830</td>\n",
       "      <td>14.380683</td>\n",
       "      <td>26.190447</td>\n",
       "      <td>89.712492</td>\n",
       "      <td>12.930685</td>\n",
       "      <td>19.856687</td>\n",
       "      <td>108.380754</td>\n",
       "      <td>21</td>\n",
       "      <td>1</td>\n",
       "      <td>49420800.0</td>\n",
       "    </tr>\n",
       "    <tr>\n",
       "      <th>7</th>\n",
       "      <td>14.292161</td>\n",
       "      <td>28.430808</td>\n",
       "      <td>81.293588</td>\n",
       "      <td>15.042501</td>\n",
       "      <td>36.480522</td>\n",
       "      <td>78.668608</td>\n",
       "      <td>14.584187</td>\n",
       "      <td>24.055640</td>\n",
       "      <td>126.014415</td>\n",
       "      <td>40</td>\n",
       "      <td>1</td>\n",
       "      <td>62467200.0</td>\n",
       "    </tr>\n",
       "    <tr>\n",
       "      <th>8</th>\n",
       "      <td>13.119916</td>\n",
       "      <td>14.619103</td>\n",
       "      <td>88.293516</td>\n",
       "      <td>13.093215</td>\n",
       "      <td>12.299673</td>\n",
       "      <td>81.907981</td>\n",
       "      <td>13.963749</td>\n",
       "      <td>16.908342</td>\n",
       "      <td>56.235029</td>\n",
       "      <td>43</td>\n",
       "      <td>1</td>\n",
       "      <td>21081600.0</td>\n",
       "    </tr>\n",
       "    <tr>\n",
       "      <th>...</th>\n",
       "      <td>...</td>\n",
       "      <td>...</td>\n",
       "      <td>...</td>\n",
       "      <td>...</td>\n",
       "      <td>...</td>\n",
       "      <td>...</td>\n",
       "      <td>...</td>\n",
       "      <td>...</td>\n",
       "      <td>...</td>\n",
       "      <td>...</td>\n",
       "      <td>...</td>\n",
       "      <td>...</td>\n",
       "    </tr>\n",
       "    <tr>\n",
       "      <th>390</th>\n",
       "      <td>14.848246</td>\n",
       "      <td>20.464676</td>\n",
       "      <td>117.535591</td>\n",
       "      <td>15.405057</td>\n",
       "      <td>22.227830</td>\n",
       "      <td>106.933004</td>\n",
       "      <td>16.341575</td>\n",
       "      <td>19.945252</td>\n",
       "      <td>176.030398</td>\n",
       "      <td>36</td>\n",
       "      <td>0</td>\n",
       "      <td>62035200.0</td>\n",
       "    </tr>\n",
       "    <tr>\n",
       "      <th>391</th>\n",
       "      <td>21.081445</td>\n",
       "      <td>20.429425</td>\n",
       "      <td>114.246985</td>\n",
       "      <td>17.505730</td>\n",
       "      <td>49.229470</td>\n",
       "      <td>161.196507</td>\n",
       "      <td>18.300994</td>\n",
       "      <td>22.080930</td>\n",
       "      <td>120.032441</td>\n",
       "      <td>27</td>\n",
       "      <td>0</td>\n",
       "      <td>42595200.0</td>\n",
       "    </tr>\n",
       "    <tr>\n",
       "      <th>392</th>\n",
       "      <td>21.452732</td>\n",
       "      <td>24.270587</td>\n",
       "      <td>165.240157</td>\n",
       "      <td>18.315527</td>\n",
       "      <td>27.464137</td>\n",
       "      <td>112.425470</td>\n",
       "      <td>18.751829</td>\n",
       "      <td>17.959451</td>\n",
       "      <td>69.344406</td>\n",
       "      <td>18</td>\n",
       "      <td>0</td>\n",
       "      <td>39571200.0</td>\n",
       "    </tr>\n",
       "    <tr>\n",
       "      <th>395</th>\n",
       "      <td>11.901766</td>\n",
       "      <td>14.899430</td>\n",
       "      <td>75.271179</td>\n",
       "      <td>11.915226</td>\n",
       "      <td>27.449196</td>\n",
       "      <td>83.673309</td>\n",
       "      <td>11.747213</td>\n",
       "      <td>22.852121</td>\n",
       "      <td>134.297230</td>\n",
       "      <td>34</td>\n",
       "      <td>1</td>\n",
       "      <td>36806400.0</td>\n",
       "    </tr>\n",
       "    <tr>\n",
       "      <th>396</th>\n",
       "      <td>13.017187</td>\n",
       "      <td>22.818286</td>\n",
       "      <td>76.971805</td>\n",
       "      <td>10.732125</td>\n",
       "      <td>16.765887</td>\n",
       "      <td>70.390956</td>\n",
       "      <td>12.042109</td>\n",
       "      <td>22.889621</td>\n",
       "      <td>190.688277</td>\n",
       "      <td>32</td>\n",
       "      <td>1</td>\n",
       "      <td>75340800.0</td>\n",
       "    </tr>\n",
       "  </tbody>\n",
       "</table>\n",
       "<p>199 rows × 12 columns</p>\n",
       "</div>"
      ],
      "text/plain": [
       "      radius_0  texture_0  ...  cancer_type  diff_diagnose_traitement\n",
       "0    19.858394  27.204437  ...            0                19267200.0\n",
       "1    14.182069  15.754730  ...            1               110160000.0\n",
       "4    14.875600  17.534187  ...            1                49420800.0\n",
       "7    14.292161  28.430808  ...            1                62467200.0\n",
       "8    13.119916  14.619103  ...            1                21081600.0\n",
       "..         ...        ...  ...          ...                       ...\n",
       "390  14.848246  20.464676  ...            0                62035200.0\n",
       "391  21.081445  20.429425  ...            0                42595200.0\n",
       "392  21.452732  24.270587  ...            0                39571200.0\n",
       "395  11.901766  14.899430  ...            1                36806400.0\n",
       "396  13.017187  22.818286  ...            1                75340800.0\n",
       "\n",
       "[199 rows x 12 columns]"
      ]
     },
     "execution_count": 213,
     "metadata": {
      "tags": []
     },
     "output_type": "execute_result"
    }
   ],
   "source": [
    "df_clean = df_aux.dropna().copy()"
   ]
  },
  {
   "cell_type": "code",
   "execution_count": 0,
   "metadata": {
    "colab": {
     "base_uri": "https://localhost:8080/",
     "height": 446
    },
    "colab_type": "code",
    "id": "hvawcMzfuMVQ",
    "outputId": "e3776611-9de4-48c0-d481-6a0714fce620"
   },
   "outputs": [
    {
     "data": {
      "text/html": [
       "<div>\n",
       "<style scoped>\n",
       "    .dataframe tbody tr th:only-of-type {\n",
       "        vertical-align: middle;\n",
       "    }\n",
       "\n",
       "    .dataframe tbody tr th {\n",
       "        vertical-align: top;\n",
       "    }\n",
       "\n",
       "    .dataframe thead th {\n",
       "        text-align: right;\n",
       "    }\n",
       "</style>\n",
       "<table border=\"1\" class=\"dataframe\">\n",
       "  <thead>\n",
       "    <tr style=\"text-align: right;\">\n",
       "      <th></th>\n",
       "      <th>radius_0</th>\n",
       "      <th>texture_0</th>\n",
       "      <th>perimeter_0</th>\n",
       "      <th>radius_1</th>\n",
       "      <th>texture_1</th>\n",
       "      <th>perimeter_1</th>\n",
       "      <th>radius_2</th>\n",
       "      <th>texture_2</th>\n",
       "      <th>perimeter_2</th>\n",
       "      <th>age</th>\n",
       "      <th>cancer_type</th>\n",
       "      <th>diff_diagnose_traitement</th>\n",
       "    </tr>\n",
       "  </thead>\n",
       "  <tbody>\n",
       "    <tr>\n",
       "      <th>radius_0</th>\n",
       "      <td>1.000000</td>\n",
       "      <td>0.090260</td>\n",
       "      <td>0.127806</td>\n",
       "      <td>0.127746</td>\n",
       "      <td>0.081339</td>\n",
       "      <td>0.133796</td>\n",
       "      <td>0.147473</td>\n",
       "      <td>0.103228</td>\n",
       "      <td>-0.088002</td>\n",
       "      <td>0.047784</td>\n",
       "      <td>-0.165618</td>\n",
       "      <td>0.053521</td>\n",
       "    </tr>\n",
       "    <tr>\n",
       "      <th>texture_0</th>\n",
       "      <td>0.090260</td>\n",
       "      <td>1.000000</td>\n",
       "      <td>0.180504</td>\n",
       "      <td>0.206626</td>\n",
       "      <td>0.054536</td>\n",
       "      <td>0.173020</td>\n",
       "      <td>0.171654</td>\n",
       "      <td>0.436923</td>\n",
       "      <td>0.029577</td>\n",
       "      <td>0.015494</td>\n",
       "      <td>-0.262385</td>\n",
       "      <td>0.024759</td>\n",
       "    </tr>\n",
       "    <tr>\n",
       "      <th>perimeter_0</th>\n",
       "      <td>0.127806</td>\n",
       "      <td>0.180504</td>\n",
       "      <td>1.000000</td>\n",
       "      <td>0.830154</td>\n",
       "      <td>0.151266</td>\n",
       "      <td>0.817371</td>\n",
       "      <td>0.820268</td>\n",
       "      <td>0.250574</td>\n",
       "      <td>-0.026881</td>\n",
       "      <td>-0.059903</td>\n",
       "      <td>-0.702946</td>\n",
       "      <td>-0.095541</td>\n",
       "    </tr>\n",
       "    <tr>\n",
       "      <th>radius_1</th>\n",
       "      <td>0.127746</td>\n",
       "      <td>0.206626</td>\n",
       "      <td>0.830154</td>\n",
       "      <td>1.000000</td>\n",
       "      <td>0.156355</td>\n",
       "      <td>0.812138</td>\n",
       "      <td>0.856681</td>\n",
       "      <td>0.251768</td>\n",
       "      <td>0.024772</td>\n",
       "      <td>-0.065711</td>\n",
       "      <td>-0.674863</td>\n",
       "      <td>-0.056828</td>\n",
       "    </tr>\n",
       "    <tr>\n",
       "      <th>texture_1</th>\n",
       "      <td>0.081339</td>\n",
       "      <td>0.054536</td>\n",
       "      <td>0.151266</td>\n",
       "      <td>0.156355</td>\n",
       "      <td>1.000000</td>\n",
       "      <td>0.138313</td>\n",
       "      <td>0.098114</td>\n",
       "      <td>0.106109</td>\n",
       "      <td>-0.084125</td>\n",
       "      <td>0.055063</td>\n",
       "      <td>-0.158078</td>\n",
       "      <td>-0.020352</td>\n",
       "    </tr>\n",
       "    <tr>\n",
       "      <th>perimeter_1</th>\n",
       "      <td>0.133796</td>\n",
       "      <td>0.173020</td>\n",
       "      <td>0.817371</td>\n",
       "      <td>0.812138</td>\n",
       "      <td>0.138313</td>\n",
       "      <td>1.000000</td>\n",
       "      <td>0.866853</td>\n",
       "      <td>0.182763</td>\n",
       "      <td>0.013581</td>\n",
       "      <td>-0.094998</td>\n",
       "      <td>-0.689613</td>\n",
       "      <td>-0.103114</td>\n",
       "    </tr>\n",
       "    <tr>\n",
       "      <th>radius_2</th>\n",
       "      <td>0.147473</td>\n",
       "      <td>0.171654</td>\n",
       "      <td>0.820268</td>\n",
       "      <td>0.856681</td>\n",
       "      <td>0.098114</td>\n",
       "      <td>0.866853</td>\n",
       "      <td>1.000000</td>\n",
       "      <td>0.213761</td>\n",
       "      <td>-0.013657</td>\n",
       "      <td>-0.112529</td>\n",
       "      <td>-0.675149</td>\n",
       "      <td>-0.074111</td>\n",
       "    </tr>\n",
       "    <tr>\n",
       "      <th>texture_2</th>\n",
       "      <td>0.103228</td>\n",
       "      <td>0.436923</td>\n",
       "      <td>0.250574</td>\n",
       "      <td>0.251768</td>\n",
       "      <td>0.106109</td>\n",
       "      <td>0.182763</td>\n",
       "      <td>0.213761</td>\n",
       "      <td>1.000000</td>\n",
       "      <td>-0.016644</td>\n",
       "      <td>-0.005975</td>\n",
       "      <td>-0.304635</td>\n",
       "      <td>0.019262</td>\n",
       "    </tr>\n",
       "    <tr>\n",
       "      <th>perimeter_2</th>\n",
       "      <td>-0.088002</td>\n",
       "      <td>0.029577</td>\n",
       "      <td>-0.026881</td>\n",
       "      <td>0.024772</td>\n",
       "      <td>-0.084125</td>\n",
       "      <td>0.013581</td>\n",
       "      <td>-0.013657</td>\n",
       "      <td>-0.016644</td>\n",
       "      <td>1.000000</td>\n",
       "      <td>0.030057</td>\n",
       "      <td>0.013055</td>\n",
       "      <td>-0.035906</td>\n",
       "    </tr>\n",
       "    <tr>\n",
       "      <th>age</th>\n",
       "      <td>0.047784</td>\n",
       "      <td>0.015494</td>\n",
       "      <td>-0.059903</td>\n",
       "      <td>-0.065711</td>\n",
       "      <td>0.055063</td>\n",
       "      <td>-0.094998</td>\n",
       "      <td>-0.112529</td>\n",
       "      <td>-0.005975</td>\n",
       "      <td>0.030057</td>\n",
       "      <td>1.000000</td>\n",
       "      <td>-0.001636</td>\n",
       "      <td>0.112484</td>\n",
       "    </tr>\n",
       "    <tr>\n",
       "      <th>cancer_type</th>\n",
       "      <td>-0.165618</td>\n",
       "      <td>-0.262385</td>\n",
       "      <td>-0.702946</td>\n",
       "      <td>-0.674863</td>\n",
       "      <td>-0.158078</td>\n",
       "      <td>-0.689613</td>\n",
       "      <td>-0.675149</td>\n",
       "      <td>-0.304635</td>\n",
       "      <td>0.013055</td>\n",
       "      <td>-0.001636</td>\n",
       "      <td>1.000000</td>\n",
       "      <td>0.098058</td>\n",
       "    </tr>\n",
       "    <tr>\n",
       "      <th>diff_diagnose_traitement</th>\n",
       "      <td>0.053521</td>\n",
       "      <td>0.024759</td>\n",
       "      <td>-0.095541</td>\n",
       "      <td>-0.056828</td>\n",
       "      <td>-0.020352</td>\n",
       "      <td>-0.103114</td>\n",
       "      <td>-0.074111</td>\n",
       "      <td>0.019262</td>\n",
       "      <td>-0.035906</td>\n",
       "      <td>0.112484</td>\n",
       "      <td>0.098058</td>\n",
       "      <td>1.000000</td>\n",
       "    </tr>\n",
       "  </tbody>\n",
       "</table>\n",
       "</div>"
      ],
      "text/plain": [
       "                          radius_0  ...  diff_diagnose_traitement\n",
       "radius_0                  1.000000  ...                  0.053521\n",
       "texture_0                 0.090260  ...                  0.024759\n",
       "perimeter_0               0.127806  ...                 -0.095541\n",
       "radius_1                  0.127746  ...                 -0.056828\n",
       "texture_1                 0.081339  ...                 -0.020352\n",
       "perimeter_1               0.133796  ...                 -0.103114\n",
       "radius_2                  0.147473  ...                 -0.074111\n",
       "texture_2                 0.103228  ...                  0.019262\n",
       "perimeter_2              -0.088002  ...                 -0.035906\n",
       "age                       0.047784  ...                  0.112484\n",
       "cancer_type              -0.165618  ...                  0.098058\n",
       "diff_diagnose_traitement  0.053521  ...                  1.000000\n",
       "\n",
       "[12 rows x 12 columns]"
      ]
     },
     "execution_count": 214,
     "metadata": {
      "tags": []
     },
     "output_type": "execute_result"
    }
   ],
   "source": [
    "df_aux.corr()"
   ]
  },
  {
   "cell_type": "code",
   "execution_count": 0,
   "metadata": {
    "colab": {
     "base_uri": "https://localhost:8080/",
     "height": 284
    },
    "colab_type": "code",
    "id": "9NSdnlP4ukQK",
    "outputId": "15f67a32-cf78-455a-e760-a6c6b40466cc"
   },
   "outputs": [
    {
     "data": {
      "text/plain": [
       "<matplotlib.collections.PathCollection at 0x7fb0bb7a7cc0>"
      ]
     },
     "execution_count": 217,
     "metadata": {
      "tags": []
     },
     "output_type": "execute_result"
    },
    {
     "data": {
      "image/png": "[encoded data removed]",
      "text/plain": [
       "<Figure size 432x288 with 1 Axes>"
      ]
     },
     "metadata": {
      "needs_background": "light",
      "tags": []
     },
     "output_type": "display_data"
    }
   ],
   "source": [
    "plt.scatter(df['radius_1'],df['perimeter_0'])"
   ]
  },
  {
   "cell_type": "code",
   "execution_count": 0,
   "metadata": {
    "colab": {},
    "colab_type": "code",
    "id": "mDR5SikBfozc"
   },
   "outputs": [],
   "source": [
    "from sklearn.linear_model import ElasticNet\n",
    "reg = ElasticNet(alpha=0.9, l1_ratio=0.5)\n",
    "reg.fit()\n",
    "reg.perdict"
   ]
  },
  {
   "cell_type": "code",
   "execution_count": 0,
   "metadata": {
    "colab": {
     "base_uri": "https://localhost:8080/",
     "height": 444
    },
    "colab_type": "code",
    "id": "X57cFmiJvGrm",
    "outputId": "9af10633-8777-447c-c85c-16b01497bcdb"
   },
   "outputs": [
    {
     "data": {
      "text/html": [
       "<div>\n",
       "<style scoped>\n",
       "    .dataframe tbody tr th:only-of-type {\n",
       "        vertical-align: middle;\n",
       "    }\n",
       "\n",
       "    .dataframe tbody tr th {\n",
       "        vertical-align: top;\n",
       "    }\n",
       "\n",
       "    .dataframe thead th {\n",
       "        text-align: right;\n",
       "    }\n",
       "</style>\n",
       "<table border=\"1\" class=\"dataframe\">\n",
       "  <thead>\n",
       "    <tr style=\"text-align: right;\">\n",
       "      <th></th>\n",
       "      <th>radius_0</th>\n",
       "      <th>texture_0</th>\n",
       "      <th>perimeter_0</th>\n",
       "      <th>radius_1</th>\n",
       "      <th>texture_1</th>\n",
       "      <th>perimeter_1</th>\n",
       "      <th>radius_2</th>\n",
       "      <th>texture_2</th>\n",
       "      <th>perimeter_2</th>\n",
       "      <th>age</th>\n",
       "      <th>cancer_type</th>\n",
       "      <th>diff_diagnose_traitement</th>\n",
       "    </tr>\n",
       "  </thead>\n",
       "  <tbody>\n",
       "    <tr>\n",
       "      <th>0</th>\n",
       "      <td>19.858394</td>\n",
       "      <td>27.204437</td>\n",
       "      <td>136.324256</td>\n",
       "      <td>22.683290</td>\n",
       "      <td>32.802578</td>\n",
       "      <td>119.523841</td>\n",
       "      <td>21.477052</td>\n",
       "      <td>27.307087</td>\n",
       "      <td>82.366936</td>\n",
       "      <td>44</td>\n",
       "      <td>0</td>\n",
       "      <td>19267200.0</td>\n",
       "    </tr>\n",
       "    <tr>\n",
       "      <th>2</th>\n",
       "      <td>25.380268</td>\n",
       "      <td>21.291553</td>\n",
       "      <td>152.281062</td>\n",
       "      <td>23.852166</td>\n",
       "      <td>46.237931</td>\n",
       "      <td>NaN</td>\n",
       "      <td>28.563252</td>\n",
       "      <td>21.097153</td>\n",
       "      <td>143.367792</td>\n",
       "      <td>37</td>\n",
       "      <td>0</td>\n",
       "      <td>44668800.0</td>\n",
       "    </tr>\n",
       "    <tr>\n",
       "      <th>6</th>\n",
       "      <td>19.379444</td>\n",
       "      <td>21.850345</td>\n",
       "      <td>107.734027</td>\n",
       "      <td>16.748725</td>\n",
       "      <td>22.265567</td>\n",
       "      <td>NaN</td>\n",
       "      <td>18.089348</td>\n",
       "      <td>20.962623</td>\n",
       "      <td>184.390751</td>\n",
       "      <td>51</td>\n",
       "      <td>0</td>\n",
       "      <td>65836800.0</td>\n",
       "    </tr>\n",
       "    <tr>\n",
       "      <th>7</th>\n",
       "      <td>14.292161</td>\n",
       "      <td>28.430808</td>\n",
       "      <td>81.293588</td>\n",
       "      <td>15.042501</td>\n",
       "      <td>36.480522</td>\n",
       "      <td>78.668608</td>\n",
       "      <td>14.584187</td>\n",
       "      <td>24.055640</td>\n",
       "      <td>126.014415</td>\n",
       "      <td>40</td>\n",
       "      <td>1</td>\n",
       "      <td>62467200.0</td>\n",
       "    </tr>\n",
       "    <tr>\n",
       "      <th>15</th>\n",
       "      <td>19.190173</td>\n",
       "      <td>14.206228</td>\n",
       "      <td>115.549363</td>\n",
       "      <td>15.077819</td>\n",
       "      <td>12.347616</td>\n",
       "      <td>119.672061</td>\n",
       "      <td>22.713363</td>\n",
       "      <td>13.484648</td>\n",
       "      <td>48.241773</td>\n",
       "      <td>18</td>\n",
       "      <td>0</td>\n",
       "      <td>95299200.0</td>\n",
       "    </tr>\n",
       "    <tr>\n",
       "      <th>...</th>\n",
       "      <td>...</td>\n",
       "      <td>...</td>\n",
       "      <td>...</td>\n",
       "      <td>...</td>\n",
       "      <td>...</td>\n",
       "      <td>...</td>\n",
       "      <td>...</td>\n",
       "      <td>...</td>\n",
       "      <td>...</td>\n",
       "      <td>...</td>\n",
       "      <td>...</td>\n",
       "      <td>...</td>\n",
       "    </tr>\n",
       "    <tr>\n",
       "      <th>388</th>\n",
       "      <td>19.127734</td>\n",
       "      <td>27.553321</td>\n",
       "      <td>122.536674</td>\n",
       "      <td>21.554734</td>\n",
       "      <td>30.774876</td>\n",
       "      <td>147.451248</td>\n",
       "      <td>23.821473</td>\n",
       "      <td>19.725406</td>\n",
       "      <td>165.577948</td>\n",
       "      <td>38</td>\n",
       "      <td>0</td>\n",
       "      <td>111888000.0</td>\n",
       "    </tr>\n",
       "    <tr>\n",
       "      <th>390</th>\n",
       "      <td>14.848246</td>\n",
       "      <td>20.464676</td>\n",
       "      <td>117.535591</td>\n",
       "      <td>15.405057</td>\n",
       "      <td>22.227830</td>\n",
       "      <td>106.933004</td>\n",
       "      <td>16.341575</td>\n",
       "      <td>19.945252</td>\n",
       "      <td>176.030398</td>\n",
       "      <td>36</td>\n",
       "      <td>0</td>\n",
       "      <td>62035200.0</td>\n",
       "    </tr>\n",
       "    <tr>\n",
       "      <th>391</th>\n",
       "      <td>21.081445</td>\n",
       "      <td>20.429425</td>\n",
       "      <td>114.246985</td>\n",
       "      <td>17.505730</td>\n",
       "      <td>49.229470</td>\n",
       "      <td>161.196507</td>\n",
       "      <td>18.300994</td>\n",
       "      <td>22.080930</td>\n",
       "      <td>120.032441</td>\n",
       "      <td>27</td>\n",
       "      <td>0</td>\n",
       "      <td>42595200.0</td>\n",
       "    </tr>\n",
       "    <tr>\n",
       "      <th>392</th>\n",
       "      <td>21.452732</td>\n",
       "      <td>24.270587</td>\n",
       "      <td>165.240157</td>\n",
       "      <td>18.315527</td>\n",
       "      <td>27.464137</td>\n",
       "      <td>112.425470</td>\n",
       "      <td>18.751829</td>\n",
       "      <td>17.959451</td>\n",
       "      <td>69.344406</td>\n",
       "      <td>18</td>\n",
       "      <td>0</td>\n",
       "      <td>39571200.0</td>\n",
       "    </tr>\n",
       "    <tr>\n",
       "      <th>394</th>\n",
       "      <td>19.914975</td>\n",
       "      <td>33.964790</td>\n",
       "      <td>94.251431</td>\n",
       "      <td>22.355340</td>\n",
       "      <td>41.064658</td>\n",
       "      <td>NaN</td>\n",
       "      <td>20.471542</td>\n",
       "      <td>36.901107</td>\n",
       "      <td>48.300471</td>\n",
       "      <td>63</td>\n",
       "      <td>0</td>\n",
       "      <td>160272000.0</td>\n",
       "    </tr>\n",
       "  </tbody>\n",
       "</table>\n",
       "<p>113 rows × 12 columns</p>\n",
       "</div>"
      ],
      "text/plain": [
       "      radius_0  texture_0  ...  cancer_type  diff_diagnose_traitement\n",
       "0    19.858394  27.204437  ...            0                19267200.0\n",
       "2    25.380268  21.291553  ...            0                44668800.0\n",
       "6    19.379444  21.850345  ...            0                65836800.0\n",
       "7    14.292161  28.430808  ...            1                62467200.0\n",
       "15   19.190173  14.206228  ...            0                95299200.0\n",
       "..         ...        ...  ...          ...                       ...\n",
       "388  19.127734  27.553321  ...            0               111888000.0\n",
       "390  14.848246  20.464676  ...            0                62035200.0\n",
       "391  21.081445  20.429425  ...            0                42595200.0\n",
       "392  21.452732  24.270587  ...            0                39571200.0\n",
       "394  19.914975  33.964790  ...            0               160272000.0\n",
       "\n",
       "[113 rows x 12 columns]"
      ]
     },
     "execution_count": 218,
     "metadata": {
      "tags": []
     },
     "output_type": "execute_result"
    }
   ],
   "source": [
    "df[df['radius_1'] > 15]"
   ]
  },
  {
   "cell_type": "code",
   "execution_count": 0,
   "metadata": {
    "colab": {
     "base_uri": "https://localhost:8080/",
     "height": 238
    },
    "colab_type": "code",
    "id": "tL3nLL-BwBie",
    "outputId": "4be708cc-9ef0-48a2-d3bf-ab440813c44d"
   },
   "outputs": [
    {
     "data": {
      "text/html": [
       "<div>\n",
       "<style scoped>\n",
       "    .dataframe tbody tr th:only-of-type {\n",
       "        vertical-align: middle;\n",
       "    }\n",
       "\n",
       "    .dataframe tbody tr th {\n",
       "        vertical-align: top;\n",
       "    }\n",
       "\n",
       "    .dataframe thead th {\n",
       "        text-align: right;\n",
       "    }\n",
       "</style>\n",
       "<table border=\"1\" class=\"dataframe\">\n",
       "  <thead>\n",
       "    <tr style=\"text-align: right;\">\n",
       "      <th></th>\n",
       "      <th>radius_1</th>\n",
       "      <th>perimeter_0</th>\n",
       "    </tr>\n",
       "  </thead>\n",
       "  <tbody>\n",
       "    <tr>\n",
       "      <th>3</th>\n",
       "      <td>11.260258</td>\n",
       "      <td>72.178523</td>\n",
       "    </tr>\n",
       "    <tr>\n",
       "      <th>4</th>\n",
       "      <td>14.380683</td>\n",
       "      <td>98.545830</td>\n",
       "    </tr>\n",
       "    <tr>\n",
       "      <th>5</th>\n",
       "      <td>12.074242</td>\n",
       "      <td>72.373560</td>\n",
       "    </tr>\n",
       "    <tr>\n",
       "      <th>6</th>\n",
       "      <td>16.748725</td>\n",
       "      <td>107.734027</td>\n",
       "    </tr>\n",
       "    <tr>\n",
       "      <th>7</th>\n",
       "      <td>15.042501</td>\n",
       "      <td>81.293588</td>\n",
       "    </tr>\n",
       "    <tr>\n",
       "      <th>8</th>\n",
       "      <td>13.093215</td>\n",
       "      <td>88.293516</td>\n",
       "    </tr>\n",
       "  </tbody>\n",
       "</table>\n",
       "</div>"
      ],
      "text/plain": [
       "    radius_1  perimeter_0\n",
       "3  11.260258    72.178523\n",
       "4  14.380683    98.545830\n",
       "5  12.074242    72.373560\n",
       "6  16.748725   107.734027\n",
       "7  15.042501    81.293588\n",
       "8  13.093215    88.293516"
      ]
     },
     "execution_count": 219,
     "metadata": {
      "tags": []
     },
     "output_type": "execute_result"
    }
   ],
   "source": [
    "df.loc[ 3:8, ['radius_1','perimeter_0']]"
   ]
  },
  {
   "cell_type": "code",
   "execution_count": 0,
   "metadata": {
    "colab": {},
    "colab_type": "code",
    "id": "LI1nktKGwdDf"
   },
   "outputs": [],
   "source": [
    "df_aux.to_csv('train_data_cleaned.csv')"
   ]
  },
  {
   "cell_type": "code",
   "execution_count": 0,
   "metadata": {
    "colab": {
     "base_uri": "https://localhost:8080/",
     "height": 302
    },
    "colab_type": "code",
    "id": "BxPQkYXUxHfP",
    "outputId": "44da545e-949e-48db-858c-8ce4fb86f4b9"
   },
   "outputs": [
    {
     "data": {
      "text/plain": [
       "Text(0.5, 0, 'Mon axe x [cm]')"
      ]
     },
     "execution_count": 222,
     "metadata": {
      "tags": []
     },
     "output_type": "execute_result"
    },
    {
     "data": {
      "image/png": "[encoded data removed]",
      "text/plain": [
       "<Figure size 432x288 with 1 Axes>"
      ]
     },
     "metadata": {
      "needs_background": "light",
      "tags": []
     },
     "output_type": "display_data"
    }
   ],
   "source": [
    "plt.title('Mon axe x [cm]')"
   ]
  },
  {
   "cell_type": "markdown",
   "metadata": {
    "colab_type": "text",
    "id": "i42YbJWIztdK"
   },
   "source": []
  },
  {
   "cell_type": "code",
   "execution_count": 0,
   "metadata": {
    "colab": {},
    "colab_type": "code",
    "id": "vw4DZwdexe1y"
   },
   "outputs": [],
   "source": [
    "a = [1,2,3]"
   ]
  },
  {
   "cell_type": "code",
   "execution_count": 0,
   "metadata": {
    "colab": {},
    "colab_type": "code",
    "id": "F5SzYRu3118G"
   },
   "outputs": [],
   "source": [
    "a = [3,4,5]"
   ]
  },
  {
   "cell_type": "code",
   "execution_count": 0,
   "metadata": {
    "colab": {},
    "colab_type": "code",
    "id": "z2bzicl_17gG"
   },
   "outputs": [],
   "source": [
    "import gc"
   ]
  },
  {
   "cell_type": "code",
   "execution_count": 0,
   "metadata": {
    "colab": {
     "base_uri": "https://localhost:8080/",
     "height": 36
    },
    "colab_type": "code",
    "id": "CMBcPqjU2HKh",
    "outputId": "121d6fc7-3f04-4e86-b933-0d67bf9057cf"
   },
   "outputs": [
    {
     "data": {
      "text/plain": [
       "644"
      ]
     },
     "execution_count": 226,
     "metadata": {
      "tags": []
     },
     "output_type": "execute_result"
    }
   ],
   "source": [
    "gc.collect()"
   ]
  },
  {
   "cell_type": "code",
   "execution_count": 0,
   "metadata": {
    "colab": {},
    "colab_type": "code",
    "id": "_pSjofOb2I1-"
   },
   "outputs": [],
   "source": [
    "mes_donnes = {'A':[2,3,4,1],\n",
    "              'B':[3.2,2.1,2.2,1.1]}"
   ]
  },
  {
   "cell_type": "code",
   "execution_count": 0,
   "metadata": {
    "colab": {},
    "colab_type": "code",
    "id": "oiucziIx2DIu"
   },
   "outputs": [],
   "source": [
    "import pandas as pd\n",
    "mon_df = pd.DataFrame(mes_donnes)"
   ]
  },
  {
   "cell_type": "code",
   "execution_count": 0,
   "metadata": {
    "colab": {
     "base_uri": "https://localhost:8080/",
     "height": 175
    },
    "colab_type": "code",
    "id": "MMlS9elP2L9M",
    "outputId": "2e1fdfa6-bdd9-4ff7-af78-ec1c9b6a4a8d"
   },
   "outputs": [
    {
     "data": {
      "text/html": [
       "<div>\n",
       "<style scoped>\n",
       "    .dataframe tbody tr th:only-of-type {\n",
       "        vertical-align: middle;\n",
       "    }\n",
       "\n",
       "    .dataframe tbody tr th {\n",
       "        vertical-align: top;\n",
       "    }\n",
       "\n",
       "    .dataframe thead th {\n",
       "        text-align: right;\n",
       "    }\n",
       "</style>\n",
       "<table border=\"1\" class=\"dataframe\">\n",
       "  <thead>\n",
       "    <tr style=\"text-align: right;\">\n",
       "      <th></th>\n",
       "      <th>A</th>\n",
       "      <th>B</th>\n",
       "    </tr>\n",
       "  </thead>\n",
       "  <tbody>\n",
       "    <tr>\n",
       "      <th>0</th>\n",
       "      <td>2</td>\n",
       "      <td>3.2</td>\n",
       "    </tr>\n",
       "    <tr>\n",
       "      <th>1</th>\n",
       "      <td>3</td>\n",
       "      <td>2.1</td>\n",
       "    </tr>\n",
       "    <tr>\n",
       "      <th>2</th>\n",
       "      <td>4</td>\n",
       "      <td>2.2</td>\n",
       "    </tr>\n",
       "    <tr>\n",
       "      <th>3</th>\n",
       "      <td>1</td>\n",
       "      <td>1.1</td>\n",
       "    </tr>\n",
       "  </tbody>\n",
       "</table>\n",
       "</div>"
      ],
      "text/plain": [
       "   A    B\n",
       "0  2  3.2\n",
       "1  3  2.1\n",
       "2  4  2.2\n",
       "3  1  1.1"
      ]
     },
     "execution_count": 5,
     "metadata": {
      "tags": []
     },
     "output_type": "execute_result"
    }
   ],
   "source": [
    "mon_df"
   ]
  },
  {
   "cell_type": "code",
   "execution_count": 0,
   "metadata": {
    "colab": {},
    "colab_type": "code",
    "id": "PWZLr_Jy2RbV"
   },
   "outputs": [],
   "source": [
    "X = pd.read_csv('train_data_cleaned.csv')"
   ]
  },
  {
   "cell_type": "code",
   "execution_count": 0,
   "metadata": {
    "colab": {
     "base_uri": "https://localhost:8080/",
     "height": 461
    },
    "colab_type": "code",
    "id": "nJl-LriF29iX",
    "outputId": "a0c24cea-5f85-4cbb-96de-26709e555370"
   },
   "outputs": [
    {
     "data": {
      "text/html": [
       "<div>\n",
       "<style scoped>\n",
       "    .dataframe tbody tr th:only-of-type {\n",
       "        vertical-align: middle;\n",
       "    }\n",
       "\n",
       "    .dataframe tbody tr th {\n",
       "        vertical-align: top;\n",
       "    }\n",
       "\n",
       "    .dataframe thead th {\n",
       "        text-align: right;\n",
       "    }\n",
       "</style>\n",
       "<table border=\"1\" class=\"dataframe\">\n",
       "  <thead>\n",
       "    <tr style=\"text-align: right;\">\n",
       "      <th></th>\n",
       "      <th>Unnamed: 0</th>\n",
       "      <th>radius_0</th>\n",
       "      <th>texture_0</th>\n",
       "      <th>perimeter_0</th>\n",
       "      <th>radius_1</th>\n",
       "      <th>texture_1</th>\n",
       "      <th>perimeter_1</th>\n",
       "      <th>radius_2</th>\n",
       "      <th>texture_2</th>\n",
       "      <th>perimeter_2</th>\n",
       "      <th>age</th>\n",
       "      <th>cancer_type</th>\n",
       "      <th>diff_diagnose_traitement</th>\n",
       "    </tr>\n",
       "  </thead>\n",
       "  <tbody>\n",
       "    <tr>\n",
       "      <th>0</th>\n",
       "      <td>0</td>\n",
       "      <td>19.858394</td>\n",
       "      <td>27.204437</td>\n",
       "      <td>136.324256</td>\n",
       "      <td>22.683290</td>\n",
       "      <td>32.802578</td>\n",
       "      <td>119.523841</td>\n",
       "      <td>21.477052</td>\n",
       "      <td>27.307087</td>\n",
       "      <td>82.366936</td>\n",
       "      <td>44</td>\n",
       "      <td>0</td>\n",
       "      <td>19267200.0</td>\n",
       "    </tr>\n",
       "    <tr>\n",
       "      <th>1</th>\n",
       "      <td>1</td>\n",
       "      <td>14.182069</td>\n",
       "      <td>15.754730</td>\n",
       "      <td>80.916983</td>\n",
       "      <td>14.043753</td>\n",
       "      <td>30.094704</td>\n",
       "      <td>94.911073</td>\n",
       "      <td>15.012329</td>\n",
       "      <td>17.855131</td>\n",
       "      <td>103.078286</td>\n",
       "      <td>59</td>\n",
       "      <td>1</td>\n",
       "      <td>110160000.0</td>\n",
       "    </tr>\n",
       "    <tr>\n",
       "      <th>2</th>\n",
       "      <td>4</td>\n",
       "      <td>14.875600</td>\n",
       "      <td>17.534187</td>\n",
       "      <td>98.545830</td>\n",
       "      <td>14.380683</td>\n",
       "      <td>26.190447</td>\n",
       "      <td>89.712492</td>\n",
       "      <td>12.930685</td>\n",
       "      <td>19.856687</td>\n",
       "      <td>108.380754</td>\n",
       "      <td>21</td>\n",
       "      <td>1</td>\n",
       "      <td>49420800.0</td>\n",
       "    </tr>\n",
       "    <tr>\n",
       "      <th>3</th>\n",
       "      <td>7</td>\n",
       "      <td>14.292161</td>\n",
       "      <td>28.430808</td>\n",
       "      <td>81.293588</td>\n",
       "      <td>15.042501</td>\n",
       "      <td>36.480522</td>\n",
       "      <td>78.668608</td>\n",
       "      <td>14.584187</td>\n",
       "      <td>24.055640</td>\n",
       "      <td>126.014415</td>\n",
       "      <td>40</td>\n",
       "      <td>1</td>\n",
       "      <td>62467200.0</td>\n",
       "    </tr>\n",
       "    <tr>\n",
       "      <th>4</th>\n",
       "      <td>8</td>\n",
       "      <td>13.119916</td>\n",
       "      <td>14.619103</td>\n",
       "      <td>88.293516</td>\n",
       "      <td>13.093215</td>\n",
       "      <td>12.299673</td>\n",
       "      <td>81.907981</td>\n",
       "      <td>13.963749</td>\n",
       "      <td>16.908342</td>\n",
       "      <td>56.235029</td>\n",
       "      <td>43</td>\n",
       "      <td>1</td>\n",
       "      <td>21081600.0</td>\n",
       "    </tr>\n",
       "    <tr>\n",
       "      <th>...</th>\n",
       "      <td>...</td>\n",
       "      <td>...</td>\n",
       "      <td>...</td>\n",
       "      <td>...</td>\n",
       "      <td>...</td>\n",
       "      <td>...</td>\n",
       "      <td>...</td>\n",
       "      <td>...</td>\n",
       "      <td>...</td>\n",
       "      <td>...</td>\n",
       "      <td>...</td>\n",
       "      <td>...</td>\n",
       "      <td>...</td>\n",
       "    </tr>\n",
       "    <tr>\n",
       "      <th>194</th>\n",
       "      <td>390</td>\n",
       "      <td>14.848246</td>\n",
       "      <td>20.464676</td>\n",
       "      <td>117.535591</td>\n",
       "      <td>15.405057</td>\n",
       "      <td>22.227830</td>\n",
       "      <td>106.933004</td>\n",
       "      <td>16.341575</td>\n",
       "      <td>19.945252</td>\n",
       "      <td>176.030398</td>\n",
       "      <td>36</td>\n",
       "      <td>0</td>\n",
       "      <td>62035200.0</td>\n",
       "    </tr>\n",
       "    <tr>\n",
       "      <th>195</th>\n",
       "      <td>391</td>\n",
       "      <td>21.081445</td>\n",
       "      <td>20.429425</td>\n",
       "      <td>114.246985</td>\n",
       "      <td>17.505730</td>\n",
       "      <td>49.229470</td>\n",
       "      <td>161.196507</td>\n",
       "      <td>18.300994</td>\n",
       "      <td>22.080930</td>\n",
       "      <td>120.032441</td>\n",
       "      <td>27</td>\n",
       "      <td>0</td>\n",
       "      <td>42595200.0</td>\n",
       "    </tr>\n",
       "    <tr>\n",
       "      <th>196</th>\n",
       "      <td>392</td>\n",
       "      <td>21.452732</td>\n",
       "      <td>24.270587</td>\n",
       "      <td>165.240157</td>\n",
       "      <td>18.315527</td>\n",
       "      <td>27.464137</td>\n",
       "      <td>112.425470</td>\n",
       "      <td>18.751829</td>\n",
       "      <td>17.959451</td>\n",
       "      <td>69.344406</td>\n",
       "      <td>18</td>\n",
       "      <td>0</td>\n",
       "      <td>39571200.0</td>\n",
       "    </tr>\n",
       "    <tr>\n",
       "      <th>197</th>\n",
       "      <td>395</td>\n",
       "      <td>11.901766</td>\n",
       "      <td>14.899430</td>\n",
       "      <td>75.271179</td>\n",
       "      <td>11.915226</td>\n",
       "      <td>27.449196</td>\n",
       "      <td>83.673309</td>\n",
       "      <td>11.747213</td>\n",
       "      <td>22.852121</td>\n",
       "      <td>134.297230</td>\n",
       "      <td>34</td>\n",
       "      <td>1</td>\n",
       "      <td>36806400.0</td>\n",
       "    </tr>\n",
       "    <tr>\n",
       "      <th>198</th>\n",
       "      <td>396</td>\n",
       "      <td>13.017187</td>\n",
       "      <td>22.818286</td>\n",
       "      <td>76.971805</td>\n",
       "      <td>10.732125</td>\n",
       "      <td>16.765887</td>\n",
       "      <td>70.390956</td>\n",
       "      <td>12.042109</td>\n",
       "      <td>22.889621</td>\n",
       "      <td>190.688277</td>\n",
       "      <td>32</td>\n",
       "      <td>1</td>\n",
       "      <td>75340800.0</td>\n",
       "    </tr>\n",
       "  </tbody>\n",
       "</table>\n",
       "<p>199 rows × 13 columns</p>\n",
       "</div>"
      ],
      "text/plain": [
       "     Unnamed: 0   radius_0  ...  cancer_type  diff_diagnose_traitement\n",
       "0             0  19.858394  ...            0                19267200.0\n",
       "1             1  14.182069  ...            1               110160000.0\n",
       "2             4  14.875600  ...            1                49420800.0\n",
       "3             7  14.292161  ...            1                62467200.0\n",
       "4             8  13.119916  ...            1                21081600.0\n",
       "..          ...        ...  ...          ...                       ...\n",
       "194         390  14.848246  ...            0                62035200.0\n",
       "195         391  21.081445  ...            0                42595200.0\n",
       "196         392  21.452732  ...            0                39571200.0\n",
       "197         395  11.901766  ...            1                36806400.0\n",
       "198         396  13.017187  ...            1                75340800.0\n",
       "\n",
       "[199 rows x 13 columns]"
      ]
     },
     "execution_count": 7,
     "metadata": {
      "tags": []
     },
     "output_type": "execute_result"
    }
   ],
   "source": [
    "X"
   ]
  },
  {
   "cell_type": "code",
   "execution_count": 0,
   "metadata": {
    "colab": {
     "base_uri": "https://localhost:8080/",
     "height": 243
    },
    "colab_type": "code",
    "id": "XU2NFXgJ2-W7",
    "outputId": "5c0bb10e-fe1b-475e-b973-f5377a9c0bff"
   },
   "outputs": [
    {
     "data": {
      "text/plain": [
       "0        0\n",
       "1        1\n",
       "2        4\n",
       "3        7\n",
       "4        8\n",
       "      ... \n",
       "194    390\n",
       "195    391\n",
       "196    392\n",
       "197    395\n",
       "198    396\n",
       "Name: Unnamed: 0, Length: 199, dtype: int64"
      ]
     },
     "execution_count": 12,
     "metadata": {
      "tags": []
     },
     "output_type": "execute_result"
    }
   ],
   "source": [
    "X.pop('Unnamed: 0')"
   ]
  },
  {
   "cell_type": "markdown",
   "metadata": {
    "colab_type": "text",
    "id": "WnQhuESgw3xh"
   },
   "source": []
  },
  {
   "cell_type": "code",
   "execution_count": 0,
   "metadata": {
    "colab": {
     "base_uri": "https://localhost:8080/",
     "height": 92
    },
    "colab_type": "code",
    "id": "N53S2ql9FeJX",
    "outputId": "f8044f89-d54c-4feb-d127-91ca3b32a9f4"
   },
   "outputs": [
    {
     "data": {
      "text/plain": [
       "Index(['radius_0', 'texture_0', 'perimeter_0', 'radius_1', 'texture_1',\n",
       "       'perimeter_1', 'radius_2', 'texture_2', 'perimeter_2', 'age',\n",
       "       'cancer_type', 'diff_diagnose_traitement'],\n",
       "      dtype='object')"
      ]
     },
     "execution_count": 13,
     "metadata": {
      "tags": []
     },
     "output_type": "execute_result"
    }
   ],
   "source": [
    "X.columns"
   ]
  },
  {
   "cell_type": "code",
   "execution_count": 0,
   "metadata": {
    "colab": {},
    "colab_type": "code",
    "id": "VxE3rkgWFhvv"
   },
   "outputs": [],
   "source": [
    "Y = X.pop('cancer_type')"
   ]
  },
  {
   "cell_type": "code",
   "execution_count": 0,
   "metadata": {
    "colab": {},
    "colab_type": "code",
    "id": "OT2Mccf5FwcA"
   },
   "outputs": [],
   "source": [
    "from sklearn.preprocessing import StandardScaler"
   ]
  },
  {
   "cell_type": "code",
   "execution_count": 0,
   "metadata": {
    "colab": {},
    "colab_type": "code",
    "id": "ZaqC1iaQyZar"
   },
   "outputs": [],
   "source": []
  },
  {
   "cell_type": "code",
   "execution_count": 0,
   "metadata": {
    "colab": {},
    "colab_type": "code",
    "id": "I1DVGRaLGnCO"
   },
   "outputs": [],
   "source": [
    "scaler = StandardScaler().fit(X)"
   ]
  },
  {
   "cell_type": "code",
   "execution_count": 0,
   "metadata": {
    "colab": {},
    "colab_type": "code",
    "id": "KWYnuppxG-S3"
   },
   "outputs": [],
   "source": [
    "X_s = scaler.transform(X)"
   ]
  },
  {
   "cell_type": "code",
   "execution_count": 0,
   "metadata": {
    "colab": {},
    "colab_type": "code",
    "id": "qVcyKKEQyxdV"
   },
   "outputs": [],
   "source": []
  },
  {
   "cell_type": "code",
   "execution_count": 0,
   "metadata": {
    "colab": {
     "base_uri": "https://localhost:8080/",
     "height": 262
    },
    "colab_type": "code",
    "id": "VjKEwMr6HLD1",
    "outputId": "11de2a5d-b565-467f-906d-f8d91fd83498"
   },
   "outputs": [
    {
     "data": {
      "text/plain": [
       "array([[-0.01023021,  1.42125123,  1.85007462, ..., -0.85700874,\n",
       "         0.34118461, -1.08993006],\n",
       "       [-0.1190996 , -0.55294219, -0.49659964, ..., -0.44725494,\n",
       "         1.46281022,  0.61182467],\n",
       "       [-0.10579799, -0.2461229 ,  0.25003812, ..., -0.3423508 ,\n",
       "        -1.37864133, -0.52537455],\n",
       "       ...,\n",
       "       [ 0.02034848,  0.91538789,  3.07475504, ..., -1.11464676,\n",
       "        -1.60296645, -0.70978523],\n",
       "       [-0.16283481, -0.7004157 , -0.73571738, ...,  0.17038134,\n",
       "        -0.4065658 , -0.76154963],\n",
       "       [-0.14144153,  0.66497771, -0.66369046, ...,  1.28602305,\n",
       "        -0.55611588, -0.04008327]])"
      ]
     },
     "execution_count": 18,
     "metadata": {
      "tags": []
     },
     "output_type": "execute_result"
    }
   ],
   "source": [
    "X_s"
   ]
  },
  {
   "cell_type": "code",
   "execution_count": 0,
   "metadata": {
    "colab": {
     "base_uri": "https://localhost:8080/",
     "height": 36
    },
    "colab_type": "code",
    "id": "JjwUlmXQHNyv",
    "outputId": "afa56fe9-7cb6-48d0-f372-6da4bab22479"
   },
   "outputs": [
    {
     "data": {
      "text/plain": [
       "4.179185803065916e-17"
      ]
     },
     "execution_count": 19,
     "metadata": {
      "tags": []
     },
     "output_type": "execute_result"
    }
   ],
   "source": [
    "X_s.mean()"
   ]
  },
  {
   "cell_type": "code",
   "execution_count": 0,
   "metadata": {
    "colab": {
     "base_uri": "https://localhost:8080/",
     "height": 36
    },
    "colab_type": "code",
    "id": "Njfguc97HZgG",
    "outputId": "58bcdcb0-ceb4-4566-ba2e-7fd24592168b"
   },
   "outputs": [
    {
     "data": {
      "text/plain": [
       "1.0"
      ]
     },
     "execution_count": 20,
     "metadata": {
      "tags": []
     },
     "output_type": "execute_result"
    }
   ],
   "source": [
    "X_s.std()"
   ]
  },
  {
   "cell_type": "code",
   "execution_count": 0,
   "metadata": {
    "colab": {},
    "colab_type": "code",
    "id": "sP7vB0HFHdvX"
   },
   "outputs": [],
   "source": [
    "from sklearn.svm import SVC"
   ]
  },
  {
   "cell_type": "code",
   "execution_count": 0,
   "metadata": {
    "colab": {},
    "colab_type": "code",
    "id": "JR3R5TCwHsio"
   },
   "outputs": [],
   "source": [
    "clf = SVC(kernel='linear')"
   ]
  },
  {
   "cell_type": "code",
   "execution_count": 0,
   "metadata": {
    "colab": {},
    "colab_type": "code",
    "id": "f9A2BbAusCyw"
   },
   "outputs": [],
   "source": [
    "from sklearn.neighbors import KNeighborsClassifier\n",
    "from sklearn.svm import SVC\n",
    "from sklearn.gaussian_process import GaussianProcessClassifier\n",
    "from sklearn.tree import DecisionTreeClassifier\n",
    "from sklearn.ensemble import RandomForestClassifier, AdaBoostClassifier\n",
    "from sklearn.naive_bayes import GaussianNB\n",
    "from sklearn.discriminant_analysis import QuadraticDiscriminantAnalysis"
   ]
  },
  {
   "cell_type": "code",
   "execution_count": 0,
   "metadata": {
    "colab": {
     "base_uri": "https://localhost:8080/",
     "height": 74
    },
    "colab_type": "code",
    "id": "7cxHlU7YID6g",
    "outputId": "cbfa87c7-758a-41f7-dee8-f7cb0a1bfa64"
   },
   "outputs": [
    {
     "data": {
      "text/plain": [
       "KNeighborsClassifier(algorithm='auto', leaf_size=30, metric='minkowski',\n",
       "                     metric_params=None, n_jobs=None, n_neighbors=5, p=2,\n",
       "                     weights='uniform')"
      ]
     },
     "execution_count": 45,
     "metadata": {
      "tags": []
     },
     "output_type": "execute_result"
    }
   ],
   "source": [
    "clf.fit(X_s,Y.to_numpy())"
   ]
  },
  {
   "cell_type": "code",
   "execution_count": 0,
   "metadata": {
    "colab": {
     "base_uri": "https://localhost:8080/",
     "height": 36
    },
    "colab_type": "code",
    "id": "8qC78ZJbIZvw",
    "outputId": "826a5f95-0114-45f1-db1d-a8aeb2bfd35c"
   },
   "outputs": [
    {
     "data": {
      "text/plain": [
       "array([1])"
      ]
     },
     "execution_count": 26,
     "metadata": {
      "tags": []
     },
     "output_type": "execute_result"
    }
   ],
   "source": [
    "clf."
   ]
  },
  {
   "cell_type": "code",
   "execution_count": 0,
   "metadata": {
    "colab": {
     "base_uri": "https://localhost:8080/",
     "height": 74
    },
    "colab_type": "code",
    "id": "Et7wO0LmIdYn",
    "outputId": "1fd30209-9b8f-411c-b22b-516211cf41b6"
   },
   "outputs": [
    {
     "data": {
      "text/plain": [
       "array([-0.10579799, -0.2461229 ,  0.25003812,  0.02752727, -0.37676994,\n",
       "       -0.14356703, -0.32022804,  0.01788668, -0.3423508 , -1.37864133,\n",
       "       -0.52537455])"
      ]
     },
     "execution_count": 27,
     "metadata": {
      "tags": []
     },
     "output_type": "execute_result"
    }
   ],
   "source": [
    "X_s[2]"
   ]
  },
  {
   "cell_type": "code",
   "execution_count": 0,
   "metadata": {
    "colab": {},
    "colab_type": "code",
    "id": "MIRBiX6mIxpP"
   },
   "outputs": [],
   "source": [
    "import numpy as np \n",
    "echantillon = np.array([-0.10579799, -0.3061229 ,  0.25003812,  0.02752727, -0.37676994,\n",
    "       -0.14356703, -0.32022804,  0.02088668, -0.5023508 , -1.37864133,\n",
    "       -0.52537455])"
   ]
  },
  {
   "cell_type": "code",
   "execution_count": 0,
   "metadata": {
    "colab": {
     "base_uri": "https://localhost:8080/",
     "height": 36
    },
    "colab_type": "code",
    "id": "wjQDzLA2I9wY",
    "outputId": "69729ca1-385f-4625-e4c4-357c46e88735"
   },
   "outputs": [
    {
     "data": {
      "text/plain": [
       "array([1])"
      ]
     },
     "execution_count": 30,
     "metadata": {
      "tags": []
     },
     "output_type": "execute_result"
    }
   ],
   "source": [
    "clf.predict([echantillon])"
   ]
  },
  {
   "cell_type": "code",
   "execution_count": 0,
   "metadata": {
    "colab": {},
    "colab_type": "code",
    "id": "oCYbC3b4JFpH"
   },
   "outputs": [],
   "source": [
    "from sklearn.model_selection import cross_val_score, ShuffleSplit, train_test_split"
   ]
  },
  {
   "cell_type": "code",
   "execution_count": 0,
   "metadata": {
    "colab": {},
    "colab_type": "code",
    "id": "eWJZcPMGKuu9"
   },
   "outputs": [],
   "source": [
    "cv = ShuffleSplit(n_splits=10, test_size=0.5)"
   ]
  },
  {
   "cell_type": "code",
   "execution_count": 0,
   "metadata": {
    "colab": {},
    "colab_type": "code",
    "id": "cshPNccILCZC"
   },
   "outputs": [],
   "source": [
    "scores = cross_val_score(clf, X_s, Y.to_numpy(),cv=cv)"
   ]
  },
  {
   "cell_type": "code",
   "execution_count": 0,
   "metadata": {
    "colab": {
     "base_uri": "https://localhost:8080/",
     "height": 36
    },
    "colab_type": "code",
    "id": "r_dPMe0OLXL_",
    "outputId": "00efc381-1184-48ab-a9e8-5ef836faac37"
   },
   "outputs": [
    {
     "data": {
      "text/plain": [
       "array([0.81, 0.83, 0.89, 0.87, 0.82, 0.9 , 0.85, 0.88, 0.85, 0.87])"
      ]
     },
     "execution_count": 35,
     "metadata": {
      "tags": []
     },
     "output_type": "execute_result"
    }
   ],
   "source": [
    "scores"
   ]
  },
  {
   "cell_type": "code",
   "execution_count": 0,
   "metadata": {
    "colab": {
     "base_uri": "https://localhost:8080/",
     "height": 36
    },
    "colab_type": "code",
    "id": "YLsLB9qRLY0o",
    "outputId": "d0974120-0fce-4c94-b3d7-6f5e061814c8"
   },
   "outputs": [
    {
     "data": {
      "text/plain": [
       "0.857"
      ]
     },
     "execution_count": 36,
     "metadata": {
      "tags": []
     },
     "output_type": "execute_result"
    }
   ],
   "source": [
    "scores.mean()"
   ]
  },
  {
   "cell_type": "code",
   "execution_count": 0,
   "metadata": {
    "colab": {
     "base_uri": "https://localhost:8080/",
     "height": 36
    },
    "colab_type": "code",
    "id": "UpE6JsgJLfNC",
    "outputId": "462f5445-37f7-437b-b5a5-a934196a195a"
   },
   "outputs": [
    {
     "data": {
      "text/plain": [
       "0.057306195127577626"
      ]
     },
     "execution_count": 37,
     "metadata": {
      "tags": []
     },
     "output_type": "execute_result"
    }
   ],
   "source": [
    "scores.std()*2 "
   ]
  },
  {
   "cell_type": "code",
   "execution_count": 0,
   "metadata": {
    "colab": {},
    "colab_type": "code",
    "id": "ov5RS6n8LmCX"
   },
   "outputs": [],
   "source": [
    "from sklearn.neighbors import KNeighborsClassifier\n",
    "from sklearn.svm import SVC\n",
    "from sklearn.gaussian_process import GaussianProcessClassifier\n",
    "from sklearn.tree import DecisionTreeClassifier\n",
    "from sklearn.ensemble import RandomForestClassifier, AdaBoostClassifier\n",
    "from sklearn.naive_bayes import GaussianNB\n",
    "from sklearn.discriminant_analysis import QuadraticDiscriminantAnalysis"
   ]
  },
  {
   "cell_type": "code",
   "execution_count": 0,
   "metadata": {
    "colab": {
     "base_uri": "https://localhost:8080/",
     "height": 262
    },
    "colab_type": "code",
    "id": "u2wdTX-OMVzp",
    "outputId": "4122c89c-d100-4773-d0f1-d1bec58138b6"
   },
   "outputs": [
    {
     "data": {
      "text/plain": [
       "array([[-0.01023021,  1.42125123,  1.85007462, ..., -0.85700874,\n",
       "         0.34118461, -1.08993006],\n",
       "       [-0.1190996 , -0.55294219, -0.49659964, ..., -0.44725494,\n",
       "         1.46281022,  0.61182467],\n",
       "       [-0.10579799, -0.2461229 ,  0.25003812, ..., -0.3423508 ,\n",
       "        -1.37864133, -0.52537455],\n",
       "       ...,\n",
       "       [ 0.02034848,  0.91538789,  3.07475504, ..., -1.11464676,\n",
       "        -1.60296645, -0.70978523],\n",
       "       [-0.16283481, -0.7004157 , -0.73571738, ...,  0.17038134,\n",
       "        -0.4065658 , -0.76154963],\n",
       "       [-0.14144153,  0.66497771, -0.66369046, ...,  1.28602305,\n",
       "        -0.55611588, -0.04008327]])"
      ]
     },
     "execution_count": 43,
     "metadata": {
      "tags": []
     },
     "output_type": "execute_result"
    }
   ],
   "source": [
    "X_s"
   ]
  },
  {
   "cell_type": "code",
   "execution_count": 0,
   "metadata": {
    "colab": {
     "base_uri": "https://localhost:8080/",
     "height": 36
    },
    "colab_type": "code",
    "id": "tzjf_sjVr5S8",
    "outputId": "d17e351e-9d3a-4078-bfab-7bb9a9018cca"
   },
   "outputs": [
    {
     "data": {
      "text/plain": [
       "199"
      ]
     },
     "execution_count": 55,
     "metadata": {
      "tags": []
     },
     "output_type": "execute_result"
    }
   ],
   "source": [
    "len(X_s)"
   ]
  },
  {
   "cell_type": "code",
   "execution_count": 0,
   "metadata": {
    "colab": {},
    "colab_type": "code",
    "id": "ojZiKdp7vh-X"
   },
   "outputs": [],
   "source": [
    "Xtr, Xte, Ytr, Yte = train_test_split(X_s,Y.to_numpy(),test_size=0.5, random_state=0)"
   ]
  },
  {
   "cell_type": "code",
   "execution_count": 0,
   "metadata": {
    "colab": {
     "base_uri": "https://localhost:8080/",
     "height": 92
    },
    "colab_type": "code",
    "id": "nySqzqWHvwMI",
    "outputId": "2d20a510-c14e-445b-d955-6d1255d3e4ff"
   },
   "outputs": [
    {
     "data": {
      "text/plain": [
       "SVC(C=1.0, break_ties=False, cache_size=200, class_weight=None, coef0=0.0,\n",
       "    decision_function_shape='ovr', degree=3, gamma='scale', kernel='linear',\n",
       "    max_iter=-1, probability=False, random_state=None, shrinking=True,\n",
       "    tol=0.001, verbose=False)"
      ]
     },
     "execution_count": 58,
     "metadata": {
      "tags": []
     },
     "output_type": "execute_result"
    }
   ],
   "source": [
    "clf.fit(Xtr,Ytr)"
   ]
  },
  {
   "cell_type": "code",
   "execution_count": 0,
   "metadata": {
    "colab": {
     "base_uri": "https://localhost:8080/",
     "height": 168
    },
    "colab_type": "code",
    "id": "OBYpmzO6wUTc",
    "outputId": "bf11b46a-56ee-4633-81bc-6895f47e71dc"
   },
   "outputs": [
    {
     "name": "stdout",
     "output_type": "stream",
     "text": [
      "Nearest Neigbours 0.85 (+/- 0.05)\n",
      "Support Vector Machine 0.85 (+/- 0.04)\n",
      "Gaussian Process 0.86 (+/- 0.04)\n",
      "Decision Tree 0.83 (+/- 0.09)\n",
      "Random Forest 0.89 (+/- 0.04)\n",
      "Ada Boost 0.83 (+/- 0.06)\n",
      "Naive Bayes 0.89 (+/- 0.06)\n",
      "QDA 0.80 (+/- 0.08)\n"
     ]
    }
   ],
   "source": [
    "from sklearn.neighbors import KNeighborsClassifier\n",
    "from sklearn.svm import SVC\n",
    "from sklearn.gaussian_process import GaussianProcessClassifier\n",
    "from sklearn.tree import DecisionTreeClassifier\n",
    "from sklearn.ensemble import RandomForestClassifier, AdaBoostClassifier\n",
    "from sklearn.naive_bayes import GaussianNB\n",
    "from sklearn.discriminant_analysis import QuadraticDiscriminantAnalysis\n",
    "\n",
    "from sklearn.model_selection import cross_val_score, ShuffleSplit, train_test_split\n",
    "from sklearn.preprocessing import StandardScaler\n",
    "\n",
    "import pandas as pd\n",
    "\n",
    "X = pd.read_csv('train_data_cleaned.csv')\n",
    "X.pop('Unnamed: 0')\n",
    "Y = X.pop('cancer_type')\n",
    "scaler = StandardScaler().fit(X)\n",
    "X_s = scaler.transform(X)\n",
    "\n",
    "cv = ShuffleSplit(n_splits=10, test_size=0.5)\n",
    "\n",
    "names = ['Nearest Neigbours', 'Support Vector Machine', 'Gaussian Process', \n",
    "         'Decision Tree', 'Random Forest', 'Ada Boost', 'Naive Bayes', 'QDA']\n",
    "\n",
    "clfs = [ KNeighborsClassifier(), SVC(kernel='linear'), \n",
    "        GaussianProcessClassifier(), DecisionTreeClassifier(),\n",
    "        RandomForestClassifier(), AdaBoostClassifier(), GaussianNB(), \n",
    "        QuadraticDiscriminantAnalysis()]\n",
    "\n",
    "for i in range(len(clfs)):\n",
    "  clf = clfs[i]\n",
    "  scores = cross_val_score(clf, X_s, Y.to_numpy(),cv=cv)\n",
    "  print(names[i] + \" %0.2f (+/- %0.2f)\" % (scores.mean(), scores.std() * 2))\n"
   ]
  },
  {
   "cell_type": "code",
   "execution_count": 0,
   "metadata": {
    "colab": {},
    "colab_type": "code",
    "id": "qmbf_6fC4-xI"
   },
   "outputs": [],
   "source": []
  }
 ],
 "metadata": {
  "colab": {
   "collapsed_sections": [],
   "name": "cours1.ipynb",
   "provenance": []
  },
  "kernelspec": {
   "display_name": "Python 3",
   "language": "python",
   "name": "python3"
  },
  "language_info": {
   "codemirror_mode": {
    "name": "ipython",
    "version": 3
   },
   "file_extension": ".py",
   "mimetype": "text/x-python",
   "name": "python",
   "nbconvert_exporter": "python",
   "pygments_lexer": "ipython3",
   "version": "3.6.9"
  }
 },
 "nbformat": 4,
 "nbformat_minor": 1
}
